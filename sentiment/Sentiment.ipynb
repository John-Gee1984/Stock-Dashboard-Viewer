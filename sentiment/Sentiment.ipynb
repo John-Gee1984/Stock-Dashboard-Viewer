{
 "cells": [
  {
   "cell_type": "markdown",
   "metadata": {},
   "source": [
    "# Importing the Required Libraries "
   ]
  },
  {
   "cell_type": "code",
   "execution_count": 42,
   "metadata": {},
   "outputs": [],
   "source": [
    "# loading the reqed libraries for scraping from Twitter and Reddit \n",
    "import tweepy \n",
    "import hvplot.pandas\n",
    "import praw\n",
    "import os  \n",
    "from dotenv import load_dotenv\n",
    "import torch \n",
    "import pandas as pd\n",
    "import praw\n",
    "from matplotlib import pyplot as plt \n",
    "%matplotlib inline \n",
    "\n",
    "\n",
    "\n"
   ]
  },
  {
   "cell_type": "code",
   "execution_count": 2,
   "metadata": {},
   "outputs": [],
   "source": [
    "# Loading the env varibles for the twitter and Reddit \n",
    "load_dotenv()\n",
    "twit_api= os.getenv(\"TWIT_API\")\n",
    "twit_secret = os.getenv(\"TWIT_SECRET\")\n",
    "access_token = os.getenv(\"ACCESS_TOKEN\")\n",
    "access_token_secret = os.getenv(\"ACCESS_TOKEN_SECRET\")"
   ]
  },
  {
   "cell_type": "markdown",
   "metadata": {},
   "source": [
    "# Grabbing the Twitter Data"
   ]
  },
  {
   "cell_type": "code",
   "execution_count": 3,
   "metadata": {},
   "outputs": [
    {
     "name": "stdout",
     "output_type": "stream",
     "text": [
      "                User                                              Tweet\n",
      "0     taylorjulien35  RT @convexical: Converting $5,000,000 of #btc ...\n",
      "1          Mr_chispa  @mis2centavos Para cositorto esa bandeja esta ...\n",
      "2      aidenkang_btc  RT @ant_stock_park: ㅋㅋㅋㅋㅋㅋ 오픈씨에 박아버렸네 ㅋㅋㅋㅋㅋㅋ h...\n",
      "3    CryptoRomeroMan  🇺🇸🇬🇧 Welcome to the official Twitter account o...\n",
      "4           kedai025  RT @Heather99924565: Wow #2112Run is doing a l...\n",
      "..               ...                                                ...\n",
      "295        coder_487  RT @NewsQnt: Everyone knows of $BTC and $ETH …...\n",
      "296       robostopia  💰 Market Cap: $2,017,893,783,996\\n👊 BTC Domina...\n",
      "297         lemunche  RT @rick_bitcoin: My Brother #XVG $XVG 🚀🚀🚀 #BT...\n",
      "298     thebitofcoin  He just hates #btc so much, imagine living whi...\n",
      "299   criptohispania  Rojan Crypto news\\n▶ https://t.co/gHuToyMoRx\\n...\n",
      "\n",
      "[300 rows x 2 columns]\n"
     ]
    }
   ],
   "source": [
    "\n",
    "# authentication\n",
    "auth = tweepy.OAuthHandler(twit_api, twit_secret)\n",
    "auth.set_access_token(access_token, access_token_secret)\n",
    "\n",
    "api = tweepy.API(auth)\n",
    "\n",
    "\n",
    "# tweets = tweepy.Cursor(api.user_timeline, screen_name=user, count=200, tweet_mode='extended').items(limit)\n",
    "\n",
    "# search tweets\n",
    "keywords = 'BTC'\n",
    "limit=300\n",
    "\n",
    "tweets = tweepy.Cursor(api.search_tweets, q=keywords, count=10, tweet_mode='extended').items(limit)\n",
    "\n",
    "# tweets = api.user_timeline(screen_name=user, count=limit, tweet_mode='extended')\n",
    "\n",
    "# create DataFrame\n",
    "columns = ['User', 'Tweet']\n",
    "data = []\n",
    "\n",
    "for tweet in tweets:\n",
    "    data.append([tweet.user.screen_name, tweet.full_text])\n",
    "\n",
    "df = pd.DataFrame(data, columns=columns)\n",
    "\n",
    "print(df)\n",
    "df.to_csv('NVDA.csv')"
   ]
  },
  {
   "cell_type": "code",
   "execution_count": 4,
   "metadata": {},
   "outputs": [],
   "source": [
    "import praw"
   ]
  },
  {
   "cell_type": "code",
   "execution_count": 5,
   "metadata": {},
   "outputs": [],
   "source": [
    "reddit = praw.Reddit(\n",
    "    client_id=os.getenv(\"REDDIT_CLIENT_ID\"),\n",
    "    client_secret=os.getenv(\"REDDIT_SEC\"),\n",
    "    password=os.getenv(\"REDDIT_PASS\"),\n",
    "    user_agent=\"stock_dashboard by u/CryptoFoDayz\",\n",
    "    username=os.getenv(\"REDDIT_USER\"),\n",
    ")\n",
    "reddit.read_only = True\n"
   ]
  },
  {
   "cell_type": "code",
   "execution_count": 62,
   "metadata": {},
   "outputs": [
    {
     "name": "stdout",
     "output_type": "stream",
     "text": [
      "stocks\n",
      "StocksAndTrading\n",
      "stockstobuytoday\n",
      "Stocks_Picks\n",
      "stockspiking\n",
      "Stocks_Philippines\n",
      "StockSDC\n",
      "StocksAndBoobs\n",
      "StockSheets\n",
      "StocksThatTrend\n"
     ]
    }
   ],
   "source": [
    "for subreddit in reddit.subreddits.search\n",
    "    print(subreddit)"
   ]
  },
  {
   "cell_type": "markdown",
   "metadata": {},
   "source": [
    "# Perform Sentiment Analysis "
   ]
  },
  {
   "cell_type": "code",
   "execution_count": 52,
   "metadata": {},
   "outputs": [],
   "source": [
    "\n",
    "from transformers import AutoTokenizer, AutoModelForSequenceClassification\n",
    "# create tokenizer variable to chose the model \n",
    "tokenizer = AutoTokenizer.from_pretrained(\"finiteautomata/bertweet-base-sentiment-analysis\")\n",
    "\n",
    "model = AutoModelForSequenceClassification.from_pretrained(\"finiteautomata/bertweet-base-sentiment-analysis\")\n",
    "\n"
   ]
  },
  {
   "cell_type": "code",
   "execution_count": 53,
   "metadata": {},
   "outputs": [],
   "source": [
    "# encode the list of tweet to create the sentiment score from a function\n",
    "def sentiment_score(tweet):\n",
    "    tokens = tokenizer.encode(tweet, return_tensors='pt')\n",
    "    result = model(tokens)\n",
    "    return int(torch.argmax(result.logits))+1"
   ]
  },
  {
   "cell_type": "code",
   "execution_count": 69,
   "metadata": {},
   "outputs": [
    {
     "data": {
      "text/html": [
       "<div><div id=0fe2bb1b-37e9-4e78-ba83-d86d0db0dc5b style=\"display:none; background-color:#9D6CFF; color:white; width:200px; height:30px; padding-left:5px; border-radius:4px; flex-direction:row; justify-content:space-around; align-items:center;\" onmouseover=\"this.style.backgroundColor='#BA9BF8'\" onmouseout=\"this.style.backgroundColor='#9D6CFF'\" onclick=\"window.commands?.execute('create-mitosheet-from-dataframe-output');\">See Full Dataframe in Mito</div> <script> if (window.commands.hasCommand('create-mitosheet-from-dataframe-output')) document.getElementById('0fe2bb1b-37e9-4e78-ba83-d86d0db0dc5b').style.display = 'flex' </script> <table border=\"1\" class=\"dataframe\">\n",
       "  <thead>\n",
       "    <tr style=\"text-align: right;\">\n",
       "      <th></th>\n",
       "      <th>User</th>\n",
       "      <th>Tweet</th>\n",
       "      <th>sentiment</th>\n",
       "    </tr>\n",
       "  </thead>\n",
       "  <tbody>\n",
       "    <tr>\n",
       "      <th>0</th>\n",
       "      <td>taylorjulien35</td>\n",
       "      <td>RT @convexical: Converting $5,000,000 of #btc into  @solana. https://t.co/iD1tOmZH5o</td>\n",
       "      <td>2</td>\n",
       "    </tr>\n",
       "    <tr>\n",
       "      <th>1</th>\n",
       "      <td>Mr_chispa</td>\n",
       "      <td>@mis2centavos Para cositorto esa bandeja esta valuada en 1 BTC...minimo..</td>\n",
       "      <td>2</td>\n",
       "    </tr>\n",
       "    <tr>\n",
       "      <th>2</th>\n",
       "      <td>aidenkang_btc</td>\n",
       "      <td>RT @ant_stock_park: ㅋㅋㅋㅋㅋㅋ 오픈씨에 박아버렸네 ㅋㅋㅋㅋㅋㅋ https://t.co/EwyyRKkLeP</td>\n",
       "      <td>2</td>\n",
       "    </tr>\n",
       "    <tr>\n",
       "      <th>3</th>\n",
       "      <td>CryptoRomeroMan</td>\n",
       "      <td>🇺🇸🇬🇧 Welcome to the official Twitter account of the character \"Romero Man\" transformed into a fantastic collection of 50 unique NFTs. Very soon they will be on sale, and you will be able to acquire the one that you like the most like everyone.\\n#RMNFT #ETH #NFT #BTC</td>\n",
       "      <td>3</td>\n",
       "    </tr>\n",
       "    <tr>\n",
       "      <th>4</th>\n",
       "      <td>kedai025</td>\n",
       "      <td>RT @Heather99924565: Wow #2112Run is doing a launch party today @ 4:20pm EST!!! Don't miss it!\\n\\n#ETH #ethereum #NFT #NFTCommunity #nfts #cr…</td>\n",
       "      <td>3</td>\n",
       "    </tr>\n",
       "    <tr>\n",
       "      <th>...</th>\n",
       "      <td>...</td>\n",
       "      <td>...</td>\n",
       "      <td>...</td>\n",
       "    </tr>\n",
       "    <tr>\n",
       "      <th>295</th>\n",
       "      <td>coder_487</td>\n",
       "      <td>RT @NewsQnt: Everyone knows of $BTC and $ETH …\\nBut did you ever heard of the Operating System of tomorrow?\\n\\n$QNT #Quant is the 🔑 to unlock…</td>\n",
       "      <td>2</td>\n",
       "    </tr>\n",
       "    <tr>\n",
       "      <th>296</th>\n",
       "      <td>robostopia</td>\n",
       "      <td>💰 Market Cap: $2,017,893,783,996\\n👊 BTC Dominance: 41.35%\\n💚 BTC: $44,021.17\\n💚 ETH: 0.07155181 BTC\\n❤ USDT: 0.00002273 BTC\\n💚 BNB: 0.00987337 BTC\\n❤ USDC: 0.00002270 BTC\\n⏰ 08.02.2022 05:13:59\\nℹ Powered by #Robostopia</td>\n",
       "      <td>2</td>\n",
       "    </tr>\n",
       "    <tr>\n",
       "      <th>297</th>\n",
       "      <td>lemunche</td>\n",
       "      <td>RT @rick_bitcoin: My Brother #XVG $XVG 🚀🚀🚀 #BTC https://t.co/eX9i6tTKAo</td>\n",
       "      <td>2</td>\n",
       "    </tr>\n",
       "    <tr>\n",
       "      <th>298</th>\n",
       "      <td>thebitofcoin</td>\n",
       "      <td>He just hates #btc so much, imagine living while harboring this negative obsession so deep in your heart. https://t.co/9s2fJ8w4O4</td>\n",
       "      <td>1</td>\n",
       "    </tr>\n",
       "    <tr>\n",
       "      <th>299</th>\n",
       "      <td>criptohispania</td>\n",
       "      <td>Rojan Crypto news\\n▶ https://t.co/gHuToyMoRx\\n@Rojankhzxr\\n#criptohispania #criptomonedas #binance #cripto #bitcoin #ethereum #bitcoins #btc #eth #blockchain #NFT #DeFi</td>\n",
       "      <td>2</td>\n",
       "    </tr>\n",
       "  </tbody>\n",
       "</table></div>"
      ],
      "text/plain": [
       "                User                                              Tweet  \\\n",
       "0     taylorjulien35  RT @convexical: Converting $5,000,000 of #btc ...   \n",
       "1          Mr_chispa  @mis2centavos Para cositorto esa bandeja esta ...   \n",
       "2      aidenkang_btc  RT @ant_stock_park: ㅋㅋㅋㅋㅋㅋ 오픈씨에 박아버렸네 ㅋㅋㅋㅋㅋㅋ h...   \n",
       "3    CryptoRomeroMan  🇺🇸🇬🇧 Welcome to the official Twitter account o...   \n",
       "4           kedai025  RT @Heather99924565: Wow #2112Run is doing a l...   \n",
       "..               ...                                                ...   \n",
       "295        coder_487  RT @NewsQnt: Everyone knows of $BTC and $ETH …...   \n",
       "296       robostopia  💰 Market Cap: $2,017,893,783,996\\n👊 BTC Domina...   \n",
       "297         lemunche  RT @rick_bitcoin: My Brother #XVG $XVG 🚀🚀🚀 #BT...   \n",
       "298     thebitofcoin  He just hates #btc so much, imagine living whi...   \n",
       "299   criptohispania  Rojan Crypto news\\n▶ https://t.co/gHuToyMoRx\\n...   \n",
       "\n",
       "     sentiment  \n",
       "0            2  \n",
       "1            2  \n",
       "2            2  \n",
       "3            3  \n",
       "4            3  \n",
       "..         ...  \n",
       "295          2  \n",
       "296          2  \n",
       "297          2  \n",
       "298          1  \n",
       "299          2  \n",
       "\n",
       "[300 rows x 3 columns]"
      ]
     },
     "execution_count": 69,
     "metadata": {},
     "output_type": "execute_result"
    }
   ],
   "source": [
    "df['sentiment'] = df['Tweet'].apply(lambda x: sentiment_score(x[:130]))\n",
    "df"
   ]
  },
  {
   "cell_type": "code",
   "execution_count": 66,
   "metadata": {},
   "outputs": [
    {
     "data": {
      "text/html": [
       "<div><div id=0802839c-11a6-4b27-861c-f68508c95124 style=\"display:none; background-color:#9D6CFF; color:white; width:200px; height:30px; padding-left:5px; border-radius:4px; flex-direction:row; justify-content:space-around; align-items:center;\" onmouseover=\"this.style.backgroundColor='#BA9BF8'\" onmouseout=\"this.style.backgroundColor='#9D6CFF'\" onclick=\"window.commands?.execute('create-mitosheet-from-dataframe-output');\">See Full Dataframe in Mito</div> <script> if (window.commands.hasCommand('create-mitosheet-from-dataframe-output')) document.getElementById('0802839c-11a6-4b27-861c-f68508c95124').style.display = 'flex' </script> <table border=\"1\" class=\"dataframe\">\n",
       "  <thead>\n",
       "    <tr style=\"text-align: right;\">\n",
       "      <th></th>\n",
       "      <th>User</th>\n",
       "      <th>Tweet</th>\n",
       "      <th>sentiment</th>\n",
       "    </tr>\n",
       "  </thead>\n",
       "  <tbody>\n",
       "    <tr>\n",
       "      <th>0</th>\n",
       "      <td>taylorjulien35</td>\n",
       "      <td>RT @convexical: Converting $5,000,000 of #btc into  @solana. https://t.co/iD1tOmZH5o</td>\n",
       "      <td>2</td>\n",
       "    </tr>\n",
       "    <tr>\n",
       "      <th>1</th>\n",
       "      <td>Mr_chispa</td>\n",
       "      <td>@mis2centavos Para cositorto esa bandeja esta valuada en 1 BTC...minimo..</td>\n",
       "      <td>2</td>\n",
       "    </tr>\n",
       "    <tr>\n",
       "      <th>2</th>\n",
       "      <td>aidenkang_btc</td>\n",
       "      <td>RT @ant_stock_park: ㅋㅋㅋㅋㅋㅋ 오픈씨에 박아버렸네 ㅋㅋㅋㅋㅋㅋ https://t.co/EwyyRKkLeP</td>\n",
       "      <td>2</td>\n",
       "    </tr>\n",
       "    <tr>\n",
       "      <th>3</th>\n",
       "      <td>CryptoRomeroMan</td>\n",
       "      <td>🇺🇸🇬🇧 Welcome to the official Twitter account of the character \"Romero Man\" transformed into a fantastic collection of 50 unique NFTs. Very soon they will be on sale, and you will be able to acquire the one that you like the most like everyone.\\n#RMNFT #ETH #NFT #BTC</td>\n",
       "      <td>3</td>\n",
       "    </tr>\n",
       "    <tr>\n",
       "      <th>4</th>\n",
       "      <td>kedai025</td>\n",
       "      <td>RT @Heather99924565: Wow #2112Run is doing a launch party today @ 4:20pm EST!!! Don't miss it!\\n\\n#ETH #ethereum #NFT #NFTCommunity #nfts #cr…</td>\n",
       "      <td>3</td>\n",
       "    </tr>\n",
       "    <tr>\n",
       "      <th>...</th>\n",
       "      <td>...</td>\n",
       "      <td>...</td>\n",
       "      <td>...</td>\n",
       "    </tr>\n",
       "    <tr>\n",
       "      <th>295</th>\n",
       "      <td>coder_487</td>\n",
       "      <td>RT @NewsQnt: Everyone knows of $BTC and $ETH …\\nBut did you ever heard of the Operating System of tomorrow?\\n\\n$QNT #Quant is the 🔑 to unlock…</td>\n",
       "      <td>2</td>\n",
       "    </tr>\n",
       "    <tr>\n",
       "      <th>296</th>\n",
       "      <td>robostopia</td>\n",
       "      <td>💰 Market Cap: $2,017,893,783,996\\n👊 BTC Dominance: 41.35%\\n💚 BTC: $44,021.17\\n💚 ETH: 0.07155181 BTC\\n❤ USDT: 0.00002273 BTC\\n💚 BNB: 0.00987337 BTC\\n❤ USDC: 0.00002270 BTC\\n⏰ 08.02.2022 05:13:59\\nℹ Powered by #Robostopia</td>\n",
       "      <td>2</td>\n",
       "    </tr>\n",
       "    <tr>\n",
       "      <th>297</th>\n",
       "      <td>lemunche</td>\n",
       "      <td>RT @rick_bitcoin: My Brother #XVG $XVG 🚀🚀🚀 #BTC https://t.co/eX9i6tTKAo</td>\n",
       "      <td>2</td>\n",
       "    </tr>\n",
       "    <tr>\n",
       "      <th>298</th>\n",
       "      <td>thebitofcoin</td>\n",
       "      <td>He just hates #btc so much, imagine living while harboring this negative obsession so deep in your heart. https://t.co/9s2fJ8w4O4</td>\n",
       "      <td>1</td>\n",
       "    </tr>\n",
       "    <tr>\n",
       "      <th>299</th>\n",
       "      <td>criptohispania</td>\n",
       "      <td>Rojan Crypto news\\n▶ https://t.co/gHuToyMoRx\\n@Rojankhzxr\\n#criptohispania #criptomonedas #binance #cripto #bitcoin #ethereum #bitcoins #btc #eth #blockchain #NFT #DeFi</td>\n",
       "      <td>2</td>\n",
       "    </tr>\n",
       "  </tbody>\n",
       "</table></div>"
      ],
      "text/plain": [
       "                User                                              Tweet  \\\n",
       "0     taylorjulien35  RT @convexical: Converting $5,000,000 of #btc ...   \n",
       "1          Mr_chispa  @mis2centavos Para cositorto esa bandeja esta ...   \n",
       "2      aidenkang_btc  RT @ant_stock_park: ㅋㅋㅋㅋㅋㅋ 오픈씨에 박아버렸네 ㅋㅋㅋㅋㅋㅋ h...   \n",
       "3    CryptoRomeroMan  🇺🇸🇬🇧 Welcome to the official Twitter account o...   \n",
       "4           kedai025  RT @Heather99924565: Wow #2112Run is doing a l...   \n",
       "..               ...                                                ...   \n",
       "295        coder_487  RT @NewsQnt: Everyone knows of $BTC and $ETH …...   \n",
       "296       robostopia  💰 Market Cap: $2,017,893,783,996\\n👊 BTC Domina...   \n",
       "297         lemunche  RT @rick_bitcoin: My Brother #XVG $XVG 🚀🚀🚀 #BT...   \n",
       "298     thebitofcoin  He just hates #btc so much, imagine living whi...   \n",
       "299   criptohispania  Rojan Crypto news\\n▶ https://t.co/gHuToyMoRx\\n...   \n",
       "\n",
       "     sentiment  \n",
       "0            2  \n",
       "1            2  \n",
       "2            2  \n",
       "3            3  \n",
       "4            3  \n",
       "..         ...  \n",
       "295          2  \n",
       "296          2  \n",
       "297          2  \n",
       "298          1  \n",
       "299          2  \n",
       "\n",
       "[300 rows x 3 columns]"
      ]
     },
     "execution_count": 66,
     "metadata": {},
     "output_type": "execute_result"
    }
   ],
   "source": [
    "df"
   ]
  },
  {
   "cell_type": "code",
   "execution_count": 64,
   "metadata": {},
   "outputs": [],
   "source": [
    "df_grouped= df.groupby(by = 'sentiment').count()\n",
    "df_grouped.reset_index()\n",
    "df_grouped.drop(columns ='User' , inplace = True)"
   ]
  },
  {
   "cell_type": "code",
   "execution_count": 65,
   "metadata": {},
   "outputs": [
    {
     "data": {},
     "metadata": {},
     "output_type": "display_data"
    },
    {
     "data": {
      "application/vnd.holoviews_exec.v0+json": "",
      "text/html": [
       "<div id='1489'>\n",
       "\n",
       "\n",
       "\n",
       "\n",
       "\n",
       "  <div class=\"bk-root\" id=\"b10a1d0f-7fa4-4fb0-aa9c-5161a0d1530b\" data-root-id=\"1489\"></div>\n",
       "</div>\n",
       "<script type=\"application/javascript\">(function(root) {\n",
       "  function embed_document(root) {\n",
       "    var docs_json = {\"d0f6f538-3336-43c2-ae0f-9a6c6cfc27cf\":{\"defs\":[{\"extends\":null,\"module\":null,\"name\":\"ReactiveHTML1\",\"overrides\":[],\"properties\":[]},{\"extends\":null,\"module\":null,\"name\":\"FlexBox1\",\"overrides\":[],\"properties\":[{\"default\":\"flex-start\",\"kind\":null,\"name\":\"align_content\"},{\"default\":\"flex-start\",\"kind\":null,\"name\":\"align_items\"},{\"default\":\"row\",\"kind\":null,\"name\":\"flex_direction\"},{\"default\":\"wrap\",\"kind\":null,\"name\":\"flex_wrap\"},{\"default\":\"flex-start\",\"kind\":null,\"name\":\"justify_content\"}]},{\"extends\":null,\"module\":null,\"name\":\"TemplateActions1\",\"overrides\":[],\"properties\":[{\"default\":0,\"kind\":null,\"name\":\"open_modal\"},{\"default\":0,\"kind\":null,\"name\":\"close_modal\"}]},{\"extends\":null,\"module\":null,\"name\":\"MaterialTemplateActions1\",\"overrides\":[],\"properties\":[{\"default\":0,\"kind\":null,\"name\":\"open_modal\"},{\"default\":0,\"kind\":null,\"name\":\"close_modal\"}]}],\"roots\":{\"references\":[{\"attributes\":{\"axis\":{\"id\":\"1506\"},\"coordinates\":null,\"dimension\":1,\"grid_line_color\":null,\"group\":null,\"ticker\":null},\"id\":\"1509\",\"type\":\"Grid\"},{\"attributes\":{\"below\":[{\"id\":\"1503\"}],\"center\":[{\"id\":\"1505\"},{\"id\":\"1509\"}],\"height\":300,\"left\":[{\"id\":\"1506\"}],\"margin\":[5,5,5,5],\"min_border_bottom\":10,\"min_border_left\":10,\"min_border_right\":10,\"min_border_top\":10,\"renderers\":[{\"id\":\"1529\"}],\"sizing_mode\":\"fixed\",\"title\":{\"id\":\"1495\"},\"toolbar\":{\"id\":\"1516\"},\"width\":700,\"x_range\":{\"id\":\"1491\"},\"x_scale\":{\"id\":\"1499\"},\"y_range\":{\"id\":\"1492\"},\"y_scale\":{\"id\":\"1501\"}},\"id\":\"1494\",\"subtype\":\"Figure\",\"type\":\"Plot\"},{\"attributes\":{\"axis_label\":\"sentiment\",\"coordinates\":null,\"formatter\":{\"id\":\"1533\"},\"group\":null,\"major_label_policy\":{\"id\":\"1534\"},\"ticker\":{\"id\":\"1504\"}},\"id\":\"1503\",\"type\":\"CategoricalAxis\"},{\"attributes\":{\"axis\":{\"id\":\"1503\"},\"coordinates\":null,\"grid_line_color\":null,\"group\":null,\"ticker\":null},\"id\":\"1505\",\"type\":\"Grid\"},{\"attributes\":{\"overlay\":{\"id\":\"1515\"}},\"id\":\"1513\",\"type\":\"BoxZoomTool\"},{\"attributes\":{},\"id\":\"1533\",\"type\":\"CategoricalTickFormatter\"},{\"attributes\":{\"callback\":null,\"renderers\":[{\"id\":\"1529\"}],\"tags\":[\"hv_created\"],\"tooltips\":[[\"sentiment\",\"@{sentiment}\"],[\"Tweet\",\"@{Tweet}\"]]},\"id\":\"1493\",\"type\":\"HoverTool\"},{\"attributes\":{\"coordinates\":null,\"group\":null,\"text_color\":\"black\",\"text_font_size\":\"12pt\"},\"id\":\"1495\",\"type\":\"Title\"},{\"attributes\":{\"factors\":[\"1\",\"2\",\"3\"],\"tags\":[[[\"sentiment\",\"sentiment\",null]]]},\"id\":\"1491\",\"type\":\"FactorRange\"},{\"attributes\":{},\"id\":\"1534\",\"type\":\"AllLabels\"},{\"attributes\":{},\"id\":\"1524\",\"type\":\"Selection\"},{\"attributes\":{\"margin\":[5,5,5,5],\"name\":\"HSpacer02364\",\"sizing_mode\":\"stretch_width\"},\"id\":\"1490\",\"type\":\"Spacer\"},{\"attributes\":{},\"id\":\"1504\",\"type\":\"CategoricalTicker\"},{\"attributes\":{},\"id\":\"1545\",\"type\":\"UnionRenderers\"},{\"attributes\":{\"axis_label\":\"Tweet\",\"coordinates\":null,\"formatter\":{\"id\":\"1536\"},\"group\":null,\"major_label_policy\":{\"id\":\"1537\"},\"ticker\":{\"id\":\"1507\"}},\"id\":\"1506\",\"type\":\"LinearAxis\"},{\"attributes\":{\"source\":{\"id\":\"1523\"}},\"id\":\"1530\",\"type\":\"CDSView\"},{\"attributes\":{},\"id\":\"1501\",\"type\":\"LinearScale\"},{\"attributes\":{\"fill_color\":{\"value\":\"#30a2da\"},\"hatch_color\":{\"value\":\"#30a2da\"},\"top\":{\"field\":\"Tweet\"},\"width\":{\"value\":0.8},\"x\":{\"field\":\"sentiment\"}},\"id\":\"1526\",\"type\":\"VBar\"},{\"attributes\":{\"fill_alpha\":{\"value\":0.1},\"fill_color\":{\"value\":\"#30a2da\"},\"hatch_alpha\":{\"value\":0.1},\"hatch_color\":{\"value\":\"#30a2da\"},\"line_alpha\":{\"value\":0.1},\"top\":{\"field\":\"Tweet\"},\"width\":{\"value\":0.8},\"x\":{\"field\":\"sentiment\"}},\"id\":\"1527\",\"type\":\"VBar\"},{\"attributes\":{},\"id\":\"1507\",\"type\":\"BasicTicker\"},{\"attributes\":{\"fill_alpha\":{\"value\":0.2},\"fill_color\":{\"value\":\"#30a2da\"},\"hatch_alpha\":{\"value\":0.2},\"hatch_color\":{\"value\":\"#30a2da\"},\"line_alpha\":{\"value\":0.2},\"top\":{\"field\":\"Tweet\"},\"width\":{\"value\":0.8},\"x\":{\"field\":\"sentiment\"}},\"id\":\"1528\",\"type\":\"VBar\"},{\"attributes\":{},\"id\":\"1536\",\"type\":\"BasicTickFormatter\"},{\"attributes\":{},\"id\":\"1537\",\"type\":\"AllLabels\"},{\"attributes\":{},\"id\":\"1499\",\"type\":\"CategoricalScale\"},{\"attributes\":{\"margin\":[5,5,5,5],\"name\":\"HSpacer02365\",\"sizing_mode\":\"stretch_width\"},\"id\":\"1558\",\"type\":\"Spacer\"},{\"attributes\":{\"bottom_units\":\"screen\",\"coordinates\":null,\"fill_alpha\":0.5,\"fill_color\":\"lightgrey\",\"group\":null,\"left_units\":\"screen\",\"level\":\"overlay\",\"line_alpha\":1.0,\"line_color\":\"black\",\"line_dash\":[4,4],\"line_width\":2,\"right_units\":\"screen\",\"syncable\":false,\"top_units\":\"screen\"},\"id\":\"1515\",\"type\":\"BoxAnnotation\"},{\"attributes\":{\"end\":160.9,\"reset_end\":160.9,\"reset_start\":0.0,\"tags\":[[[\"Tweet\",\"Tweet\",null]]]},\"id\":\"1492\",\"type\":\"Range1d\"},{\"attributes\":{\"coordinates\":null,\"data_source\":{\"id\":\"1523\"},\"glyph\":{\"id\":\"1526\"},\"group\":null,\"hover_glyph\":null,\"muted_glyph\":{\"id\":\"1528\"},\"nonselection_glyph\":{\"id\":\"1527\"},\"selection_glyph\":{\"id\":\"1531\"},\"view\":{\"id\":\"1530\"}},\"id\":\"1529\",\"type\":\"GlyphRenderer\"},{\"attributes\":{\"data\":{\"Tweet\":[41,150,109],\"sentiment\":[\"1\",\"2\",\"3\"]},\"selected\":{\"id\":\"1524\"},\"selection_policy\":{\"id\":\"1545\"}},\"id\":\"1523\",\"type\":\"ColumnDataSource\"},{\"attributes\":{},\"id\":\"1510\",\"type\":\"SaveTool\"},{\"attributes\":{},\"id\":\"1514\",\"type\":\"ResetTool\"},{\"attributes\":{\"bottom\":{\"value\":0},\"fill_alpha\":{\"value\":1.0},\"fill_color\":{\"value\":\"#30a2da\"},\"hatch_alpha\":{\"value\":1.0},\"hatch_color\":{\"value\":\"#30a2da\"},\"hatch_scale\":{\"value\":12.0},\"hatch_weight\":{\"value\":1.0},\"line_alpha\":{\"value\":1.0},\"line_cap\":{\"value\":\"butt\"},\"line_color\":{\"value\":\"black\"},\"line_dash\":{\"value\":[]},\"line_dash_offset\":{\"value\":0},\"line_join\":{\"value\":\"bevel\"},\"line_width\":{\"value\":1},\"top\":{\"field\":\"Tweet\"},\"width\":{\"value\":0.8},\"x\":{\"field\":\"sentiment\"}},\"id\":\"1531\",\"type\":\"VBar\"},{\"attributes\":{},\"id\":\"1511\",\"type\":\"PanTool\"},{\"attributes\":{\"tools\":[{\"id\":\"1493\"},{\"id\":\"1510\"},{\"id\":\"1511\"},{\"id\":\"1512\"},{\"id\":\"1513\"},{\"id\":\"1514\"}]},\"id\":\"1516\",\"type\":\"Toolbar\"},{\"attributes\":{},\"id\":\"1512\",\"type\":\"WheelZoomTool\"},{\"attributes\":{\"children\":[{\"id\":\"1490\"},{\"id\":\"1494\"},{\"id\":\"1558\"}],\"margin\":[0,0,0,0],\"name\":\"Row02360\",\"tags\":[\"embedded\"]},\"id\":\"1489\",\"type\":\"Row\"}],\"root_ids\":[\"1489\"]},\"title\":\"Bokeh Application\",\"version\":\"2.4.2\"}};\n",
       "    var render_items = [{\"docid\":\"d0f6f538-3336-43c2-ae0f-9a6c6cfc27cf\",\"root_ids\":[\"1489\"],\"roots\":{\"1489\":\"b10a1d0f-7fa4-4fb0-aa9c-5161a0d1530b\"}}];\n",
       "    root.Bokeh.embed.embed_items_notebook(docs_json, render_items);\n",
       "  }\n",
       "  if (root.Bokeh !== undefined && root.Bokeh.Panel !== undefined) {\n",
       "    embed_document(root);\n",
       "  } else {\n",
       "    var attempts = 0;\n",
       "    var timer = setInterval(function(root) {\n",
       "      if (root.Bokeh !== undefined && root.Bokeh.Panel !== undefined) {\n",
       "        clearInterval(timer);\n",
       "        embed_document(root);\n",
       "      } else if (document.readyState == \"complete\") {\n",
       "        attempts++;\n",
       "        if (attempts > 200) {\n",
       "          clearInterval(timer);\n",
       "          console.log(\"Bokeh: ERROR: Unable to run BokehJS code because BokehJS library is missing\");\n",
       "        }\n",
       "      }\n",
       "    }, 25, root)\n",
       "  }\n",
       "})(window);</script>"
      ],
      "text/plain": [
       ":Bars   [sentiment]   (Tweet)"
      ]
     },
     "execution_count": 65,
     "metadata": {
      "application/vnd.holoviews_exec.v0+json": {
       "id": "1489"
      }
     },
     "output_type": "execute_result"
    }
   ],
   "source": [
    "df_grouped.hvplot(kind = 'bar')"
   ]
  },
  {
   "cell_type": "code",
   "execution_count": 50,
   "metadata": {},
   "outputs": [
    {
     "data": {
      "text/html": [
       "<div><div id=1d6b2462-d8f5-4459-9cc8-ef728c8d19e0 style=\"display:none; background-color:#9D6CFF; color:white; width:200px; height:30px; padding-left:5px; border-radius:4px; flex-direction:row; justify-content:space-around; align-items:center;\" onmouseover=\"this.style.backgroundColor='#BA9BF8'\" onmouseout=\"this.style.backgroundColor='#9D6CFF'\" onclick=\"window.commands?.execute('create-mitosheet-from-dataframe-output');\">See Full Dataframe in Mito</div> <script> if (window.commands.hasCommand('create-mitosheet-from-dataframe-output')) document.getElementById('1d6b2462-d8f5-4459-9cc8-ef728c8d19e0').style.display = 'flex' </script> <table border=\"1\" class=\"dataframe\">\n",
       "  <thead>\n",
       "    <tr style=\"text-align: right;\">\n",
       "      <th></th>\n",
       "      <th>Tweet</th>\n",
       "    </tr>\n",
       "    <tr>\n",
       "      <th>sentiment</th>\n",
       "      <th></th>\n",
       "    </tr>\n",
       "  </thead>\n",
       "  <tbody>\n",
       "    <tr>\n",
       "      <th>1</th>\n",
       "      <td>162</td>\n",
       "    </tr>\n",
       "    <tr>\n",
       "      <th>2</th>\n",
       "      <td>3</td>\n",
       "    </tr>\n",
       "    <tr>\n",
       "      <th>3</th>\n",
       "      <td>13</td>\n",
       "    </tr>\n",
       "    <tr>\n",
       "      <th>4</th>\n",
       "      <td>8</td>\n",
       "    </tr>\n",
       "    <tr>\n",
       "      <th>5</th>\n",
       "      <td>114</td>\n",
       "    </tr>\n",
       "  </tbody>\n",
       "</table></div>"
      ],
      "text/plain": [
       "           Tweet\n",
       "sentiment       \n",
       "1            162\n",
       "2              3\n",
       "3             13\n",
       "4              8\n",
       "5            114"
      ]
     },
     "execution_count": 50,
     "metadata": {},
     "output_type": "execute_result"
    }
   ],
   "source": [
    "df_grouped.head()"
   ]
  },
  {
   "cell_type": "code",
   "execution_count": null,
   "metadata": {},
   "outputs": [],
   "source": []
  }
 ],
 "metadata": {
  "interpreter": {
   "hash": "70258ac2307775ea3b2356ae640b2cec78ea29d8e88ec85f576a7eb81644faaf"
  },
  "kernelspec": {
   "display_name": "Python 3.7.11 64-bit ('pyvizenv': conda)",
   "language": "python",
   "name": "python3"
  },
  "language_info": {
   "codemirror_mode": {
    "name": "ipython",
    "version": 3
   },
   "file_extension": ".py",
   "mimetype": "text/x-python",
   "name": "python",
   "nbconvert_exporter": "python",
   "pygments_lexer": "ipython3",
   "version": "3.7.11"
  },
  "orig_nbformat": 4
 },
 "nbformat": 4,
 "nbformat_minor": 2
}
