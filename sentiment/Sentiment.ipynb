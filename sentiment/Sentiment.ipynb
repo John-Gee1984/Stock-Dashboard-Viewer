{
 "cells": [
  {
   "cell_type": "markdown",
   "metadata": {},
   "source": [
    "# Importing the Required Libraries "
   ]
  },
  {
   "cell_type": "code",
   "execution_count": 42,
   "metadata": {},
   "outputs": [],
   "source": [
    "# loading the reqed libraries for scraping from Twitter and Reddit \n",
    "import tweepy \n",
    "import hvplot.pandas\n",
    "import praw\n",
    "import os  \n",
    "from dotenv import load_dotenv\n",
    "import torch \n",
    "import pandas as pd\n",
    "import praw\n",
    "from matplotlib import pyplot as plt \n",
    "%matplotlib inline \n",
    "\n",
    "\n",
    "\n"
   ]
  },
  {
   "cell_type": "code",
   "execution_count": 2,
   "metadata": {},
   "outputs": [],
   "source": [
    "# Loading the env varibles for the twitter and Reddit \n",
    "load_dotenv()\n",
    "twit_api= os.getenv(\"TWIT_API\")\n",
    "twit_secret = os.getenv(\"TWIT_SECRET\")\n",
    "access_token = os.getenv(\"ACCESS_TOKEN\")\n",
    "access_token_secret = os.getenv(\"ACCESS_TOKEN_SECRET\")"
   ]
  },
  {
   "cell_type": "markdown",
   "metadata": {},
   "source": [
    "# Grabbing the Twitter Data"
   ]
  },
  {
   "cell_type": "code",
   "execution_count": 3,
   "metadata": {},
   "outputs": [
    {
     "name": "stdout",
     "output_type": "stream",
     "text": [
      "                User                                              Tweet\n",
      "0     taylorjulien35  RT @convexical: Converting $5,000,000 of #btc ...\n",
      "1          Mr_chispa  @mis2centavos Para cositorto esa bandeja esta ...\n",
      "2      aidenkang_btc  RT @ant_stock_park: ㅋㅋㅋㅋㅋㅋ 오픈씨에 박아버렸네 ㅋㅋㅋㅋㅋㅋ h...\n",
      "3    CryptoRomeroMan  🇺🇸🇬🇧 Welcome to the official Twitter account o...\n",
      "4           kedai025  RT @Heather99924565: Wow #2112Run is doing a l...\n",
      "..               ...                                                ...\n",
      "295        coder_487  RT @NewsQnt: Everyone knows of $BTC and $ETH …...\n",
      "296       robostopia  💰 Market Cap: $2,017,893,783,996\\n👊 BTC Domina...\n",
      "297         lemunche  RT @rick_bitcoin: My Brother #XVG $XVG 🚀🚀🚀 #BT...\n",
      "298     thebitofcoin  He just hates #btc so much, imagine living whi...\n",
      "299   criptohispania  Rojan Crypto news\\n▶ https://t.co/gHuToyMoRx\\n...\n",
      "\n",
      "[300 rows x 2 columns]\n"
     ]
    }
   ],
   "source": [
    "\n",
    "# authentication\n",
    "auth = tweepy.OAuthHandler(twit_api, twit_secret)\n",
    "auth.set_access_token(access_token, access_token_secret)\n",
    "\n",
    "api = tweepy.API(auth)\n",
    "\n",
    "\n",
    "# tweets = tweepy.Cursor(api.user_timeline, screen_name=user, count=200, tweet_mode='extended').items(limit)\n",
    "\n",
    "# search tweets\n",
    "keywords = 'BTC'\n",
    "limit=300\n",
    "\n",
    "tweets = tweepy.Cursor(api.search_tweets, q=keywords, count=10, tweet_mode='extended').items(limit)\n",
    "\n",
    "# tweets = api.user_timeline(screen_name=user, count=limit, tweet_mode='extended')\n",
    "\n",
    "# create DataFrame\n",
    "columns = ['User', 'Tweet']\n",
    "data = []\n",
    "\n",
    "for tweet in tweets:\n",
    "    data.append([tweet.user.screen_name, tweet.full_text])\n",
    "\n",
    "df = pd.DataFrame(data, columns=columns)\n",
    "\n",
    "print(df)\n",
    "df.to_csv('NVDA.csv')"
   ]
  },
  {
   "cell_type": "code",
   "execution_count": 4,
   "metadata": {},
   "outputs": [],
   "source": [
    "import praw"
   ]
  },
  {
   "cell_type": "code",
   "execution_count": 5,
   "metadata": {},
   "outputs": [],
   "source": [
    "reddit = praw.Reddit(\n",
    "    client_id=os.getenv(\"REDDIT_CLIENT_ID\"),\n",
    "    client_secret=os.getenv(\"REDDIT_SEC\"),\n",
    "    password=os.getenv(\"REDDIT_PASS\"),\n",
    "    user_agent=\"stock_dashboard by u/CryptoFoDayz\",\n",
    "    username=os.getenv(\"REDDIT_USER\"),\n",
    ")\n",
    "reddit.read_only = True\n"
   ]
  },
  {
   "cell_type": "code",
   "execution_count": 6,
   "metadata": {},
   "outputs": [
    {
     "name": "stdout",
     "output_type": "stream",
     "text": [
      "gadgets\n",
      "sports\n",
      "gaming\n",
      "pics\n",
      "worldnews\n",
      "videos\n",
      "AskReddit\n",
      "aww\n",
      "Music\n",
      "funny\n"
     ]
    }
   ],
   "source": [
    "for subreddit in reddit.subreddits.default(limit=10):\n",
    "    print(subreddit)"
   ]
  },
  {
   "cell_type": "markdown",
   "metadata": {},
   "source": [
    "# Perform Sentiment Analysis "
   ]
  },
  {
   "cell_type": "code",
   "execution_count": 7,
   "metadata": {},
   "outputs": [],
   "source": [
    "\n",
    "from transformers import AutoTokenizer, AutoModelForSequenceClassification\n",
    "# create tokenizer variable to chose the model \n",
    "tokenizer = AutoTokenizer.from_pretrained(\"nlptown/bert-base-multilingual-uncased-sentiment\")\n",
    "\n",
    "model = AutoModelForSequenceClassification.from_pretrained(\"nlptown/bert-base-multilingual-uncased-sentiment\")\n",
    "\n"
   ]
  },
  {
   "cell_type": "code",
   "execution_count": 12,
   "metadata": {},
   "outputs": [],
   "source": [
    "# encode the list of tweet to create the sentiment score from a function\n",
    "def sentiment_score(tweet):\n",
    "    tokens = tokenizer.encode(tweet, return_tensors='pt')\n",
    "    result = model(tokens)\n",
    "    return int(torch.argmax(result.logits))+1"
   ]
  },
  {
   "cell_type": "code",
   "execution_count": 13,
   "metadata": {},
   "outputs": [],
   "source": [
    "df['sentiment'] = df['Tweet'].apply(lambda x: sentiment_score(x[:512]))\n"
   ]
  },
  {
   "cell_type": "code",
   "execution_count": 48,
   "metadata": {},
   "outputs": [],
   "source": [
    "df_grouped= df.groupby(by = 'sentiment').count()\n",
    "df_grouped.reset_index()\n",
    "df_grouped.drop(columns ='User' , inplace = True)"
   ]
  },
  {
   "cell_type": "code",
   "execution_count": 49,
   "metadata": {},
   "outputs": [
    {
     "data": {},
     "metadata": {},
     "output_type": "display_data"
    },
    {
     "data": {
      "application/vnd.holoviews_exec.v0+json": "",
      "text/html": [
       "<div id='1368'>\n",
       "\n",
       "\n",
       "\n",
       "\n",
       "\n",
       "  <div class=\"bk-root\" id=\"8fb15d2e-fb76-4d18-a8d2-433d0ef21728\" data-root-id=\"1368\"></div>\n",
       "</div>\n",
       "<script type=\"application/javascript\">(function(root) {\n",
       "  function embed_document(root) {\n",
       "    var docs_json = {\"faff8515-cd9c-454d-953f-74f78872917e\":{\"defs\":[{\"extends\":null,\"module\":null,\"name\":\"ReactiveHTML1\",\"overrides\":[],\"properties\":[]},{\"extends\":null,\"module\":null,\"name\":\"FlexBox1\",\"overrides\":[],\"properties\":[{\"default\":\"flex-start\",\"kind\":null,\"name\":\"align_content\"},{\"default\":\"flex-start\",\"kind\":null,\"name\":\"align_items\"},{\"default\":\"row\",\"kind\":null,\"name\":\"flex_direction\"},{\"default\":\"wrap\",\"kind\":null,\"name\":\"flex_wrap\"},{\"default\":\"flex-start\",\"kind\":null,\"name\":\"justify_content\"}]},{\"extends\":null,\"module\":null,\"name\":\"TemplateActions1\",\"overrides\":[],\"properties\":[{\"default\":0,\"kind\":null,\"name\":\"open_modal\"},{\"default\":0,\"kind\":null,\"name\":\"close_modal\"}]},{\"extends\":null,\"module\":null,\"name\":\"MaterialTemplateActions1\",\"overrides\":[],\"properties\":[{\"default\":0,\"kind\":null,\"name\":\"open_modal\"},{\"default\":0,\"kind\":null,\"name\":\"close_modal\"}]}],\"roots\":{\"references\":[{\"attributes\":{\"margin\":[5,5,5,5],\"name\":\"HSpacer02215\",\"sizing_mode\":\"stretch_width\"},\"id\":\"1369\",\"type\":\"Spacer\"},{\"attributes\":{\"coordinates\":null,\"data_source\":{\"id\":\"1402\"},\"glyph\":{\"id\":\"1405\"},\"group\":null,\"hover_glyph\":null,\"muted_glyph\":{\"id\":\"1407\"},\"nonselection_glyph\":{\"id\":\"1406\"},\"selection_glyph\":{\"id\":\"1410\"},\"view\":{\"id\":\"1409\"}},\"id\":\"1408\",\"type\":\"GlyphRenderer\"},{\"attributes\":{\"bottom\":{\"value\":0},\"fill_alpha\":{\"value\":1.0},\"fill_color\":{\"value\":\"#30a2da\"},\"hatch_alpha\":{\"value\":1.0},\"hatch_color\":{\"value\":\"#30a2da\"},\"hatch_scale\":{\"value\":12.0},\"hatch_weight\":{\"value\":1.0},\"line_alpha\":{\"value\":1.0},\"line_cap\":{\"value\":\"butt\"},\"line_color\":{\"value\":\"black\"},\"line_dash\":{\"value\":[]},\"line_dash_offset\":{\"value\":0},\"line_join\":{\"value\":\"bevel\"},\"line_width\":{\"value\":1},\"top\":{\"field\":\"Tweet\"},\"width\":{\"value\":0.8},\"x\":{\"field\":\"sentiment\"}},\"id\":\"1410\",\"type\":\"VBar\"},{\"attributes\":{\"fill_color\":{\"value\":\"#30a2da\"},\"hatch_color\":{\"value\":\"#30a2da\"},\"top\":{\"field\":\"Tweet\"},\"width\":{\"value\":0.8},\"x\":{\"field\":\"sentiment\"}},\"id\":\"1405\",\"type\":\"VBar\"},{\"attributes\":{\"fill_alpha\":{\"value\":0.2},\"fill_color\":{\"value\":\"#30a2da\"},\"hatch_alpha\":{\"value\":0.2},\"hatch_color\":{\"value\":\"#30a2da\"},\"line_alpha\":{\"value\":0.2},\"top\":{\"field\":\"Tweet\"},\"width\":{\"value\":0.8},\"x\":{\"field\":\"sentiment\"}},\"id\":\"1407\",\"type\":\"VBar\"},{\"attributes\":{},\"id\":\"1389\",\"type\":\"SaveTool\"},{\"attributes\":{},\"id\":\"1390\",\"type\":\"PanTool\"},{\"attributes\":{},\"id\":\"1391\",\"type\":\"WheelZoomTool\"},{\"attributes\":{},\"id\":\"1403\",\"type\":\"Selection\"},{\"attributes\":{\"coordinates\":null,\"group\":null,\"text_color\":\"black\",\"text_font_size\":\"12pt\"},\"id\":\"1374\",\"type\":\"Title\"},{\"attributes\":{\"data\":{\"Tweet\":[162,3,13,8,114],\"sentiment\":[\"1\",\"2\",\"3\",\"4\",\"5\"]},\"selected\":{\"id\":\"1403\"},\"selection_policy\":{\"id\":\"1424\"}},\"id\":\"1402\",\"type\":\"ColumnDataSource\"},{\"attributes\":{\"overlay\":{\"id\":\"1394\"}},\"id\":\"1392\",\"type\":\"BoxZoomTool\"},{\"attributes\":{},\"id\":\"1415\",\"type\":\"BasicTickFormatter\"},{\"attributes\":{\"source\":{\"id\":\"1402\"}},\"id\":\"1409\",\"type\":\"CDSView\"},{\"attributes\":{},\"id\":\"1380\",\"type\":\"LinearScale\"},{\"attributes\":{},\"id\":\"1393\",\"type\":\"ResetTool\"},{\"attributes\":{\"axis\":{\"id\":\"1385\"},\"coordinates\":null,\"dimension\":1,\"grid_line_color\":null,\"group\":null,\"ticker\":null},\"id\":\"1388\",\"type\":\"Grid\"},{\"attributes\":{\"children\":[{\"id\":\"1369\"},{\"id\":\"1373\"},{\"id\":\"1437\"}],\"margin\":[0,0,0,0],\"name\":\"Row02211\",\"tags\":[\"embedded\"]},\"id\":\"1368\",\"type\":\"Row\"},{\"attributes\":{\"bottom_units\":\"screen\",\"coordinates\":null,\"fill_alpha\":0.5,\"fill_color\":\"lightgrey\",\"group\":null,\"left_units\":\"screen\",\"level\":\"overlay\",\"line_alpha\":1.0,\"line_color\":\"black\",\"line_dash\":[4,4],\"line_width\":2,\"right_units\":\"screen\",\"syncable\":false,\"top_units\":\"screen\"},\"id\":\"1394\",\"type\":\"BoxAnnotation\"},{\"attributes\":{\"axis_label\":\"sentiment\",\"coordinates\":null,\"formatter\":{\"id\":\"1412\"},\"group\":null,\"major_label_policy\":{\"id\":\"1413\"},\"ticker\":{\"id\":\"1383\"}},\"id\":\"1382\",\"type\":\"CategoricalAxis\"},{\"attributes\":{\"fill_alpha\":{\"value\":0.1},\"fill_color\":{\"value\":\"#30a2da\"},\"hatch_alpha\":{\"value\":0.1},\"hatch_color\":{\"value\":\"#30a2da\"},\"line_alpha\":{\"value\":0.1},\"top\":{\"field\":\"Tweet\"},\"width\":{\"value\":0.8},\"x\":{\"field\":\"sentiment\"}},\"id\":\"1406\",\"type\":\"VBar\"},{\"attributes\":{},\"id\":\"1424\",\"type\":\"UnionRenderers\"},{\"attributes\":{\"factors\":[\"1\",\"2\",\"3\",\"4\",\"5\"],\"tags\":[[[\"sentiment\",\"sentiment\",null]]]},\"id\":\"1370\",\"type\":\"FactorRange\"},{\"attributes\":{},\"id\":\"1378\",\"type\":\"CategoricalScale\"},{\"attributes\":{},\"id\":\"1413\",\"type\":\"AllLabels\"},{\"attributes\":{},\"id\":\"1383\",\"type\":\"CategoricalTicker\"},{\"attributes\":{\"tools\":[{\"id\":\"1372\"},{\"id\":\"1389\"},{\"id\":\"1390\"},{\"id\":\"1391\"},{\"id\":\"1392\"},{\"id\":\"1393\"}]},\"id\":\"1395\",\"type\":\"Toolbar\"},{\"attributes\":{\"axis\":{\"id\":\"1382\"},\"coordinates\":null,\"grid_line_color\":null,\"group\":null,\"ticker\":null},\"id\":\"1384\",\"type\":\"Grid\"},{\"attributes\":{\"callback\":null,\"renderers\":[{\"id\":\"1408\"}],\"tags\":[\"hv_created\"],\"tooltips\":[[\"sentiment\",\"@{sentiment}\"],[\"Tweet\",\"@{Tweet}\"]]},\"id\":\"1372\",\"type\":\"HoverTool\"},{\"attributes\":{},\"id\":\"1416\",\"type\":\"AllLabels\"},{\"attributes\":{},\"id\":\"1386\",\"type\":\"BasicTicker\"},{\"attributes\":{\"below\":[{\"id\":\"1382\"}],\"center\":[{\"id\":\"1384\"},{\"id\":\"1388\"}],\"height\":300,\"left\":[{\"id\":\"1385\"}],\"margin\":[5,5,5,5],\"min_border_bottom\":10,\"min_border_left\":10,\"min_border_right\":10,\"min_border_top\":10,\"renderers\":[{\"id\":\"1408\"}],\"sizing_mode\":\"fixed\",\"title\":{\"id\":\"1374\"},\"toolbar\":{\"id\":\"1395\"},\"width\":700,\"x_range\":{\"id\":\"1370\"},\"x_scale\":{\"id\":\"1378\"},\"y_range\":{\"id\":\"1371\"},\"y_scale\":{\"id\":\"1380\"}},\"id\":\"1373\",\"subtype\":\"Figure\",\"type\":\"Plot\"},{\"attributes\":{\"end\":177.9,\"reset_end\":177.9,\"reset_start\":0.0,\"tags\":[[[\"Tweet\",\"Tweet\",null]]]},\"id\":\"1371\",\"type\":\"Range1d\"},{\"attributes\":{\"axis_label\":\"Tweet\",\"coordinates\":null,\"formatter\":{\"id\":\"1415\"},\"group\":null,\"major_label_policy\":{\"id\":\"1416\"},\"ticker\":{\"id\":\"1386\"}},\"id\":\"1385\",\"type\":\"LinearAxis\"},{\"attributes\":{},\"id\":\"1412\",\"type\":\"CategoricalTickFormatter\"},{\"attributes\":{\"margin\":[5,5,5,5],\"name\":\"HSpacer02216\",\"sizing_mode\":\"stretch_width\"},\"id\":\"1437\",\"type\":\"Spacer\"}],\"root_ids\":[\"1368\"]},\"title\":\"Bokeh Application\",\"version\":\"2.4.2\"}};\n",
       "    var render_items = [{\"docid\":\"faff8515-cd9c-454d-953f-74f78872917e\",\"root_ids\":[\"1368\"],\"roots\":{\"1368\":\"8fb15d2e-fb76-4d18-a8d2-433d0ef21728\"}}];\n",
       "    root.Bokeh.embed.embed_items_notebook(docs_json, render_items);\n",
       "  }\n",
       "  if (root.Bokeh !== undefined && root.Bokeh.Panel !== undefined) {\n",
       "    embed_document(root);\n",
       "  } else {\n",
       "    var attempts = 0;\n",
       "    var timer = setInterval(function(root) {\n",
       "      if (root.Bokeh !== undefined && root.Bokeh.Panel !== undefined) {\n",
       "        clearInterval(timer);\n",
       "        embed_document(root);\n",
       "      } else if (document.readyState == \"complete\") {\n",
       "        attempts++;\n",
       "        if (attempts > 200) {\n",
       "          clearInterval(timer);\n",
       "          console.log(\"Bokeh: ERROR: Unable to run BokehJS code because BokehJS library is missing\");\n",
       "        }\n",
       "      }\n",
       "    }, 25, root)\n",
       "  }\n",
       "})(window);</script>"
      ],
      "text/plain": [
       ":Bars   [sentiment]   (Tweet)"
      ]
     },
     "execution_count": 49,
     "metadata": {
      "application/vnd.holoviews_exec.v0+json": {
       "id": "1368"
      }
     },
     "output_type": "execute_result"
    }
   ],
   "source": [
    "df_grouped.hvplot(kind = 'bar')"
   ]
  },
  {
   "cell_type": "code",
   "execution_count": 50,
   "metadata": {},
   "outputs": [
    {
     "data": {
      "text/html": [
       "<div><div id=1d6b2462-d8f5-4459-9cc8-ef728c8d19e0 style=\"display:none; background-color:#9D6CFF; color:white; width:200px; height:30px; padding-left:5px; border-radius:4px; flex-direction:row; justify-content:space-around; align-items:center;\" onmouseover=\"this.style.backgroundColor='#BA9BF8'\" onmouseout=\"this.style.backgroundColor='#9D6CFF'\" onclick=\"window.commands?.execute('create-mitosheet-from-dataframe-output');\">See Full Dataframe in Mito</div> <script> if (window.commands.hasCommand('create-mitosheet-from-dataframe-output')) document.getElementById('1d6b2462-d8f5-4459-9cc8-ef728c8d19e0').style.display = 'flex' </script> <table border=\"1\" class=\"dataframe\">\n",
       "  <thead>\n",
       "    <tr style=\"text-align: right;\">\n",
       "      <th></th>\n",
       "      <th>Tweet</th>\n",
       "    </tr>\n",
       "    <tr>\n",
       "      <th>sentiment</th>\n",
       "      <th></th>\n",
       "    </tr>\n",
       "  </thead>\n",
       "  <tbody>\n",
       "    <tr>\n",
       "      <th>1</th>\n",
       "      <td>162</td>\n",
       "    </tr>\n",
       "    <tr>\n",
       "      <th>2</th>\n",
       "      <td>3</td>\n",
       "    </tr>\n",
       "    <tr>\n",
       "      <th>3</th>\n",
       "      <td>13</td>\n",
       "    </tr>\n",
       "    <tr>\n",
       "      <th>4</th>\n",
       "      <td>8</td>\n",
       "    </tr>\n",
       "    <tr>\n",
       "      <th>5</th>\n",
       "      <td>114</td>\n",
       "    </tr>\n",
       "  </tbody>\n",
       "</table></div>"
      ],
      "text/plain": [
       "           Tweet\n",
       "sentiment       \n",
       "1            162\n",
       "2              3\n",
       "3             13\n",
       "4              8\n",
       "5            114"
      ]
     },
     "execution_count": 50,
     "metadata": {},
     "output_type": "execute_result"
    }
   ],
   "source": [
    "df_grouped.head()"
   ]
  },
  {
   "cell_type": "code",
   "execution_count": null,
   "metadata": {},
   "outputs": [],
   "source": []
  }
 ],
 "metadata": {
  "interpreter": {
   "hash": "70258ac2307775ea3b2356ae640b2cec78ea29d8e88ec85f576a7eb81644faaf"
  },
  "kernelspec": {
   "display_name": "Python 3.7.11 64-bit ('pyvizenv': conda)",
   "language": "python",
   "name": "python3"
  },
  "language_info": {
   "codemirror_mode": {
    "name": "ipython",
    "version": 3
   },
   "file_extension": ".py",
   "mimetype": "text/x-python",
   "name": "python",
   "nbconvert_exporter": "python",
   "pygments_lexer": "ipython3",
   "version": "3.7.11"
  },
  "orig_nbformat": 4
 },
 "nbformat": 4,
 "nbformat_minor": 2
}
