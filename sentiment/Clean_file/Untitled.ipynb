{
 "cells": [
  {
   "cell_type": "code",
   "execution_count": 1,
   "id": "8a4ca271",
   "metadata": {},
   "outputs": [
    {
     "name": "stdout",
     "output_type": "stream",
     "text": [
      "Collecting git+https://github.com/mariostoev/finviz\n",
      "  Cloning https://github.com/mariostoev/finviz to /private/var/folders/h4/m4qlztkx7ljd8rgkq9h9bwpr0000gn/T/pip-req-build-uv03etsm\n",
      "  Running command git clone -q https://github.com/mariostoev/finviz /private/var/folders/h4/m4qlztkx7ljd8rgkq9h9bwpr0000gn/T/pip-req-build-uv03etsm\n",
      "  Resolved https://github.com/mariostoev/finviz to commit 1c421ac17f1c8932b00bde17d1065aecb635347e\n",
      "  Installing build dependencies ... \u001b[?25ldone\n",
      "\u001b[?25h  Getting requirements to build wheel ... \u001b[?25ldone\n",
      "\u001b[?25h    Preparing wheel metadata ... \u001b[?25ldone\n",
      "\u001b[?25hCollecting tenacity<8.0.0,>=7.0.0\n",
      "  Using cached tenacity-7.0.0-py2.py3-none-any.whl (23 kB)\n",
      "Requirement already satisfied: requests<3.0.0,>=2.25.1 in /opt/anaconda3/envs/pyvizenv/lib/python3.7/site-packages (from finviz==1.4.3) (2.27.1)\n",
      "Requirement already satisfied: urllib3<2.0.0,>=1.26.5 in /opt/anaconda3/envs/pyvizenv/lib/python3.7/site-packages (from finviz==1.4.3) (1.26.7)\n",
      "Collecting user_agent<0.2.0,>=0.1.9\n",
      "  Using cached user_agent-0.1.10.tar.gz (20 kB)\n",
      "Requirement already satisfied: beautifulsoup4<5.0.0,>=4.9.3 in /opt/anaconda3/envs/pyvizenv/lib/python3.7/site-packages (from finviz==1.4.3) (4.10.0)\n",
      "Collecting cssselect<2.0.0,>=1.1.0\n",
      "  Using cached cssselect-1.1.0-py2.py3-none-any.whl (16 kB)\n",
      "Requirement already satisfied: tqdm<5.0.0,>=4.61.1 in /opt/anaconda3/envs/pyvizenv/lib/python3.7/site-packages (from finviz==1.4.3) (4.62.3)\n",
      "Requirement already satisfied: aiohttp<4.0.0,>=3.7.4 in /opt/anaconda3/envs/pyvizenv/lib/python3.7/site-packages (from finviz==1.4.3) (3.7.4)\n",
      "Requirement already satisfied: lxml<5.0.0,>=4.6.3 in /opt/anaconda3/envs/pyvizenv/lib/python3.7/site-packages (from finviz==1.4.3) (4.7.1)\n",
      "\u001b[31mERROR: Package 'finviz' requires a different Python: 3.7.11 not in '<4.0,>=3.8'\u001b[0m\n"
     ]
    }
   ],
   "source": [
    " !pip install -U git+https://github.com/mariostoev/finviz"
   ]
  },
  {
   "cell_type": "code",
   "execution_count": null,
   "id": "e438cb24",
   "metadata": {},
   "outputs": [],
   "source": []
  }
 ],
 "metadata": {
  "kernelspec": {
   "display_name": "Python 3 (ipykernel)",
   "language": "python",
   "name": "python3"
  },
  "language_info": {
   "codemirror_mode": {
    "name": "ipython",
    "version": 3
   },
   "file_extension": ".py",
   "mimetype": "text/x-python",
   "name": "python",
   "nbconvert_exporter": "python",
   "pygments_lexer": "ipython3",
   "version": "3.7.11"
  }
 },
 "nbformat": 4,
 "nbformat_minor": 5
}
