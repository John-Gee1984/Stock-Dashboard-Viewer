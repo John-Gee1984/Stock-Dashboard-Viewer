{
 "cells": [
  {
   "cell_type": "markdown",
   "metadata": {},
   "source": [
    "Panel supports using parameters and dependencies between parameters as expressed by ``param`` in a simple way to encapsulate dashboards as declarative, self-contained classes.\n",
    "\n",
    "Parameters are Python attributes extended using the [Param library](https://github.com/holoviz/param) to support types, ranges, and documentation, which turns out to be just the information you need to automatically create widgets for each parameter.\n",
    "\n",
    "Additionally Panel provides support for linking parameters to the URL query string to allow parameterizing an app very easily.\n",
    "\n",
    "# Parameters and widgets\n",
    "\n",
    "To use this approach, first declare some Parameterized classes with various Parameters:"
   ]
  },
  {
   "cell_type": "code",
   "execution_count": 1,
   "metadata": {},
   "outputs": [
    {
     "data": {
      "text/plain": [
       "50000"
      ]
     },
     "execution_count": 1,
     "metadata": {},
     "output_type": "execute_result"
    }
   ],
   "source": [
    "import param\n",
    "import pandas as pd\n",
    "import datetime as dt\n",
    "\n",
    "class BaseClass(param.Parameterized):\n",
    "    x                       = param.Parameter(default=3.14, doc=\"X position\")\n",
    "    y                       = param.Parameter(default=\"Not editable\", constant=True)\n",
    "    string_value            = param.String(default=\"str\", doc=\"A string\")\n",
    "    num_int                 = param.Integer(50000, bounds=(-200, 100000))\n",
    "    unbounded_int           = param.Integer(23)\n",
    "    float_with_hard_bounds  = param.Number(8.2, bounds=(7.5, 10))\n",
    "    float_with_soft_bounds  = param.Number(0.5, bounds=(0, None), softbounds=(0,2))\n",
    "    unbounded_float         = param.Number(30.01, precedence=0)\n",
    "    hidden_parameter        = param.Number(2.718, precedence=-1)\n",
    "    integer_range           = param.Range(default=(3, 7), bounds=(0, 10))\n",
    "    float_range             = param.Range(default=(0, 1.57), bounds=(0, 3.145))\n",
    "    dictionary              = param.Dict(default={\"a\": 2, \"b\": 9})\n",
    "\n",
    "\n",
    "class Example(BaseClass):\n",
    "    \"\"\"An example Parameterized class\"\"\"\n",
    "    timestamps = []\n",
    "\n",
    "    boolean                 = param.Boolean(True, doc=\"A sample Boolean parameter\")\n",
    "    color                   = param.Color(default='#FFFFFF')\n",
    "    date                    = param.Date(dt.datetime(2017, 1, 1),\n",
    "                                         bounds=(dt.datetime(2017, 1, 1), dt.datetime(2017, 2, 1)))\n",
    "    dataframe               = param.DataFrame(pd._testing.makeDataFrame().iloc[:3])\n",
    "    select_string           = param.ObjectSelector(default=\"yellow\", objects=[\"red\", \"yellow\", \"green\"])\n",
    "    select_fn               = param.ObjectSelector(default=list,objects=[list, set, dict])\n",
    "    int_list                = param.ListSelector(default=[3, 5], objects=[1, 3, 5, 7, 9], precedence=0.5)\n",
    "    single_file             = param.FileSelector(path='../../*/*.py*', precedence=0.5)\n",
    "    multiple_files          = param.MultiFileSelector(path='../../*/*.py?', precedence=0.5)\n",
    "    record_timestamp        = param.Action(lambda x: x.timestamps.append(dt.datetime.utcnow()), \n",
    "                                           doc=\"\"\"Record timestamp.\"\"\", precedence=0.7)\n",
    "    \n",
    "Example.num_int"
   ]
  },
  {
   "cell_type": "markdown",
   "metadata": {},
   "source": [
    "As you can see, declaring Parameters depends only on the separate Param library.  Parameters are a simple idea with some properties that are crucial for helping you create clean, usable code:\n",
    "\n",
    "- The Param library is pure Python with no dependencies, which makes it easy to include in any code without tying it to a particular GUI or widgets library, or even to the Jupyter notebook.  \n",
    "- Parameter declarations focus on semantic information relevant to your domain, allowing you to avoid polluting your domain-specific code with anything that ties it to a particular way of displaying or interacting with it. \n",
    "- Parameters can be defined wherever they make sense in your inheritance hierarchy, allowing you to document, type, and range-limit them _once_, with all of those properties inherited by any base class.  E.g. parameters work the same here whether they were declared in `BaseClass` or `Example`, which makes it easy to provide this metadata once, and avoiding duplicating it throughout the code wherever ranges or types need checking or documentation needs to be stored.\n",
    "\n",
    "If you then decide to use these Parameterized classes in a notebook or web-server environment, you can `import panel` and easily display and edit the parameter values as an optional additional step:"
   ]
  },
  {
   "cell_type": "code",
   "execution_count": 2,
   "metadata": {},
   "outputs": [
    {
     "data": {
      "application/javascript": [
       "\n",
       "(function(root) {\n",
       "  function now() {\n",
       "    return new Date();\n",
       "  }\n",
       "\n",
       "  var force = true;\n",
       "\n",
       "  if (typeof root._bokeh_onload_callbacks === \"undefined\" || force === true) {\n",
       "    root._bokeh_onload_callbacks = [];\n",
       "    root._bokeh_is_loading = undefined;\n",
       "  }\n",
       "\n",
       "  if (typeof (root._bokeh_timeout) === \"undefined\" || force === true) {\n",
       "    root._bokeh_timeout = Date.now() + 5000;\n",
       "    root._bokeh_failed_load = false;\n",
       "  }\n",
       "\n",
       "  function run_callbacks() {\n",
       "    try {\n",
       "      root._bokeh_onload_callbacks.forEach(function(callback) {\n",
       "        if (callback != null)\n",
       "          callback();\n",
       "      });\n",
       "    } finally {\n",
       "      delete root._bokeh_onload_callbacks\n",
       "    }\n",
       "    console.debug(\"Bokeh: all callbacks have finished\");\n",
       "  }\n",
       "\n",
       "  function load_libs(css_urls, js_urls, js_modules, callback) {\n",
       "    if (css_urls == null) css_urls = [];\n",
       "    if (js_urls == null) js_urls = [];\n",
       "    if (js_modules == null) js_modules = [];\n",
       "\n",
       "    root._bokeh_onload_callbacks.push(callback);\n",
       "    if (root._bokeh_is_loading > 0) {\n",
       "      console.debug(\"Bokeh: BokehJS is being loaded, scheduling callback at\", now());\n",
       "      return null;\n",
       "    }\n",
       "    if (js_urls.length === 0 && js_modules.length === 0) {\n",
       "      run_callbacks();\n",
       "      return null;\n",
       "    }\n",
       "    console.debug(\"Bokeh: BokehJS not loaded, scheduling load and callback at\", now());\n",
       "\n",
       "    function on_load() {\n",
       "      root._bokeh_is_loading--;\n",
       "      if (root._bokeh_is_loading === 0) {\n",
       "        console.debug(\"Bokeh: all BokehJS libraries/stylesheets loaded\");\n",
       "        run_callbacks()\n",
       "      }\n",
       "    }\n",
       "\n",
       "    function on_error() {\n",
       "      console.error(\"failed to load \" + url);\n",
       "    }\n",
       "\n",
       "    for (var i = 0; i < css_urls.length; i++) {\n",
       "      var url = css_urls[i];\n",
       "      const element = document.createElement(\"link\");\n",
       "      element.onload = on_load;\n",
       "      element.onerror = on_error;\n",
       "      element.rel = \"stylesheet\";\n",
       "      element.type = \"text/css\";\n",
       "      element.href = url;\n",
       "      console.debug(\"Bokeh: injecting link tag for BokehJS stylesheet: \", url);\n",
       "      document.body.appendChild(element);\n",
       "    }\n",
       "\n",
       "    var skip = [];\n",
       "    if (window.requirejs) {\n",
       "      window.requirejs.config({'packages': {}, 'paths': {}, 'shim': {}});\n",
       "      \n",
       "      root._bokeh_is_loading = css_urls.length + 0;\n",
       "    } else {\n",
       "      root._bokeh_is_loading = css_urls.length + js_urls.length + js_modules.length;\n",
       "    }\n",
       "    for (var i = 0; i < js_urls.length; i++) {\n",
       "      var url = js_urls[i];\n",
       "      if (skip.indexOf(url) >= 0) {\n",
       "\tif (!window.requirejs) {\n",
       "\t  on_load();\n",
       "\t}\n",
       "\tcontinue;\n",
       "      }\n",
       "      var element = document.createElement('script');\n",
       "      element.onload = on_load;\n",
       "      element.onerror = on_error;\n",
       "      element.async = false;\n",
       "      element.src = url;\n",
       "      console.debug(\"Bokeh: injecting script tag for BokehJS library: \", url);\n",
       "      document.head.appendChild(element);\n",
       "    }\n",
       "    for (var i = 0; i < js_modules.length; i++) {\n",
       "      var url = js_modules[i];\n",
       "      if (skip.indexOf(url) >= 0) {\n",
       "\tif (!window.requirejs) {\n",
       "\t  on_load();\n",
       "\t}\n",
       "\tcontinue;\n",
       "      }\n",
       "      var element = document.createElement('script');\n",
       "      element.onload = on_load;\n",
       "      element.onerror = on_error;\n",
       "      element.async = false;\n",
       "      element.src = url;\n",
       "      element.type = \"module\";\n",
       "      console.debug(\"Bokeh: injecting script tag for BokehJS library: \", url);\n",
       "      document.head.appendChild(element);\n",
       "    }\n",
       "    if (!js_urls.length && !js_modules.length) {\n",
       "      on_load()\n",
       "    }\n",
       "  };\n",
       "\n",
       "  function inject_raw_css(css) {\n",
       "    const element = document.createElement(\"style\");\n",
       "    element.appendChild(document.createTextNode(css));\n",
       "    document.body.appendChild(element);\n",
       "  }\n",
       "\n",
       "  var js_urls = [\"https://cdn.bokeh.org/bokeh/release/bokeh-2.4.2.min.js\", \"https://cdn.bokeh.org/bokeh/release/bokeh-gl-2.4.2.min.js\", \"https://cdn.bokeh.org/bokeh/release/bokeh-widgets-2.4.2.min.js\", \"https://cdn.bokeh.org/bokeh/release/bokeh-tables-2.4.2.min.js\", \"https://cdn.bokeh.org/bokeh/release/bokeh-mathjax-2.4.2.min.js\", \"https://unpkg.com/@holoviz/panel@0.12.6/dist/panel.min.js\"];\n",
       "  var js_modules = [];\n",
       "  var css_urls = [\"https://unpkg.com/@holoviz/panel@0.12.6/dist/css/alerts.css\", \"https://unpkg.com/@holoviz/panel@0.12.6/dist/css/card.css\", \"https://unpkg.com/@holoviz/panel@0.12.6/dist/css/widgets.css\", \"https://unpkg.com/@holoviz/panel@0.12.6/dist/css/markdown.css\", \"https://unpkg.com/@holoviz/panel@0.12.6/dist/css/json.css\", \"https://unpkg.com/@holoviz/panel@0.12.6/dist/css/loading.css\", \"https://unpkg.com/@holoviz/panel@0.12.6/dist/css/dataframe.css\"];\n",
       "  var inline_js = [\n",
       "    function(Bokeh) {\n",
       "      inject_raw_css(\"\\n    .bk.pn-loading.arcs:before {\\n      background-image: url(\\\"data:image/svg+xml;base64,PHN2ZyB4bWxucz0iaHR0cDovL3d3dy53My5vcmcvMjAwMC9zdmciIHhtbG5zOnhsaW5rPSJodHRwOi8vd3d3LnczLm9yZy8xOTk5L3hsaW5rIiBzdHlsZT0ibWFyZ2luOiBhdXRvOyBiYWNrZ3JvdW5kOiBub25lOyBkaXNwbGF5OiBibG9jazsgc2hhcGUtcmVuZGVyaW5nOiBhdXRvOyIgdmlld0JveD0iMCAwIDEwMCAxMDAiIHByZXNlcnZlQXNwZWN0UmF0aW89InhNaWRZTWlkIj4gIDxjaXJjbGUgY3g9IjUwIiBjeT0iNTAiIHI9IjMyIiBzdHJva2Utd2lkdGg9IjgiIHN0cm9rZT0iI2MzYzNjMyIgc3Ryb2tlLWRhc2hhcnJheT0iNTAuMjY1NDgyNDU3NDM2NjkgNTAuMjY1NDgyNDU3NDM2NjkiIGZpbGw9Im5vbmUiIHN0cm9rZS1saW5lY2FwPSJyb3VuZCI+ICAgIDxhbmltYXRlVHJhbnNmb3JtIGF0dHJpYnV0ZU5hbWU9InRyYW5zZm9ybSIgdHlwZT0icm90YXRlIiByZXBlYXRDb3VudD0iaW5kZWZpbml0ZSIgZHVyPSIxcyIga2V5VGltZXM9IjA7MSIgdmFsdWVzPSIwIDUwIDUwOzM2MCA1MCA1MCI+PC9hbmltYXRlVHJhbnNmb3JtPiAgPC9jaXJjbGU+PC9zdmc+\\\");\\n      max-height: 400px;\\n    }\\n    \");\n",
       "    },\n",
       "    function(Bokeh) {\n",
       "      Bokeh.set_log_level(\"info\");\n",
       "    },\n",
       "    function(Bokeh) {} // ensure no trailing comma for IE\n",
       "  ];\n",
       "\n",
       "  function run_inline_js() {\n",
       "    if ((root.Bokeh !== undefined) || (force === true)) {\n",
       "      for (var i = 0; i < inline_js.length; i++) {\n",
       "        inline_js[i].call(root, root.Bokeh);\n",
       "      }} else if (Date.now() < root._bokeh_timeout) {\n",
       "      setTimeout(run_inline_js, 100);\n",
       "    } else if (!root._bokeh_failed_load) {\n",
       "      console.log(\"Bokeh: BokehJS failed to load within specified timeout.\");\n",
       "      root._bokeh_failed_load = true;\n",
       "    }\n",
       "  }\n",
       "\n",
       "  if (root._bokeh_is_loading === 0) {\n",
       "    console.debug(\"Bokeh: BokehJS loaded, going straight to plotting\");\n",
       "    run_inline_js();\n",
       "  } else {\n",
       "    load_libs(css_urls, js_urls, js_modules, function() {\n",
       "      console.debug(\"Bokeh: BokehJS plotting callback run at\", now());\n",
       "      run_inline_js();\n",
       "    });\n",
       "  }\n",
       "}(window));"
      ],
      "application/vnd.holoviews_load.v0+json": "\n(function(root) {\n  function now() {\n    return new Date();\n  }\n\n  var force = true;\n\n  if (typeof root._bokeh_onload_callbacks === \"undefined\" || force === true) {\n    root._bokeh_onload_callbacks = [];\n    root._bokeh_is_loading = undefined;\n  }\n\n  if (typeof (root._bokeh_timeout) === \"undefined\" || force === true) {\n    root._bokeh_timeout = Date.now() + 5000;\n    root._bokeh_failed_load = false;\n  }\n\n  function run_callbacks() {\n    try {\n      root._bokeh_onload_callbacks.forEach(function(callback) {\n        if (callback != null)\n          callback();\n      });\n    } finally {\n      delete root._bokeh_onload_callbacks\n    }\n    console.debug(\"Bokeh: all callbacks have finished\");\n  }\n\n  function load_libs(css_urls, js_urls, js_modules, callback) {\n    if (css_urls == null) css_urls = [];\n    if (js_urls == null) js_urls = [];\n    if (js_modules == null) js_modules = [];\n\n    root._bokeh_onload_callbacks.push(callback);\n    if (root._bokeh_is_loading > 0) {\n      console.debug(\"Bokeh: BokehJS is being loaded, scheduling callback at\", now());\n      return null;\n    }\n    if (js_urls.length === 0 && js_modules.length === 0) {\n      run_callbacks();\n      return null;\n    }\n    console.debug(\"Bokeh: BokehJS not loaded, scheduling load and callback at\", now());\n\n    function on_load() {\n      root._bokeh_is_loading--;\n      if (root._bokeh_is_loading === 0) {\n        console.debug(\"Bokeh: all BokehJS libraries/stylesheets loaded\");\n        run_callbacks()\n      }\n    }\n\n    function on_error() {\n      console.error(\"failed to load \" + url);\n    }\n\n    for (var i = 0; i < css_urls.length; i++) {\n      var url = css_urls[i];\n      const element = document.createElement(\"link\");\n      element.onload = on_load;\n      element.onerror = on_error;\n      element.rel = \"stylesheet\";\n      element.type = \"text/css\";\n      element.href = url;\n      console.debug(\"Bokeh: injecting link tag for BokehJS stylesheet: \", url);\n      document.body.appendChild(element);\n    }\n\n    var skip = [];\n    if (window.requirejs) {\n      window.requirejs.config({'packages': {}, 'paths': {}, 'shim': {}});\n      \n      root._bokeh_is_loading = css_urls.length + 0;\n    } else {\n      root._bokeh_is_loading = css_urls.length + js_urls.length + js_modules.length;\n    }\n    for (var i = 0; i < js_urls.length; i++) {\n      var url = js_urls[i];\n      if (skip.indexOf(url) >= 0) {\n\tif (!window.requirejs) {\n\t  on_load();\n\t}\n\tcontinue;\n      }\n      var element = document.createElement('script');\n      element.onload = on_load;\n      element.onerror = on_error;\n      element.async = false;\n      element.src = url;\n      console.debug(\"Bokeh: injecting script tag for BokehJS library: \", url);\n      document.head.appendChild(element);\n    }\n    for (var i = 0; i < js_modules.length; i++) {\n      var url = js_modules[i];\n      if (skip.indexOf(url) >= 0) {\n\tif (!window.requirejs) {\n\t  on_load();\n\t}\n\tcontinue;\n      }\n      var element = document.createElement('script');\n      element.onload = on_load;\n      element.onerror = on_error;\n      element.async = false;\n      element.src = url;\n      element.type = \"module\";\n      console.debug(\"Bokeh: injecting script tag for BokehJS library: \", url);\n      document.head.appendChild(element);\n    }\n    if (!js_urls.length && !js_modules.length) {\n      on_load()\n    }\n  };\n\n  function inject_raw_css(css) {\n    const element = document.createElement(\"style\");\n    element.appendChild(document.createTextNode(css));\n    document.body.appendChild(element);\n  }\n\n  var js_urls = [\"https://cdn.bokeh.org/bokeh/release/bokeh-2.4.2.min.js\", \"https://cdn.bokeh.org/bokeh/release/bokeh-gl-2.4.2.min.js\", \"https://cdn.bokeh.org/bokeh/release/bokeh-widgets-2.4.2.min.js\", \"https://cdn.bokeh.org/bokeh/release/bokeh-tables-2.4.2.min.js\", \"https://cdn.bokeh.org/bokeh/release/bokeh-mathjax-2.4.2.min.js\", \"https://unpkg.com/@holoviz/panel@0.12.6/dist/panel.min.js\"];\n  var js_modules = [];\n  var css_urls = [\"https://unpkg.com/@holoviz/panel@0.12.6/dist/css/alerts.css\", \"https://unpkg.com/@holoviz/panel@0.12.6/dist/css/card.css\", \"https://unpkg.com/@holoviz/panel@0.12.6/dist/css/widgets.css\", \"https://unpkg.com/@holoviz/panel@0.12.6/dist/css/markdown.css\", \"https://unpkg.com/@holoviz/panel@0.12.6/dist/css/json.css\", \"https://unpkg.com/@holoviz/panel@0.12.6/dist/css/loading.css\", \"https://unpkg.com/@holoviz/panel@0.12.6/dist/css/dataframe.css\"];\n  var inline_js = [\n    function(Bokeh) {\n      inject_raw_css(\"\\n    .bk.pn-loading.arcs:before {\\n      background-image: url(\\\"data:image/svg+xml;base64,PHN2ZyB4bWxucz0iaHR0cDovL3d3dy53My5vcmcvMjAwMC9zdmciIHhtbG5zOnhsaW5rPSJodHRwOi8vd3d3LnczLm9yZy8xOTk5L3hsaW5rIiBzdHlsZT0ibWFyZ2luOiBhdXRvOyBiYWNrZ3JvdW5kOiBub25lOyBkaXNwbGF5OiBibG9jazsgc2hhcGUtcmVuZGVyaW5nOiBhdXRvOyIgdmlld0JveD0iMCAwIDEwMCAxMDAiIHByZXNlcnZlQXNwZWN0UmF0aW89InhNaWRZTWlkIj4gIDxjaXJjbGUgY3g9IjUwIiBjeT0iNTAiIHI9IjMyIiBzdHJva2Utd2lkdGg9IjgiIHN0cm9rZT0iI2MzYzNjMyIgc3Ryb2tlLWRhc2hhcnJheT0iNTAuMjY1NDgyNDU3NDM2NjkgNTAuMjY1NDgyNDU3NDM2NjkiIGZpbGw9Im5vbmUiIHN0cm9rZS1saW5lY2FwPSJyb3VuZCI+ICAgIDxhbmltYXRlVHJhbnNmb3JtIGF0dHJpYnV0ZU5hbWU9InRyYW5zZm9ybSIgdHlwZT0icm90YXRlIiByZXBlYXRDb3VudD0iaW5kZWZpbml0ZSIgZHVyPSIxcyIga2V5VGltZXM9IjA7MSIgdmFsdWVzPSIwIDUwIDUwOzM2MCA1MCA1MCI+PC9hbmltYXRlVHJhbnNmb3JtPiAgPC9jaXJjbGU+PC9zdmc+\\\");\\n      max-height: 400px;\\n    }\\n    \");\n    },\n    function(Bokeh) {\n      Bokeh.set_log_level(\"info\");\n    },\n    function(Bokeh) {} // ensure no trailing comma for IE\n  ];\n\n  function run_inline_js() {\n    if ((root.Bokeh !== undefined) || (force === true)) {\n      for (var i = 0; i < inline_js.length; i++) {\n        inline_js[i].call(root, root.Bokeh);\n      }} else if (Date.now() < root._bokeh_timeout) {\n      setTimeout(run_inline_js, 100);\n    } else if (!root._bokeh_failed_load) {\n      console.log(\"Bokeh: BokehJS failed to load within specified timeout.\");\n      root._bokeh_failed_load = true;\n    }\n  }\n\n  if (root._bokeh_is_loading === 0) {\n    console.debug(\"Bokeh: BokehJS loaded, going straight to plotting\");\n    run_inline_js();\n  } else {\n    load_libs(css_urls, js_urls, js_modules, function() {\n      console.debug(\"Bokeh: BokehJS plotting callback run at\", now());\n      run_inline_js();\n    });\n  }\n}(window));"
     },
     "metadata": {},
     "output_type": "display_data"
    },
    {
     "data": {
      "application/javascript": [
       "\n",
       "if ((window.PyViz === undefined) || (window.PyViz instanceof HTMLElement)) {\n",
       "  window.PyViz = {comms: {}, comm_status:{}, kernels:{}, receivers: {}, plot_index: []}\n",
       "}\n",
       "\n",
       "\n",
       "    function JupyterCommManager() {\n",
       "    }\n",
       "\n",
       "    JupyterCommManager.prototype.register_target = function(plot_id, comm_id, msg_handler) {\n",
       "      if (window.comm_manager || ((window.Jupyter !== undefined) && (Jupyter.notebook.kernel != null))) {\n",
       "        var comm_manager = window.comm_manager || Jupyter.notebook.kernel.comm_manager;\n",
       "        comm_manager.register_target(comm_id, function(comm) {\n",
       "          comm.on_msg(msg_handler);\n",
       "        });\n",
       "      } else if ((plot_id in window.PyViz.kernels) && (window.PyViz.kernels[plot_id])) {\n",
       "        window.PyViz.kernels[plot_id].registerCommTarget(comm_id, function(comm) {\n",
       "          comm.onMsg = msg_handler;\n",
       "        });\n",
       "      } else if (typeof google != 'undefined' && google.colab.kernel != null) {\n",
       "        google.colab.kernel.comms.registerTarget(comm_id, (comm) => {\n",
       "          var messages = comm.messages[Symbol.asyncIterator]();\n",
       "          function processIteratorResult(result) {\n",
       "            var message = result.value;\n",
       "            console.log(message)\n",
       "            var content = {data: message.data, comm_id};\n",
       "            var buffers = []\n",
       "            for (var buffer of message.buffers || []) {\n",
       "              buffers.push(new DataView(buffer))\n",
       "            }\n",
       "            var metadata = message.metadata || {};\n",
       "            var msg = {content, buffers, metadata}\n",
       "            msg_handler(msg);\n",
       "            return messages.next().then(processIteratorResult);\n",
       "          }\n",
       "          return messages.next().then(processIteratorResult);\n",
       "        })\n",
       "      }\n",
       "    }\n",
       "\n",
       "    JupyterCommManager.prototype.get_client_comm = function(plot_id, comm_id, msg_handler) {\n",
       "      if (comm_id in window.PyViz.comms) {\n",
       "        return window.PyViz.comms[comm_id];\n",
       "      } else if (window.comm_manager || ((window.Jupyter !== undefined) && (Jupyter.notebook.kernel != null))) {\n",
       "        var comm_manager = window.comm_manager || Jupyter.notebook.kernel.comm_manager;\n",
       "        var comm = comm_manager.new_comm(comm_id, {}, {}, {}, comm_id);\n",
       "        if (msg_handler) {\n",
       "          comm.on_msg(msg_handler);\n",
       "        }\n",
       "      } else if ((plot_id in window.PyViz.kernels) && (window.PyViz.kernels[plot_id])) {\n",
       "        var comm = window.PyViz.kernels[plot_id].connectToComm(comm_id);\n",
       "        comm.open();\n",
       "        if (msg_handler) {\n",
       "          comm.onMsg = msg_handler;\n",
       "        }\n",
       "      } else if (typeof google != 'undefined' && google.colab.kernel != null) {\n",
       "        var comm_promise = google.colab.kernel.comms.open(comm_id)\n",
       "        comm_promise.then((comm) => {\n",
       "          window.PyViz.comms[comm_id] = comm;\n",
       "          if (msg_handler) {\n",
       "            var messages = comm.messages[Symbol.asyncIterator]();\n",
       "            function processIteratorResult(result) {\n",
       "              var message = result.value;\n",
       "              var content = {data: message.data};\n",
       "              var metadata = message.metadata || {comm_id};\n",
       "              var msg = {content, metadata}\n",
       "              msg_handler(msg);\n",
       "              return messages.next().then(processIteratorResult);\n",
       "            }\n",
       "            return messages.next().then(processIteratorResult);\n",
       "          }\n",
       "        }) \n",
       "        var sendClosure = (data, metadata, buffers, disposeOnDone) => {\n",
       "          return comm_promise.then((comm) => {\n",
       "            comm.send(data, metadata, buffers, disposeOnDone);\n",
       "          });\n",
       "        };\n",
       "        var comm = {\n",
       "          send: sendClosure\n",
       "        };\n",
       "      }\n",
       "      window.PyViz.comms[comm_id] = comm;\n",
       "      return comm;\n",
       "    }\n",
       "    window.PyViz.comm_manager = new JupyterCommManager();\n",
       "    \n",
       "\n",
       "\n",
       "var JS_MIME_TYPE = 'application/javascript';\n",
       "var HTML_MIME_TYPE = 'text/html';\n",
       "var EXEC_MIME_TYPE = 'application/vnd.holoviews_exec.v0+json';\n",
       "var CLASS_NAME = 'output';\n",
       "\n",
       "/**\n",
       " * Render data to the DOM node\n",
       " */\n",
       "function render(props, node) {\n",
       "  var div = document.createElement(\"div\");\n",
       "  var script = document.createElement(\"script\");\n",
       "  node.appendChild(div);\n",
       "  node.appendChild(script);\n",
       "}\n",
       "\n",
       "/**\n",
       " * Handle when a new output is added\n",
       " */\n",
       "function handle_add_output(event, handle) {\n",
       "  var output_area = handle.output_area;\n",
       "  var output = handle.output;\n",
       "  if ((output.data == undefined) || (!output.data.hasOwnProperty(EXEC_MIME_TYPE))) {\n",
       "    return\n",
       "  }\n",
       "  var id = output.metadata[EXEC_MIME_TYPE][\"id\"];\n",
       "  var toinsert = output_area.element.find(\".\" + CLASS_NAME.split(' ')[0]);\n",
       "  if (id !== undefined) {\n",
       "    var nchildren = toinsert.length;\n",
       "    var html_node = toinsert[nchildren-1].children[0];\n",
       "    html_node.innerHTML = output.data[HTML_MIME_TYPE];\n",
       "    var scripts = [];\n",
       "    var nodelist = html_node.querySelectorAll(\"script\");\n",
       "    for (var i in nodelist) {\n",
       "      if (nodelist.hasOwnProperty(i)) {\n",
       "        scripts.push(nodelist[i])\n",
       "      }\n",
       "    }\n",
       "\n",
       "    scripts.forEach( function (oldScript) {\n",
       "      var newScript = document.createElement(\"script\");\n",
       "      var attrs = [];\n",
       "      var nodemap = oldScript.attributes;\n",
       "      for (var j in nodemap) {\n",
       "        if (nodemap.hasOwnProperty(j)) {\n",
       "          attrs.push(nodemap[j])\n",
       "        }\n",
       "      }\n",
       "      attrs.forEach(function(attr) { newScript.setAttribute(attr.name, attr.value) });\n",
       "      newScript.appendChild(document.createTextNode(oldScript.innerHTML));\n",
       "      oldScript.parentNode.replaceChild(newScript, oldScript);\n",
       "    });\n",
       "    if (JS_MIME_TYPE in output.data) {\n",
       "      toinsert[nchildren-1].children[1].textContent = output.data[JS_MIME_TYPE];\n",
       "    }\n",
       "    output_area._hv_plot_id = id;\n",
       "    if ((window.Bokeh !== undefined) && (id in Bokeh.index)) {\n",
       "      window.PyViz.plot_index[id] = Bokeh.index[id];\n",
       "    } else {\n",
       "      window.PyViz.plot_index[id] = null;\n",
       "    }\n",
       "  } else if (output.metadata[EXEC_MIME_TYPE][\"server_id\"] !== undefined) {\n",
       "    var bk_div = document.createElement(\"div\");\n",
       "    bk_div.innerHTML = output.data[HTML_MIME_TYPE];\n",
       "    var script_attrs = bk_div.children[0].attributes;\n",
       "    for (var i = 0; i < script_attrs.length; i++) {\n",
       "      toinsert[toinsert.length - 1].childNodes[1].setAttribute(script_attrs[i].name, script_attrs[i].value);\n",
       "    }\n",
       "    // store reference to server id on output_area\n",
       "    output_area._bokeh_server_id = output.metadata[EXEC_MIME_TYPE][\"server_id\"];\n",
       "  }\n",
       "}\n",
       "\n",
       "/**\n",
       " * Handle when an output is cleared or removed\n",
       " */\n",
       "function handle_clear_output(event, handle) {\n",
       "  var id = handle.cell.output_area._hv_plot_id;\n",
       "  var server_id = handle.cell.output_area._bokeh_server_id;\n",
       "  if (((id === undefined) || !(id in PyViz.plot_index)) && (server_id !== undefined)) { return; }\n",
       "  var comm = window.PyViz.comm_manager.get_client_comm(\"hv-extension-comm\", \"hv-extension-comm\", function () {});\n",
       "  if (server_id !== null) {\n",
       "    comm.send({event_type: 'server_delete', 'id': server_id});\n",
       "    return;\n",
       "  } else if (comm !== null) {\n",
       "    comm.send({event_type: 'delete', 'id': id});\n",
       "  }\n",
       "  delete PyViz.plot_index[id];\n",
       "  if ((window.Bokeh !== undefined) & (id in window.Bokeh.index)) {\n",
       "    var doc = window.Bokeh.index[id].model.document\n",
       "    doc.clear();\n",
       "    const i = window.Bokeh.documents.indexOf(doc);\n",
       "    if (i > -1) {\n",
       "      window.Bokeh.documents.splice(i, 1);\n",
       "    }\n",
       "  }\n",
       "}\n",
       "\n",
       "/**\n",
       " * Handle kernel restart event\n",
       " */\n",
       "function handle_kernel_cleanup(event, handle) {\n",
       "  delete PyViz.comms[\"hv-extension-comm\"];\n",
       "  window.PyViz.plot_index = {}\n",
       "}\n",
       "\n",
       "/**\n",
       " * Handle update_display_data messages\n",
       " */\n",
       "function handle_update_output(event, handle) {\n",
       "  handle_clear_output(event, {cell: {output_area: handle.output_area}})\n",
       "  handle_add_output(event, handle)\n",
       "}\n",
       "\n",
       "function register_renderer(events, OutputArea) {\n",
       "  function append_mime(data, metadata, element) {\n",
       "    // create a DOM node to render to\n",
       "    var toinsert = this.create_output_subarea(\n",
       "    metadata,\n",
       "    CLASS_NAME,\n",
       "    EXEC_MIME_TYPE\n",
       "    );\n",
       "    this.keyboard_manager.register_events(toinsert);\n",
       "    // Render to node\n",
       "    var props = {data: data, metadata: metadata[EXEC_MIME_TYPE]};\n",
       "    render(props, toinsert[0]);\n",
       "    element.append(toinsert);\n",
       "    return toinsert\n",
       "  }\n",
       "\n",
       "  events.on('output_added.OutputArea', handle_add_output);\n",
       "  events.on('output_updated.OutputArea', handle_update_output);\n",
       "  events.on('clear_output.CodeCell', handle_clear_output);\n",
       "  events.on('delete.Cell', handle_clear_output);\n",
       "  events.on('kernel_ready.Kernel', handle_kernel_cleanup);\n",
       "\n",
       "  OutputArea.prototype.register_mime_type(EXEC_MIME_TYPE, append_mime, {\n",
       "    safe: true,\n",
       "    index: 0\n",
       "  });\n",
       "}\n",
       "\n",
       "if (window.Jupyter !== undefined) {\n",
       "  try {\n",
       "    var events = require('base/js/events');\n",
       "    var OutputArea = require('notebook/js/outputarea').OutputArea;\n",
       "    if (OutputArea.prototype.mime_types().indexOf(EXEC_MIME_TYPE) == -1) {\n",
       "      register_renderer(events, OutputArea);\n",
       "    }\n",
       "  } catch(err) {\n",
       "  }\n",
       "}\n"
      ],
      "application/vnd.holoviews_load.v0+json": "\nif ((window.PyViz === undefined) || (window.PyViz instanceof HTMLElement)) {\n  window.PyViz = {comms: {}, comm_status:{}, kernels:{}, receivers: {}, plot_index: []}\n}\n\n\n    function JupyterCommManager() {\n    }\n\n    JupyterCommManager.prototype.register_target = function(plot_id, comm_id, msg_handler) {\n      if (window.comm_manager || ((window.Jupyter !== undefined) && (Jupyter.notebook.kernel != null))) {\n        var comm_manager = window.comm_manager || Jupyter.notebook.kernel.comm_manager;\n        comm_manager.register_target(comm_id, function(comm) {\n          comm.on_msg(msg_handler);\n        });\n      } else if ((plot_id in window.PyViz.kernels) && (window.PyViz.kernels[plot_id])) {\n        window.PyViz.kernels[plot_id].registerCommTarget(comm_id, function(comm) {\n          comm.onMsg = msg_handler;\n        });\n      } else if (typeof google != 'undefined' && google.colab.kernel != null) {\n        google.colab.kernel.comms.registerTarget(comm_id, (comm) => {\n          var messages = comm.messages[Symbol.asyncIterator]();\n          function processIteratorResult(result) {\n            var message = result.value;\n            console.log(message)\n            var content = {data: message.data, comm_id};\n            var buffers = []\n            for (var buffer of message.buffers || []) {\n              buffers.push(new DataView(buffer))\n            }\n            var metadata = message.metadata || {};\n            var msg = {content, buffers, metadata}\n            msg_handler(msg);\n            return messages.next().then(processIteratorResult);\n          }\n          return messages.next().then(processIteratorResult);\n        })\n      }\n    }\n\n    JupyterCommManager.prototype.get_client_comm = function(plot_id, comm_id, msg_handler) {\n      if (comm_id in window.PyViz.comms) {\n        return window.PyViz.comms[comm_id];\n      } else if (window.comm_manager || ((window.Jupyter !== undefined) && (Jupyter.notebook.kernel != null))) {\n        var comm_manager = window.comm_manager || Jupyter.notebook.kernel.comm_manager;\n        var comm = comm_manager.new_comm(comm_id, {}, {}, {}, comm_id);\n        if (msg_handler) {\n          comm.on_msg(msg_handler);\n        }\n      } else if ((plot_id in window.PyViz.kernels) && (window.PyViz.kernels[plot_id])) {\n        var comm = window.PyViz.kernels[plot_id].connectToComm(comm_id);\n        comm.open();\n        if (msg_handler) {\n          comm.onMsg = msg_handler;\n        }\n      } else if (typeof google != 'undefined' && google.colab.kernel != null) {\n        var comm_promise = google.colab.kernel.comms.open(comm_id)\n        comm_promise.then((comm) => {\n          window.PyViz.comms[comm_id] = comm;\n          if (msg_handler) {\n            var messages = comm.messages[Symbol.asyncIterator]();\n            function processIteratorResult(result) {\n              var message = result.value;\n              var content = {data: message.data};\n              var metadata = message.metadata || {comm_id};\n              var msg = {content, metadata}\n              msg_handler(msg);\n              return messages.next().then(processIteratorResult);\n            }\n            return messages.next().then(processIteratorResult);\n          }\n        }) \n        var sendClosure = (data, metadata, buffers, disposeOnDone) => {\n          return comm_promise.then((comm) => {\n            comm.send(data, metadata, buffers, disposeOnDone);\n          });\n        };\n        var comm = {\n          send: sendClosure\n        };\n      }\n      window.PyViz.comms[comm_id] = comm;\n      return comm;\n    }\n    window.PyViz.comm_manager = new JupyterCommManager();\n    \n\n\nvar JS_MIME_TYPE = 'application/javascript';\nvar HTML_MIME_TYPE = 'text/html';\nvar EXEC_MIME_TYPE = 'application/vnd.holoviews_exec.v0+json';\nvar CLASS_NAME = 'output';\n\n/**\n * Render data to the DOM node\n */\nfunction render(props, node) {\n  var div = document.createElement(\"div\");\n  var script = document.createElement(\"script\");\n  node.appendChild(div);\n  node.appendChild(script);\n}\n\n/**\n * Handle when a new output is added\n */\nfunction handle_add_output(event, handle) {\n  var output_area = handle.output_area;\n  var output = handle.output;\n  if ((output.data == undefined) || (!output.data.hasOwnProperty(EXEC_MIME_TYPE))) {\n    return\n  }\n  var id = output.metadata[EXEC_MIME_TYPE][\"id\"];\n  var toinsert = output_area.element.find(\".\" + CLASS_NAME.split(' ')[0]);\n  if (id !== undefined) {\n    var nchildren = toinsert.length;\n    var html_node = toinsert[nchildren-1].children[0];\n    html_node.innerHTML = output.data[HTML_MIME_TYPE];\n    var scripts = [];\n    var nodelist = html_node.querySelectorAll(\"script\");\n    for (var i in nodelist) {\n      if (nodelist.hasOwnProperty(i)) {\n        scripts.push(nodelist[i])\n      }\n    }\n\n    scripts.forEach( function (oldScript) {\n      var newScript = document.createElement(\"script\");\n      var attrs = [];\n      var nodemap = oldScript.attributes;\n      for (var j in nodemap) {\n        if (nodemap.hasOwnProperty(j)) {\n          attrs.push(nodemap[j])\n        }\n      }\n      attrs.forEach(function(attr) { newScript.setAttribute(attr.name, attr.value) });\n      newScript.appendChild(document.createTextNode(oldScript.innerHTML));\n      oldScript.parentNode.replaceChild(newScript, oldScript);\n    });\n    if (JS_MIME_TYPE in output.data) {\n      toinsert[nchildren-1].children[1].textContent = output.data[JS_MIME_TYPE];\n    }\n    output_area._hv_plot_id = id;\n    if ((window.Bokeh !== undefined) && (id in Bokeh.index)) {\n      window.PyViz.plot_index[id] = Bokeh.index[id];\n    } else {\n      window.PyViz.plot_index[id] = null;\n    }\n  } else if (output.metadata[EXEC_MIME_TYPE][\"server_id\"] !== undefined) {\n    var bk_div = document.createElement(\"div\");\n    bk_div.innerHTML = output.data[HTML_MIME_TYPE];\n    var script_attrs = bk_div.children[0].attributes;\n    for (var i = 0; i < script_attrs.length; i++) {\n      toinsert[toinsert.length - 1].childNodes[1].setAttribute(script_attrs[i].name, script_attrs[i].value);\n    }\n    // store reference to server id on output_area\n    output_area._bokeh_server_id = output.metadata[EXEC_MIME_TYPE][\"server_id\"];\n  }\n}\n\n/**\n * Handle when an output is cleared or removed\n */\nfunction handle_clear_output(event, handle) {\n  var id = handle.cell.output_area._hv_plot_id;\n  var server_id = handle.cell.output_area._bokeh_server_id;\n  if (((id === undefined) || !(id in PyViz.plot_index)) && (server_id !== undefined)) { return; }\n  var comm = window.PyViz.comm_manager.get_client_comm(\"hv-extension-comm\", \"hv-extension-comm\", function () {});\n  if (server_id !== null) {\n    comm.send({event_type: 'server_delete', 'id': server_id});\n    return;\n  } else if (comm !== null) {\n    comm.send({event_type: 'delete', 'id': id});\n  }\n  delete PyViz.plot_index[id];\n  if ((window.Bokeh !== undefined) & (id in window.Bokeh.index)) {\n    var doc = window.Bokeh.index[id].model.document\n    doc.clear();\n    const i = window.Bokeh.documents.indexOf(doc);\n    if (i > -1) {\n      window.Bokeh.documents.splice(i, 1);\n    }\n  }\n}\n\n/**\n * Handle kernel restart event\n */\nfunction handle_kernel_cleanup(event, handle) {\n  delete PyViz.comms[\"hv-extension-comm\"];\n  window.PyViz.plot_index = {}\n}\n\n/**\n * Handle update_display_data messages\n */\nfunction handle_update_output(event, handle) {\n  handle_clear_output(event, {cell: {output_area: handle.output_area}})\n  handle_add_output(event, handle)\n}\n\nfunction register_renderer(events, OutputArea) {\n  function append_mime(data, metadata, element) {\n    // create a DOM node to render to\n    var toinsert = this.create_output_subarea(\n    metadata,\n    CLASS_NAME,\n    EXEC_MIME_TYPE\n    );\n    this.keyboard_manager.register_events(toinsert);\n    // Render to node\n    var props = {data: data, metadata: metadata[EXEC_MIME_TYPE]};\n    render(props, toinsert[0]);\n    element.append(toinsert);\n    return toinsert\n  }\n\n  events.on('output_added.OutputArea', handle_add_output);\n  events.on('output_updated.OutputArea', handle_update_output);\n  events.on('clear_output.CodeCell', handle_clear_output);\n  events.on('delete.Cell', handle_clear_output);\n  events.on('kernel_ready.Kernel', handle_kernel_cleanup);\n\n  OutputArea.prototype.register_mime_type(EXEC_MIME_TYPE, append_mime, {\n    safe: true,\n    index: 0\n  });\n}\n\nif (window.Jupyter !== undefined) {\n  try {\n    var events = require('base/js/events');\n    var OutputArea = require('notebook/js/outputarea').OutputArea;\n    if (OutputArea.prototype.mime_types().indexOf(EXEC_MIME_TYPE) == -1) {\n      register_renderer(events, OutputArea);\n    }\n  } catch(err) {\n  }\n}\n"
     },
     "metadata": {},
     "output_type": "display_data"
    },
    {
     "data": {},
     "metadata": {},
     "output_type": "display_data"
    },
    {
     "data": {
      "application/vnd.holoviews_exec.v0+json": "",
      "text/html": [
       "<div id='1002'>\n",
       "\n",
       "\n",
       "\n",
       "\n",
       "\n",
       "  <div class=\"bk-root\" id=\"74c59945-8d65-4ac0-9c67-ac3c25e0c6ac\" data-root-id=\"1002\"></div>\n",
       "</div>\n",
       "<script type=\"application/javascript\">(function(root) {\n",
       "  function embed_document(root) {\n",
       "    var docs_json = {\"500fb9ef-11ac-4a47-8128-08d933a26b27\":{\"defs\":[{\"extends\":null,\"module\":null,\"name\":\"ReactiveHTML1\",\"overrides\":[],\"properties\":[]},{\"extends\":null,\"module\":null,\"name\":\"FlexBox1\",\"overrides\":[],\"properties\":[{\"default\":\"flex-start\",\"kind\":null,\"name\":\"align_content\"},{\"default\":\"flex-start\",\"kind\":null,\"name\":\"align_items\"},{\"default\":\"row\",\"kind\":null,\"name\":\"flex_direction\"},{\"default\":\"wrap\",\"kind\":null,\"name\":\"flex_wrap\"},{\"default\":\"flex-start\",\"kind\":null,\"name\":\"justify_content\"}]},{\"extends\":null,\"module\":null,\"name\":\"TemplateActions1\",\"overrides\":[],\"properties\":[{\"default\":0,\"kind\":null,\"name\":\"open_modal\"},{\"default\":0,\"kind\":null,\"name\":\"close_modal\"}]},{\"extends\":null,\"module\":null,\"name\":\"MaterialTemplateActions1\",\"overrides\":[],\"properties\":[{\"default\":0,\"kind\":null,\"name\":\"open_modal\"},{\"default\":0,\"kind\":null,\"name\":\"close_modal\"}]}],\"roots\":{\"references\":[{\"attributes\":{\"end\":3.145,\"margin\":[5,10,5,10],\"start\":0,\"step\":0.1,\"title\":\"Float range\",\"value\":[0,1.57]},\"id\":\"1014\",\"type\":\"RangeSlider\"},{\"attributes\":{\"color\":\"#ffffff\",\"margin\":[5,10,5,10],\"title\":\"Color\"},\"id\":\"1017\",\"type\":\"ColorPicker\"},{\"attributes\":{\"active\":[0],\"labels\":[\"Boolean\"],\"margin\":[5,10,5,10]},\"id\":\"1016\",\"type\":\"CheckboxGroup\"},{\"attributes\":{\"children\":[{\"id\":\"1070\"},{\"id\":\"1071\"},{\"id\":\"1074\"}],\"margin\":[0,0,0,0],\"name\":\"Column00163\"},\"id\":\"1069\",\"type\":\"Column\"},{\"attributes\":{\"css_classes\":[\"markdown\"],\"margin\":[0,0,0,0],\"name\":\"Markdown00174\",\"text\":\"&lt;h3&gt;File Browser&lt;/h3&gt;\"},\"id\":\"1066\",\"type\":\"panel.models.markup.HTML\"},{\"attributes\":{\"margin\":[5,10,5,10],\"title\":\"Dictionary\",\"value\":\"{'a': 2, 'b': 9}\"},\"id\":\"1015\",\"type\":\"TextInput\"},{\"attributes\":{\"margin\":[5,10,5,10],\"title\":\"Date\",\"value\":\"2017-01-01 00:00:00\"},\"id\":\"1018\",\"type\":\"TextInput\"},{\"attributes\":{\"margin\":[5,10,5,10],\"max_length\":5000,\"title\":\"String value\",\"value\":\"str\"},\"id\":\"1008\",\"type\":\"TextInput\"},{\"attributes\":{\"margin\":[5,10,5,10],\"options\":[\"1\",\"3\",\"5\",\"7\",\"9\"],\"title\":\"Int list\",\"value\":[\"3\",\"5\"]},\"id\":\"1053\",\"type\":\"MultiSelect\"},{\"attributes\":{\"margin\":[0,0,10,0],\"max_length\":5000,\"placeholder\":\"Filter available options\",\"width_policy\":\"max\"},\"id\":\"1067\",\"type\":\"TextInput\"},{\"attributes\":{\"data\":{\"A\":{\"__ndarray__\":\"4l/dp4TMxr/0OKg0JEK/Pyh7AEQUBvC/\",\"dtype\":\"float64\",\"order\":\"little\",\"shape\":[3]},\"B\":{\"__ndarray__\":\"gk6RWdx+/r967ipXyd62v6jYp4NUJ94/\",\"dtype\":\"float64\",\"order\":\"little\",\"shape\":[3]},\"C\":{\"__ndarray__\":\"ttDrMjax8T8WmmJfrrfzv+/GShJLkde/\",\"dtype\":\"float64\",\"order\":\"little\",\"shape\":[3]},\"D\":{\"__ndarray__\":\"f35INt5D2r8TYi6tBKi1v/UV59DBt/G/\",\"dtype\":\"float64\",\"order\":\"little\",\"shape\":[3]},\"index\":[\"HZEmEk9BLi\",\"pyGtTcwY2u\",\"M2cwyCbQxB\"]},\"selected\":{\"id\":\"1020\"},\"selection_policy\":{\"id\":\"1093\"}},\"id\":\"1019\",\"type\":\"ColumnDataSource\"},{\"attributes\":{\"margin\":[5,10,5,10],\"options\":[[\"../../Stock-Dashboard-Viewer/MCForecastTools.py\",\"Stock-Dashboard-Viewer/MCForecastTools.py\"],[\"../../Stock-Dashboard-Viewer/data_collection.py\",\"Stock-Dashboard-Viewer/data_collection.py\"],[\"../../Stock-Dashboard-Viewer/newfile2.py\",\"Stock-Dashboard-Viewer/newfile2.py\"],[\"../../Stock-Dashboard-Viewer/test2.py\",\"Stock-Dashboard-Viewer/test2.py\"]],\"title\":\"Single file\",\"value\":\"../../Stock-Dashboard-Viewer/MCForecastTools.py\"},\"id\":\"1054\",\"type\":\"Select\"},{\"attributes\":{},\"id\":\"1021\",\"type\":\"StringFormatter\"},{\"attributes\":{\"margin\":[5,5,5,5],\"name\":\"VSpacer00161\",\"sizing_mode\":\"stretch_height\"},\"id\":\"1070\",\"type\":\"Spacer\"},{\"attributes\":{\"children\":[{\"id\":\"1057\"},{\"id\":\"1058\"},{\"id\":\"1059\"},{\"id\":\"1060\"},{\"id\":\"1061\"},{\"id\":\"1062\"}],\"margin\":[0,0,0,0],\"name\":\"Row00170\",\"width_policy\":\"max\"},\"id\":\"1056\",\"type\":\"Row\"},{\"attributes\":{\"children\":[{\"id\":\"1056\"},{\"id\":\"1063\"},{\"id\":\"1064\"}],\"margin\":[5,10,20,10],\"name\":\"Column00148\",\"sizing_mode\":\"stretch_width\"},\"id\":\"1055\",\"type\":\"Column\"},{\"attributes\":{\"editor\":{\"id\":\"1023\"},\"field\":\"index\",\"formatter\":{\"id\":\"1021\"},\"title\":\"index\",\"width\":0},\"id\":\"1024\",\"type\":\"TableColumn\"},{\"attributes\":{\"css_classes\":[\"markdown\"],\"margin\":[0,0,0,0],\"name\":\"Markdown00172\",\"text\":\"&lt;h3&gt;Selected files&lt;/h3&gt;\"},\"id\":\"1076\",\"type\":\"panel.models.markup.HTML\"},{\"attributes\":{\"end\":100000,\"margin\":[5,10,5,10],\"start\":-200,\"title\":\"Num int\",\"value\":50000},\"id\":\"1086\",\"type\":\"Slider\"},{\"attributes\":{\"columns\":[{\"id\":\"1024\"},{\"id\":\"1029\"},{\"id\":\"1034\"},{\"id\":\"1039\"},{\"id\":\"1044\"}],\"editable\":true,\"height\":150,\"index_position\":null,\"margin\":[5,10,5,10],\"name\":\"Dataframe\",\"row_height\":40,\"source\":{\"id\":\"1019\"},\"view\":{\"id\":\"1049\"}},\"id\":\"1047\",\"type\":\"DataTable\"},{\"attributes\":{\"margin\":[0,0,0,0],\"name\":\"Divider00171\",\"style\":{\"height\":\"100%\",\"width\":\"100%\"},\"text\":\"<hr style=\\\"margin: 0px\\\">\",\"width_policy\":\"fit\"},\"id\":\"1063\",\"type\":\"Div\"},{\"attributes\":{\"disabled\":true,\"icon\":null,\"label\":\"\\u25b6\",\"margin\":[5,10,5,10],\"min_width\":25,\"subscribed_events\":[\"button_click\"],\"width\":25},\"id\":\"1058\",\"type\":\"Button\"},{\"attributes\":{\"margin\":[0,0,0,0],\"options\":[\"\\ud83d\\udcc1Clean_file\",\"\\ud83d\\udcc1charts\",\"AAPL\",\"BTC.csv\",\"NVDA.csv\",\"Param.ipynb\",\"RKT\",\"Sentimen_sctrach_book.ipynb\",\"tweets.pkl\"],\"size\":10,\"sizing_mode\":\"stretch_both\"},\"id\":\"1068\",\"type\":\"MultiSelect\"},{\"attributes\":{},\"id\":\"1023\",\"type\":\"CellEditor\"},{\"attributes\":{\"margin\":[0,0,10,0],\"max_length\":5000,\"placeholder\":\"Filter selected options\",\"width_policy\":\"max\"},\"id\":\"1077\",\"type\":\"TextInput\"},{\"attributes\":{\"end\":10,\"margin\":[5,10,5,10],\"start\":7.5,\"step\":0.1,\"title\":\"Float with hard bounds\",\"value\":8.2},\"id\":\"1011\",\"type\":\"Slider\"},{\"attributes\":{\"children\":[{\"id\":\"1065\"},{\"id\":\"1069\"},{\"id\":\"1075\"}],\"margin\":[0,0,0,0],\"name\":\"Row00150\",\"sizing_mode\":\"stretch_both\",\"width\":600},\"id\":\"1064\",\"type\":\"Row\"},{\"attributes\":{\"children\":[{\"id\":\"1072\"},{\"id\":\"1073\"}],\"margin\":[0,5,0,5],\"name\":\"Column00160\"},\"id\":\"1071\",\"type\":\"Column\"},{\"attributes\":{\"disabled\":true,\"icon\":null,\"label\":\"\\u2b06\",\"margin\":[5,10,5,10],\"min_width\":25,\"subscribed_events\":[\"button_click\"],\"width\":25},\"id\":\"1059\",\"type\":\"Button\"},{\"attributes\":{\"reload\":false},\"id\":\"1106\",\"type\":\"panel.models.location.Location\"},{\"attributes\":{\"format\":\"0,0.0[00000]\"},\"id\":\"1027\",\"type\":\"NumberFormatter\"},{\"attributes\":{},\"id\":\"1028\",\"type\":\"NumberEditor\"},{\"attributes\":{\"margin\":[5,10,5,10],\"title\":\"Dictionary\",\"value\":\"{'a': 2, 'b': 9}\"},\"id\":\"1092\",\"type\":\"TextInput\"},{\"attributes\":{\"margin\":[5,10,5,10],\"max_length\":5000,\"value\":\"/Users/jalhussain/ASU_Fintech/Project_1/Stock-Dashboard-Viewer/sentiment\",\"width_policy\":\"max\"},\"id\":\"1060\",\"type\":\"TextInput\"},{\"attributes\":{\"icon\":null,\"label\":\"<<\",\"margin\":[5,10,5,10],\"min_width\":50,\"subscribed_events\":[\"button_click\"],\"width\":50},\"id\":\"1073\",\"type\":\"Button\"},{\"attributes\":{\"margin\":[5,10,5,10],\"name\":\"\",\"text\":\"<b>BaseClass</b>\"},\"id\":\"1081\",\"type\":\"Div\"},{\"attributes\":{\"margin\":[5,10,5,10],\"title\":\"X\",\"value\":\"3.14\"},\"id\":\"1083\",\"type\":\"TextInput\"},{\"attributes\":{\"disabled\":true,\"icon\":null,\"label\":\"\\u2b07\",\"margin\":[5,10,0,0],\"min_width\":25,\"subscribed_events\":[\"button_click\"],\"width\":25},\"id\":\"1061\",\"type\":\"Button\"},{\"attributes\":{\"margin\":[5,5,5,5],\"name\":\"VSpacer00162\",\"sizing_mode\":\"stretch_height\"},\"id\":\"1074\",\"type\":\"Spacer\"},{\"attributes\":{\"icon\":null,\"label\":\">>\",\"margin\":[5,10,5,10],\"min_width\":50,\"subscribed_events\":[\"button_click\"],\"width\":50},\"id\":\"1072\",\"type\":\"Button\"},{\"attributes\":{\"editor\":{\"id\":\"1028\"},\"field\":\"A\",\"formatter\":{\"id\":\"1027\"},\"title\":\"A\",\"width\":0},\"id\":\"1029\",\"type\":\"TableColumn\"},{\"attributes\":{\"icon\":null,\"label\":\"\\u21bb\",\"margin\":[5,15,0,10],\"min_width\":25,\"subscribed_events\":[\"button_click\"],\"width\":25},\"id\":\"1062\",\"type\":\"Button\"},{\"attributes\":{},\"id\":\"1033\",\"type\":\"NumberEditor\"},{\"attributes\":{\"end\":2,\"margin\":[5,10,5,10],\"start\":0,\"step\":0.1,\"title\":\"Float with soft bounds\",\"value\":0.5},\"id\":\"1012\",\"type\":\"Slider\"},{\"attributes\":{\"format\":\"0,0.0[00000]\"},\"id\":\"1032\",\"type\":\"NumberFormatter\"},{\"attributes\":{},\"id\":\"1093\",\"type\":\"UnionRenderers\"},{\"attributes\":{\"children\":[{\"id\":\"1076\"},{\"id\":\"1077\"},{\"id\":\"1078\"}],\"margin\":[0,0,0,0],\"name\":\"Column00159\",\"sizing_mode\":\"stretch_both\"},\"id\":\"1075\",\"type\":\"Column\"},{\"attributes\":{\"margin\":[5,10,5,10],\"max_length\":5000,\"title\":\"String value\",\"value\":\"str\"},\"id\":\"1085\",\"type\":\"TextInput\"},{\"attributes\":{\"client_comm_id\":\"09e6a5b8fa4947f99e00c2bf40268f3d\",\"comm_id\":\"b5052a76ded14060beac2a1d7cadeaf1\",\"plot_id\":\"1002\"},\"id\":\"1099\",\"type\":\"panel.models.comm_manager.CommManager\"},{\"attributes\":{\"disabled\":true,\"margin\":[5,10,5,10],\"title\":\"Y\",\"value\":\"'Not editable'\"},\"id\":\"1007\",\"type\":\"TextInput\"},{\"attributes\":{\"children\":[{\"id\":\"1066\"},{\"id\":\"1067\"},{\"id\":\"1068\"}],\"margin\":[0,0,0,0],\"name\":\"Column00158\",\"sizing_mode\":\"stretch_both\"},\"id\":\"1065\",\"type\":\"Column\"},{\"attributes\":{\"disabled\":true,\"margin\":[0,0,0,0],\"max_length\":5000,\"placeholder\":\"To select an item highlight it on the left and use the arrow button to move it to the right.\",\"sizing_mode\":\"stretch_both\"},\"id\":\"1078\",\"type\":\"TextAreaInput\"},{\"attributes\":{\"editor\":{\"id\":\"1033\"},\"field\":\"B\",\"formatter\":{\"id\":\"1032\"},\"title\":\"B\",\"width\":0},\"id\":\"1034\",\"type\":\"TableColumn\"},{\"attributes\":{\"icon\":null,\"label\":\"Record timestamp\",\"margin\":[5,10,5,10],\"subscribed_events\":[\"button_click\"]},\"id\":\"1079\",\"type\":\"Button\"},{\"attributes\":{},\"id\":\"1038\",\"type\":\"NumberEditor\"},{\"attributes\":{\"end\":10,\"margin\":[5,10,5,10],\"start\":0,\"title\":\"Integer range\",\"value\":[3,7]},\"id\":\"1090\",\"type\":\"RangeSlider\"},{\"attributes\":{\"format\":\"0,0.0[00000]\"},\"id\":\"1037\",\"type\":\"NumberFormatter\"},{\"attributes\":{\"children\":[{\"id\":\"1003\"},{\"id\":\"1080\"}],\"margin\":[0,0,0,0],\"name\":\"Row00207\"},\"id\":\"1002\",\"type\":\"Row\"},{\"attributes\":{\"disabled\":true,\"margin\":[5,10,5,10],\"title\":\"Y\",\"value\":\"'Not editable'\"},\"id\":\"1084\",\"type\":\"TextInput\"},{\"attributes\":{\"children\":[{\"id\":\"1004\"},{\"id\":\"1005\"},{\"id\":\"1006\"},{\"id\":\"1007\"},{\"id\":\"1008\"},{\"id\":\"1009\"},{\"id\":\"1010\"},{\"id\":\"1011\"},{\"id\":\"1012\"},{\"id\":\"1013\"},{\"id\":\"1014\"},{\"id\":\"1015\"},{\"id\":\"1016\"},{\"id\":\"1017\"},{\"id\":\"1018\"},{\"id\":\"1047\"},{\"id\":\"1051\"},{\"id\":\"1052\"},{\"id\":\"1053\"},{\"id\":\"1054\"},{\"id\":\"1055\"},{\"id\":\"1079\"}],\"margin\":[5,5,5,5],\"min_width\":300,\"name\":\"Example\",\"width\":300},\"id\":\"1003\",\"type\":\"Column\"},{\"attributes\":{\"margin\":[5,10,5,10],\"placeholder\":\"0\",\"step\":0.1,\"title\":\"Unbounded float\",\"value\":30.01,\"value_throttled\":30.01},\"id\":\"1082\",\"type\":\"Spinner\"},{\"attributes\":{\"margin\":[5,10,5,10],\"options\":[[\"<class 'list'>\",\"list\"],[\"<class 'set'>\",\"set\"],[\"<class 'dict'>\",\"dict\"]],\"title\":\"Select fn\",\"value\":\"<class 'list'>\"},\"id\":\"1052\",\"type\":\"Select\"},{\"attributes\":{\"margin\":[5,10,5,10],\"mode\":\"int\",\"placeholder\":\"0\",\"title\":\"Unbounded int\",\"value\":23,\"value_throttled\":23},\"id\":\"1010\",\"type\":\"Spinner\"},{\"attributes\":{\"margin\":[5,10,5,10],\"name\":\"\",\"text\":\"<b>Example</b>\"},\"id\":\"1004\",\"type\":\"Div\"},{\"attributes\":{\"children\":[{\"id\":\"1081\"},{\"id\":\"1082\"},{\"id\":\"1083\"},{\"id\":\"1084\"},{\"id\":\"1085\"},{\"id\":\"1086\"},{\"id\":\"1087\"},{\"id\":\"1088\"},{\"id\":\"1089\"},{\"id\":\"1090\"},{\"id\":\"1091\"},{\"id\":\"1092\"}],\"margin\":[5,5,5,5],\"min_width\":300,\"name\":\"BaseClass\",\"width\":300},\"id\":\"1080\",\"type\":\"Column\"},{\"attributes\":{\"editor\":{\"id\":\"1038\"},\"field\":\"C\",\"formatter\":{\"id\":\"1037\"},\"title\":\"C\",\"width\":0},\"id\":\"1039\",\"type\":\"TableColumn\"},{\"attributes\":{},\"id\":\"1043\",\"type\":\"NumberEditor\"},{\"attributes\":{\"disabled\":true,\"icon\":null,\"label\":\"\\u25c0\",\"margin\":[5,10,0,0],\"min_width\":25,\"subscribed_events\":[\"button_click\"],\"width\":25},\"id\":\"1057\",\"type\":\"Button\"},{\"attributes\":{\"format\":\"0,0.0[00000]\"},\"id\":\"1042\",\"type\":\"NumberFormatter\"},{\"attributes\":{\"margin\":[5,10,5,10],\"placeholder\":\"0\",\"step\":0.1,\"title\":\"Unbounded float\",\"value\":30.01,\"value_throttled\":30.01},\"id\":\"1005\",\"type\":\"Spinner\"},{\"attributes\":{\"end\":2,\"margin\":[5,10,5,10],\"start\":0,\"step\":0.1,\"title\":\"Float with soft bounds\",\"value\":0.5},\"id\":\"1089\",\"type\":\"Slider\"},{\"attributes\":{\"margin\":[5,10,5,10],\"title\":\"X\",\"value\":\"3.14\"},\"id\":\"1006\",\"type\":\"TextInput\"},{\"attributes\":{\"end\":100000,\"margin\":[5,10,5,10],\"start\":-200,\"title\":\"Num int\",\"value\":50000},\"id\":\"1009\",\"type\":\"Slider\"},{\"attributes\":{\"margin\":[5,10,5,10],\"options\":[[\"red\",\"red\"],[\"yellow\",\"yellow\"],[\"green\",\"green\"]],\"title\":\"Select string\",\"value\":\"yellow\"},\"id\":\"1051\",\"type\":\"Select\"},{\"attributes\":{\"end\":3.145,\"margin\":[5,10,5,10],\"start\":0,\"step\":0.1,\"title\":\"Float range\",\"value\":[0,1.57]},\"id\":\"1091\",\"type\":\"RangeSlider\"},{\"attributes\":{\"end\":10,\"margin\":[5,10,5,10],\"start\":0,\"title\":\"Integer range\",\"value\":[3,7]},\"id\":\"1013\",\"type\":\"RangeSlider\"},{\"attributes\":{\"source\":{\"id\":\"1019\"}},\"id\":\"1049\",\"type\":\"CDSView\"},{\"attributes\":{\"indices\":[]},\"id\":\"1020\",\"type\":\"Selection\"},{\"attributes\":{\"margin\":[5,10,5,10],\"mode\":\"int\",\"placeholder\":\"0\",\"title\":\"Unbounded int\",\"value\":23,\"value_throttled\":23},\"id\":\"1087\",\"type\":\"Spinner\"},{\"attributes\":{\"end\":10,\"margin\":[5,10,5,10],\"start\":7.5,\"step\":0.1,\"title\":\"Float with hard bounds\",\"value\":8.2},\"id\":\"1088\",\"type\":\"Slider\"},{\"attributes\":{\"editor\":{\"id\":\"1043\"},\"field\":\"D\",\"formatter\":{\"id\":\"1042\"},\"title\":\"D\",\"width\":0},\"id\":\"1044\",\"type\":\"TableColumn\"}],\"root_ids\":[\"1002\",\"1099\",\"1106\"]},\"title\":\"Bokeh Application\",\"version\":\"2.4.2\"}};\n",
       "    var render_items = [{\"docid\":\"500fb9ef-11ac-4a47-8128-08d933a26b27\",\"root_ids\":[\"1002\"],\"roots\":{\"1002\":\"74c59945-8d65-4ac0-9c67-ac3c25e0c6ac\"}}];\n",
       "    root.Bokeh.embed.embed_items_notebook(docs_json, render_items);\n",
       "  }\n",
       "  if (root.Bokeh !== undefined && root.Bokeh.Panel !== undefined) {\n",
       "    embed_document(root);\n",
       "  } else {\n",
       "    var attempts = 0;\n",
       "    var timer = setInterval(function(root) {\n",
       "      if (root.Bokeh !== undefined && root.Bokeh.Panel !== undefined) {\n",
       "        clearInterval(timer);\n",
       "        embed_document(root);\n",
       "      } else if (document.readyState == \"complete\") {\n",
       "        attempts++;\n",
       "        if (attempts > 200) {\n",
       "          clearInterval(timer);\n",
       "          console.log(\"Bokeh: ERROR: Unable to run BokehJS code because BokehJS library is missing\");\n",
       "        }\n",
       "      }\n",
       "    }, 25, root)\n",
       "  }\n",
       "})(window);</script>"
      ],
      "text/plain": [
       "Row\n",
       "    [0] Column(margin=5, name='Example', width=300)\n",
       "        [0] StaticText(value='<b>Example</b>')\n",
       "        [1] FloatInput(name='Unbounded float', value=30.01)\n",
       "        [2] LiteralInput(name='X', value=3.14)\n",
       "        [3] LiteralInput(disabled=True, name='Y', value='Not editable')\n",
       "        [4] TextInput(name='String value', value='str')\n",
       "        [5] IntSlider(end=100000, name='Num int', start=-200, value=50000)\n",
       "        [6] IntInput(name='Unbounded int', value=23)\n",
       "        [7] FloatSlider(end=10, name='Float with hard bounds', start=7.5, value=8.2)\n",
       "        [8] FloatSlider(end=2, name='Float with soft bounds', value=0.5)\n",
       "        [9] RangeSlider(end=10, name='Integer range', step=1, value=(3, 7), value_end=7, value_start=3)\n",
       "        [10] RangeSlider(end=3.145, name='Float range', value=(0, 1.57), value_end=1.57)\n",
       "        [11] DictInput(name='Dictionary', type=<class 'dict'>, value={'a': 2, 'b': 9})\n",
       "        [12] Checkbox(name='Boolean', value=True)\n",
       "        [13] ColorPicker(name='Color', value='#FFFFFF')\n",
       "        [14] DatetimeInput(end=datetime.datetime(2017, ..., name='Date', start=datetime.datetime(2017, ..., type=<class 'datetime.datetime'..., value=datetime.datetime(2017, ...)\n",
       "        [15] DataFrame(name='Dataframe', value=              ...)\n",
       "        [16] Select(options=OrderedDict([('red', ...]), value='yellow')\n",
       "        [17] Select(options=OrderedDict([('list', ...]), value=<class 'list'>)\n",
       "        [18] MultiSelect(name='Int list', options=OrderedDict([('1', ...]), value=[3, 5])\n",
       "        [19] Select(name='Single file', options=OrderedDict([('Stock-Dashb...]), value='../../Stock-Dashboard-Vie...)\n",
       "        [20] FileSelector(name='Multiple files')\n",
       "        [21] Button(name='Record timestamp')\n",
       "    [1] Column(margin=5, name='BaseClass', width=300)\n",
       "        [0] StaticText(value='<b>BaseClass</b>')\n",
       "        [1] FloatInput(name='Unbounded float', value=30.01)\n",
       "        [2] LiteralInput(name='X', value=3.14)\n",
       "        [3] LiteralInput(disabled=True, name='Y', value='Not editable')\n",
       "        [4] TextInput(name='String value', value='str')\n",
       "        [5] IntSlider(end=100000, name='Num int', start=-200, value=50000)\n",
       "        [6] IntInput(name='Unbounded int', value=23)\n",
       "        [7] FloatSlider(end=10, name='Float with hard bounds', start=7.5, value=8.2)\n",
       "        [8] FloatSlider(end=2, name='Float with soft bounds', value=0.5)\n",
       "        [9] RangeSlider(end=10, name='Integer range', step=1, value=(3, 7), value_end=7, value_start=3)\n",
       "        [10] RangeSlider(end=3.145, name='Float range', value=(0, 1.57), value_end=1.57)\n",
       "        [11] DictInput(name='Dictionary', type=<class 'dict'>, value={'a': 2, 'b': 9})"
      ]
     },
     "execution_count": 2,
     "metadata": {
      "application/vnd.holoviews_exec.v0+json": {
       "id": "1002"
      }
     },
     "output_type": "execute_result"
    }
   ],
   "source": [
    "import panel as pn\n",
    "\n",
    "pn.extension()\n",
    "\n",
    "base = BaseClass()\n",
    "pn.Row(Example.param, base.param)"
   ]
  },
  {
   "cell_type": "markdown",
   "metadata": {},
   "source": [
    "As you can see, Panel does not need to be provided with any knowledge of your domain-specific application, not even the names of your parameters; it simply displays widgets for whatever Parameters may have been defined on that object.  Using Param with Panel thus achieves a nearly complete separation between your domain-specific code and your display code, making it vastly easier to maintain both of them over time.  Here even the `msg` button behavior was specified declaratively, as an action that can be invoked (printing \"Hello\") independently of whether it is used in a GUI or other context.\n",
    "\n",
    "Interacting with the widgets above is only supported in the notebook and on Bokeh server, but you can also export static renderings of the widgets to a file or web page.  \n",
    "\n",
    "By default, editing values in this way requires you to run the notebook cell by cell -- when you get to the above cell, edit the values as you like, and then move on to execute subsequent cells, where any reference to those parameter values will use your interactively selected setting:"
   ]
  },
  {
   "cell_type": "code",
   "execution_count": 3,
   "metadata": {},
   "outputs": [
    {
     "data": {
      "text/plain": [
       "23"
      ]
     },
     "execution_count": 3,
     "metadata": {},
     "output_type": "execute_result"
    }
   ],
   "source": [
    "Example.unbounded_int"
   ]
  },
  {
   "cell_type": "code",
   "execution_count": 4,
   "metadata": {},
   "outputs": [
    {
     "data": {
      "text/plain": [
       "30797"
      ]
     },
     "execution_count": 4,
     "metadata": {},
     "output_type": "execute_result"
    }
   ],
   "source": [
    "Example.num_int"
   ]
  },
  {
   "cell_type": "markdown",
   "metadata": {},
   "source": [
    "The reverse is possible; editing a parameter from Python will automatically update any widgets that were generated from the parameter:"
   ]
  },
  {
   "cell_type": "code",
   "execution_count": 5,
   "metadata": {},
   "outputs": [],
   "source": [
    "Example.int_list = [1, 7]"
   ]
  },
  {
   "cell_type": "markdown",
   "metadata": {},
   "source": [
    "Example.timestamps records the times you pressed the \"record timestamp\" button."
   ]
  },
  {
   "cell_type": "code",
   "execution_count": 6,
   "metadata": {},
   "outputs": [
    {
     "data": {
      "text/plain": [
       "[datetime.datetime(2022, 2, 11, 6, 28, 40, 467884)]"
      ]
     },
     "execution_count": 6,
     "metadata": {},
     "output_type": "execute_result"
    }
   ],
   "source": [
    "Example.timestamps"
   ]
  },
  {
   "cell_type": "markdown",
   "metadata": {},
   "source": [
    "Passing the ``.param`` object renders the full set of widgets, while passing a single parameter will display just one widget. In this way we can easily declare exactly which parameters to display:"
   ]
  },
  {
   "cell_type": "code",
   "execution_count": 7,
   "metadata": {},
   "outputs": [
    {
     "data": {},
     "metadata": {},
     "output_type": "display_data"
    },
    {
     "data": {
      "application/vnd.holoviews_exec.v0+json": "",
      "text/html": [
       "<div id='1119'>\n",
       "\n",
       "\n",
       "\n",
       "\n",
       "\n",
       "  <div class=\"bk-root\" id=\"cb6960b4-1111-4218-9135-50d70d61a1d0\" data-root-id=\"1119\"></div>\n",
       "</div>\n",
       "<script type=\"application/javascript\">(function(root) {\n",
       "  function embed_document(root) {\n",
       "    var docs_json = {\"70ae50b7-997e-422f-bc56-07de1b755aba\":{\"defs\":[{\"extends\":null,\"module\":null,\"name\":\"ReactiveHTML1\",\"overrides\":[],\"properties\":[]},{\"extends\":null,\"module\":null,\"name\":\"FlexBox1\",\"overrides\":[],\"properties\":[{\"default\":\"flex-start\",\"kind\":null,\"name\":\"align_content\"},{\"default\":\"flex-start\",\"kind\":null,\"name\":\"align_items\"},{\"default\":\"row\",\"kind\":null,\"name\":\"flex_direction\"},{\"default\":\"wrap\",\"kind\":null,\"name\":\"flex_wrap\"},{\"default\":\"flex-start\",\"kind\":null,\"name\":\"justify_content\"}]},{\"extends\":null,\"module\":null,\"name\":\"TemplateActions1\",\"overrides\":[],\"properties\":[{\"default\":0,\"kind\":null,\"name\":\"open_modal\"},{\"default\":0,\"kind\":null,\"name\":\"close_modal\"}]},{\"extends\":null,\"module\":null,\"name\":\"MaterialTemplateActions1\",\"overrides\":[],\"properties\":[{\"default\":0,\"kind\":null,\"name\":\"open_modal\"},{\"default\":0,\"kind\":null,\"name\":\"close_modal\"}]}],\"roots\":{\"references\":[{\"attributes\":{\"client_comm_id\":\"0d870bf0737d4527b9d1b3a72100e2fb\",\"comm_id\":\"e38cf253f962495f938f93118d16804b\",\"plot_id\":\"1119\"},\"id\":\"1122\",\"type\":\"panel.models.comm_manager.CommManager\"},{\"attributes\":{\"end\":3.145,\"margin\":[5,10,5,10],\"start\":0,\"step\":0.1,\"title\":\"Float range\",\"value\":[0,1.57]},\"id\":\"1120\",\"type\":\"RangeSlider\"},{\"attributes\":{\"end\":100000,\"margin\":[5,10,5,10],\"start\":-200,\"title\":\"Num int\",\"value\":50000},\"id\":\"1121\",\"type\":\"Slider\"},{\"attributes\":{\"children\":[{\"id\":\"1120\"},{\"id\":\"1121\"}],\"margin\":[0,0,0,0],\"name\":\"Row00221\"},\"id\":\"1119\",\"type\":\"Row\"}],\"root_ids\":[\"1119\",\"1122\"]},\"title\":\"Bokeh Application\",\"version\":\"2.4.2\"}};\n",
       "    var render_items = [{\"docid\":\"70ae50b7-997e-422f-bc56-07de1b755aba\",\"root_ids\":[\"1119\"],\"roots\":{\"1119\":\"cb6960b4-1111-4218-9135-50d70d61a1d0\"}}];\n",
       "    root.Bokeh.embed.embed_items_notebook(docs_json, render_items);\n",
       "  }\n",
       "  if (root.Bokeh !== undefined && root.Bokeh.Panel !== undefined) {\n",
       "    embed_document(root);\n",
       "  } else {\n",
       "    var attempts = 0;\n",
       "    var timer = setInterval(function(root) {\n",
       "      if (root.Bokeh !== undefined && root.Bokeh.Panel !== undefined) {\n",
       "        clearInterval(timer);\n",
       "        embed_document(root);\n",
       "      } else if (document.readyState == \"complete\") {\n",
       "        attempts++;\n",
       "        if (attempts > 200) {\n",
       "          clearInterval(timer);\n",
       "          console.log(\"Bokeh: ERROR: Unable to run BokehJS code because BokehJS library is missing\");\n",
       "        }\n",
       "      }\n",
       "    }, 25, root)\n",
       "  }\n",
       "})(window);</script>"
      ],
      "text/plain": [
       "Row\n",
       "    [0] RangeSlider(end=3.145, name='Float range', value=(0, 1.57), value_end=1.57)\n",
       "    [1] IntSlider(end=100000, name='Num int', start=-200, value=50000)"
      ]
     },
     "execution_count": 7,
     "metadata": {
      "application/vnd.holoviews_exec.v0+json": {
       "id": "1119"
      }
     },
     "output_type": "execute_result"
    }
   ],
   "source": [
    "pn.Row(Example.param.float_range, Example.param.num_int)"
   ]
  },
  {
   "cell_type": "markdown",
   "metadata": {},
   "source": [
    "As you can see, you can access the parameter values at the class level from within the notebook to control behavior explicitly, e.g. to select what to show in subsequent cells.  Moreover, any instances of the Parameterized classes in your own code will now use the new parameter values unless specifically overridden in that instance, so you can now import and use your domain-specific library however you like, knowing that it will use your interactive selections wherever those classes appear.  None of the domain-specific code needs to know or care that you used Panel; it will simply see new values for whatever attributes were changed interactively.  Panel thus allows you to provide notebook-specific, domain-specific interactive functionality without ever tying your domain-specific code to the notebook environment. This default behavior can also be modified if you wish, as outlined below."
   ]
  },
  {
   "cell_type": "markdown",
   "metadata": {},
   "source": [
    "## Custom widgets\n",
    "\n",
    "In the previous section we saw how parameters can automatically be turned into widgets. This is possible because internally Panel maintains a mapping between parameter types and widget types. However, sometimes the default widget does not provide the most convenient UI and we want to provide an explicit hint to Panel to tell it how to render a parameter. This is possible using the ``widgets`` argument to the `Param` pane. Using the ``widgets`` keyword we can declare a mapping between the parameter name and the type of widget that is desired (as long as the widget type supports the types of values held by the parameter type).\n",
    "\n",
    "As an example, we can map a string and a number Selector to a RadioButtonGroup and DiscretePlayer respectively."
   ]
  },
  {
   "cell_type": "code",
   "execution_count": 8,
   "metadata": {},
   "outputs": [
    {
     "data": {},
     "metadata": {},
     "output_type": "display_data"
    },
    {
     "data": {
      "application/vnd.holoviews_exec.v0+json": "",
      "text/html": [
       "<div id='1123'>\n",
       "\n",
       "\n",
       "\n",
       "\n",
       "\n",
       "  <div class=\"bk-root\" id=\"35ea3a98-966f-4d61-a954-3aca22c80bc0\" data-root-id=\"1123\"></div>\n",
       "</div>\n",
       "<script type=\"application/javascript\">(function(root) {\n",
       "  function embed_document(root) {\n",
       "    var docs_json = {\"cc7c8d52-9c92-4cef-97f5-805ea6681f15\":{\"defs\":[{\"extends\":null,\"module\":null,\"name\":\"ReactiveHTML1\",\"overrides\":[],\"properties\":[]},{\"extends\":null,\"module\":null,\"name\":\"FlexBox1\",\"overrides\":[],\"properties\":[{\"default\":\"flex-start\",\"kind\":null,\"name\":\"align_content\"},{\"default\":\"flex-start\",\"kind\":null,\"name\":\"align_items\"},{\"default\":\"row\",\"kind\":null,\"name\":\"flex_direction\"},{\"default\":\"wrap\",\"kind\":null,\"name\":\"flex_wrap\"},{\"default\":\"flex-start\",\"kind\":null,\"name\":\"justify_content\"}]},{\"extends\":null,\"module\":null,\"name\":\"TemplateActions1\",\"overrides\":[],\"properties\":[{\"default\":0,\"kind\":null,\"name\":\"open_modal\"},{\"default\":0,\"kind\":null,\"name\":\"close_modal\"}]},{\"extends\":null,\"module\":null,\"name\":\"MaterialTemplateActions1\",\"overrides\":[],\"properties\":[{\"default\":0,\"kind\":null,\"name\":\"open_modal\"},{\"default\":0,\"kind\":null,\"name\":\"close_modal\"}]}],\"roots\":{\"references\":[{\"attributes\":{\"margin\":[5,10,5,10],\"name\":\"\",\"text\":\"<b>CustomExample</b>\"},\"id\":\"1124\",\"type\":\"Div\"},{\"attributes\":{\"completions\":[\"red\",\"yellow\",\"green\"],\"margin\":[5,10,5,10],\"title\":\"Autocomplete string\"},\"id\":\"1126\",\"type\":\"AutocompleteInput\"},{\"attributes\":{\"active\":0,\"labels\":[\"red\",\"yellow\",\"green\"],\"margin\":[5,10,5,10]},\"id\":\"1125\",\"type\":\"RadioButtonGroup\"},{\"attributes\":{\"client_comm_id\":\"69287227698f4063955234976be9e7ba\",\"comm_id\":\"541d32248f934c8abfea1f5fd3072b5e\",\"plot_id\":\"1123\"},\"id\":\"1128\",\"type\":\"panel.models.comm_manager.CommManager\"},{\"attributes\":{\"children\":[{\"id\":\"1124\"},{\"id\":\"1125\"},{\"id\":\"1126\"},{\"id\":\"1127\"}],\"margin\":[5,5,5,5],\"min_width\":300,\"name\":\"CustomExample\",\"width\":300},\"id\":\"1123\",\"type\":\"Column\"},{\"attributes\":{\"end\":3,\"height\":80,\"margin\":[5,10,5,10],\"min_height\":80,\"min_width\":510,\"width\":510},\"id\":\"1127\",\"type\":\"panel.models.widgets.Player\"}],\"root_ids\":[\"1123\",\"1128\"]},\"title\":\"Bokeh Application\",\"version\":\"2.4.2\"}};\n",
       "    var render_items = [{\"docid\":\"cc7c8d52-9c92-4cef-97f5-805ea6681f15\",\"root_ids\":[\"1123\"],\"roots\":{\"1123\":\"35ea3a98-966f-4d61-a954-3aca22c80bc0\"}}];\n",
       "    root.Bokeh.embed.embed_items_notebook(docs_json, render_items);\n",
       "  }\n",
       "  if (root.Bokeh !== undefined && root.Bokeh.Panel !== undefined) {\n",
       "    embed_document(root);\n",
       "  } else {\n",
       "    var attempts = 0;\n",
       "    var timer = setInterval(function(root) {\n",
       "      if (root.Bokeh !== undefined && root.Bokeh.Panel !== undefined) {\n",
       "        clearInterval(timer);\n",
       "        embed_document(root);\n",
       "      } else if (document.readyState == \"complete\") {\n",
       "        attempts++;\n",
       "        if (attempts > 200) {\n",
       "          clearInterval(timer);\n",
       "          console.log(\"Bokeh: ERROR: Unable to run BokehJS code because BokehJS library is missing\");\n",
       "        }\n",
       "      }\n",
       "    }, 25, root)\n",
       "  }\n",
       "})(window);</script>"
      ],
      "text/plain": [
       "Param(ParameterizedMetaclass, name='CustomExample', widgets={'select_string': <class '...})"
      ]
     },
     "execution_count": 8,
     "metadata": {
      "application/vnd.holoviews_exec.v0+json": {
       "id": "1123"
      }
     },
     "output_type": "execute_result"
    }
   ],
   "source": [
    "class CustomExample(param.Parameterized):\n",
    "    \"\"\"An example Parameterized class\"\"\"\n",
    "\n",
    "    select_string = param.Selector(objects=[\"red\", \"yellow\", \"green\"])\n",
    "    autocomplete_string = param.Selector(default='', objects=[\"red\", \"yellow\", \"green\"], check_on_set=False)\n",
    "    select_number = param.Selector(objects=[0, 1, 10, 100])\n",
    "\n",
    "\n",
    "pn.Param(CustomExample.param, widgets={\n",
    "    'select_string': pn.widgets.RadioButtonGroup,\n",
    "    'autocomplete_string': pn.widgets.AutocompleteInput,\n",
    "    'select_number': pn.widgets.DiscretePlayer}\n",
    ")"
   ]
  },
  {
   "cell_type": "markdown",
   "metadata": {},
   "source": [
    "Also, it's possible to pass arguments to the widget in order to customize it. Instead of passing the widget, pass a dictionary with the desired options. Use the ``widget_type`` keyword to map the widget. \n",
    "\n",
    "Taking up the previous example."
   ]
  },
  {
   "cell_type": "code",
   "execution_count": 9,
   "metadata": {},
   "outputs": [
    {
     "data": {},
     "metadata": {},
     "output_type": "display_data"
    },
    {
     "data": {
      "application/vnd.holoviews_exec.v0+json": "",
      "text/html": [
       "<div id='1129'>\n",
       "\n",
       "\n",
       "\n",
       "\n",
       "\n",
       "  <div class=\"bk-root\" id=\"0a3c18da-ee64-4c53-ba72-f87fdae6f9d2\" data-root-id=\"1129\"></div>\n",
       "</div>\n",
       "<script type=\"application/javascript\">(function(root) {\n",
       "  function embed_document(root) {\n",
       "    var docs_json = {\"71b5e460-5a86-425b-9b2f-f43b90b079b5\":{\"defs\":[{\"extends\":null,\"module\":null,\"name\":\"ReactiveHTML1\",\"overrides\":[],\"properties\":[]},{\"extends\":null,\"module\":null,\"name\":\"FlexBox1\",\"overrides\":[],\"properties\":[{\"default\":\"flex-start\",\"kind\":null,\"name\":\"align_content\"},{\"default\":\"flex-start\",\"kind\":null,\"name\":\"align_items\"},{\"default\":\"row\",\"kind\":null,\"name\":\"flex_direction\"},{\"default\":\"wrap\",\"kind\":null,\"name\":\"flex_wrap\"},{\"default\":\"flex-start\",\"kind\":null,\"name\":\"justify_content\"}]},{\"extends\":null,\"module\":null,\"name\":\"TemplateActions1\",\"overrides\":[],\"properties\":[{\"default\":0,\"kind\":null,\"name\":\"open_modal\"},{\"default\":0,\"kind\":null,\"name\":\"close_modal\"}]},{\"extends\":null,\"module\":null,\"name\":\"MaterialTemplateActions1\",\"overrides\":[],\"properties\":[{\"default\":0,\"kind\":null,\"name\":\"open_modal\"},{\"default\":0,\"kind\":null,\"name\":\"close_modal\"}]}],\"roots\":{\"references\":[{\"attributes\":{\"margin\":[5,10,5,10],\"name\":\"\",\"text\":\"<b>CustomExample</b>\"},\"id\":\"1130\",\"type\":\"Div\"},{\"attributes\":{\"end\":3,\"height\":80,\"margin\":[5,10,5,10],\"min_height\":80,\"min_width\":510,\"width\":510},\"id\":\"1133\",\"type\":\"panel.models.widgets.Player\"},{\"attributes\":{\"completions\":[\"red\",\"yellow\",\"green\"],\"margin\":[5,10,5,10],\"placeholder\":\"Find a color...\",\"title\":\"Autocomplete string\"},\"id\":\"1132\",\"type\":\"AutocompleteInput\"},{\"attributes\":{\"client_comm_id\":\"29d92e01e684482591a6505a59eeb9cd\",\"comm_id\":\"bade04932fb64f30b0b2ccb300a38e47\",\"plot_id\":\"1129\"},\"id\":\"1134\",\"type\":\"panel.models.comm_manager.CommManager\"},{\"attributes\":{\"children\":[{\"id\":\"1130\"},{\"id\":\"1131\"},{\"id\":\"1132\"},{\"id\":\"1133\"}],\"margin\":[5,5,5,5],\"min_width\":300,\"name\":\"CustomExample\",\"width\":300},\"id\":\"1129\",\"type\":\"Column\"},{\"attributes\":{\"active\":1,\"button_type\":\"success\",\"labels\":[\"red\",\"yellow\",\"green\"],\"margin\":[5,10,5,10]},\"id\":\"1131\",\"type\":\"RadioButtonGroup\"}],\"root_ids\":[\"1129\",\"1134\"]},\"title\":\"Bokeh Application\",\"version\":\"2.4.2\"}};\n",
       "    var render_items = [{\"docid\":\"71b5e460-5a86-425b-9b2f-f43b90b079b5\",\"root_ids\":[\"1129\"],\"roots\":{\"1129\":\"0a3c18da-ee64-4c53-ba72-f87fdae6f9d2\"}}];\n",
       "    root.Bokeh.embed.embed_items_notebook(docs_json, render_items);\n",
       "  }\n",
       "  if (root.Bokeh !== undefined && root.Bokeh.Panel !== undefined) {\n",
       "    embed_document(root);\n",
       "  } else {\n",
       "    var attempts = 0;\n",
       "    var timer = setInterval(function(root) {\n",
       "      if (root.Bokeh !== undefined && root.Bokeh.Panel !== undefined) {\n",
       "        clearInterval(timer);\n",
       "        embed_document(root);\n",
       "      } else if (document.readyState == \"complete\") {\n",
       "        attempts++;\n",
       "        if (attempts > 200) {\n",
       "          clearInterval(timer);\n",
       "          console.log(\"Bokeh: ERROR: Unable to run BokehJS code because BokehJS library is missing\");\n",
       "        }\n",
       "      }\n",
       "    }, 25, root)\n",
       "  }\n",
       "})(window);</script>"
      ],
      "text/plain": [
       "Param(ParameterizedMetaclass, name='CustomExample', widgets={'select_string': {'widget...})"
      ]
     },
     "execution_count": 9,
     "metadata": {
      "application/vnd.holoviews_exec.v0+json": {
       "id": "1129"
      }
     },
     "output_type": "execute_result"
    }
   ],
   "source": [
    "pn.Param(CustomExample.param, widgets={\n",
    "    'select_string': {'widget_type': pn.widgets.RadioButtonGroup, 'button_type': 'success'},\n",
    "    'autocomplete_string': {'widget_type': pn.widgets.AutocompleteInput, 'placeholder': 'Find a color...'},\n",
    "    'select_number': pn.widgets.DiscretePlayer}\n",
    ")"
   ]
  },
  {
   "cell_type": "markdown",
   "metadata": {},
   "source": [
    "However it is also possible to explicitly construct a widget from a parameter using the `.from_param` method, which makes it easy to override widget settings using keyword arguments:"
   ]
  },
  {
   "cell_type": "code",
   "execution_count": 10,
   "metadata": {},
   "outputs": [
    {
     "data": {},
     "metadata": {},
     "output_type": "display_data"
    },
    {
     "data": {
      "application/vnd.holoviews_exec.v0+json": "",
      "text/html": [
       "<div id='1138'>\n",
       "\n",
       "\n",
       "\n",
       "\n",
       "\n",
       "  <div class=\"bk-root\" id=\"b7844a1f-4c1d-481e-a987-4030cf25fa11\" data-root-id=\"1138\"></div>\n",
       "</div>\n",
       "<script type=\"application/javascript\">(function(root) {\n",
       "  function embed_document(root) {\n",
       "    var docs_json = {\"58f9b4d4-1121-495e-bfad-d64b15b02f38\":{\"defs\":[{\"extends\":null,\"module\":null,\"name\":\"ReactiveHTML1\",\"overrides\":[],\"properties\":[]},{\"extends\":null,\"module\":null,\"name\":\"FlexBox1\",\"overrides\":[],\"properties\":[{\"default\":\"flex-start\",\"kind\":null,\"name\":\"align_content\"},{\"default\":\"flex-start\",\"kind\":null,\"name\":\"align_items\"},{\"default\":\"row\",\"kind\":null,\"name\":\"flex_direction\"},{\"default\":\"wrap\",\"kind\":null,\"name\":\"flex_wrap\"},{\"default\":\"flex-start\",\"kind\":null,\"name\":\"justify_content\"}]},{\"extends\":null,\"module\":null,\"name\":\"TemplateActions1\",\"overrides\":[],\"properties\":[{\"default\":0,\"kind\":null,\"name\":\"open_modal\"},{\"default\":0,\"kind\":null,\"name\":\"close_modal\"}]},{\"extends\":null,\"module\":null,\"name\":\"MaterialTemplateActions1\",\"overrides\":[],\"properties\":[{\"default\":0,\"kind\":null,\"name\":\"open_modal\"},{\"default\":0,\"kind\":null,\"name\":\"close_modal\"}]}],\"roots\":{\"references\":[{\"attributes\":{\"end\":100,\"margin\":[5,10,5,10],\"start\":0,\"title\":\"Unbounded int\",\"value\":23},\"id\":\"1138\",\"type\":\"Slider\"},{\"attributes\":{\"client_comm_id\":\"a512ed6d66d6411788352a0e7ee1c0b1\",\"comm_id\":\"4098fa8effad40b09d6ea933dd64c311\",\"plot_id\":\"1138\"},\"id\":\"1139\",\"type\":\"panel.models.comm_manager.CommManager\"}],\"root_ids\":[\"1138\",\"1139\"]},\"title\":\"Bokeh Application\",\"version\":\"2.4.2\"}};\n",
       "    var render_items = [{\"docid\":\"58f9b4d4-1121-495e-bfad-d64b15b02f38\",\"root_ids\":[\"1138\"],\"roots\":{\"1138\":\"b7844a1f-4c1d-481e-a987-4030cf25fa11\"}}];\n",
       "    root.Bokeh.embed.embed_items_notebook(docs_json, render_items);\n",
       "  }\n",
       "  if (root.Bokeh !== undefined && root.Bokeh.Panel !== undefined) {\n",
       "    embed_document(root);\n",
       "  } else {\n",
       "    var attempts = 0;\n",
       "    var timer = setInterval(function(root) {\n",
       "      if (root.Bokeh !== undefined && root.Bokeh.Panel !== undefined) {\n",
       "        clearInterval(timer);\n",
       "        embed_document(root);\n",
       "      } else if (document.readyState == \"complete\") {\n",
       "        attempts++;\n",
       "        if (attempts > 200) {\n",
       "          clearInterval(timer);\n",
       "          console.log(\"Bokeh: ERROR: Unable to run BokehJS code because BokehJS library is missing\");\n",
       "        }\n",
       "      }\n",
       "    }, 25, root)\n",
       "  }\n",
       "})(window);</script>"
      ],
      "text/plain": [
       "IntSlider(end=100, name='Unbounded int', value=23)"
      ]
     },
     "execution_count": 10,
     "metadata": {
      "application/vnd.holoviews_exec.v0+json": {
       "id": "1138"
      }
     },
     "output_type": "execute_result"
    }
   ],
   "source": [
    "pn.widgets.IntSlider.from_param(Example.param.unbounded_int, start=0, end=100)"
   ]
  },
  {
   "cell_type": "markdown",
   "metadata": {},
   "source": [
    "## Custom name\n",
    "\n",
    "By default, a param Pane has a title that is derived from the class name of its `Parameterized` object. Using the ``name`` keyword we can set any title to the pane, e.g. to improve the user interface."
   ]
  },
  {
   "cell_type": "code",
   "execution_count": 11,
   "metadata": {},
   "outputs": [
    {
     "data": {},
     "metadata": {},
     "output_type": "display_data"
    },
    {
     "data": {
      "application/vnd.holoviews_exec.v0+json": "",
      "text/html": [
       "<div id='1140'>\n",
       "\n",
       "\n",
       "\n",
       "\n",
       "\n",
       "  <div class=\"bk-root\" id=\"464b804a-c47c-4ed8-aa5d-e4c8ca306349\" data-root-id=\"1140\"></div>\n",
       "</div>\n",
       "<script type=\"application/javascript\">(function(root) {\n",
       "  function embed_document(root) {\n",
       "    var docs_json = {\"fb3eacb6-d8f8-4715-b089-931de881ab57\":{\"defs\":[{\"extends\":null,\"module\":null,\"name\":\"ReactiveHTML1\",\"overrides\":[],\"properties\":[]},{\"extends\":null,\"module\":null,\"name\":\"FlexBox1\",\"overrides\":[],\"properties\":[{\"default\":\"flex-start\",\"kind\":null,\"name\":\"align_content\"},{\"default\":\"flex-start\",\"kind\":null,\"name\":\"align_items\"},{\"default\":\"row\",\"kind\":null,\"name\":\"flex_direction\"},{\"default\":\"wrap\",\"kind\":null,\"name\":\"flex_wrap\"},{\"default\":\"flex-start\",\"kind\":null,\"name\":\"justify_content\"}]},{\"extends\":null,\"module\":null,\"name\":\"TemplateActions1\",\"overrides\":[],\"properties\":[{\"default\":0,\"kind\":null,\"name\":\"open_modal\"},{\"default\":0,\"kind\":null,\"name\":\"close_modal\"}]},{\"extends\":null,\"module\":null,\"name\":\"MaterialTemplateActions1\",\"overrides\":[],\"properties\":[{\"default\":0,\"kind\":null,\"name\":\"open_modal\"},{\"default\":0,\"kind\":null,\"name\":\"close_modal\"}]}],\"roots\":{\"references\":[{\"attributes\":{\"margin\":[5,10,5,10],\"options\":[[\"red\",\"red\"],[\"yellow\",\"yellow\"],[\"green\",\"green\"]],\"title\":\"Autocomplete string\"},\"id\":\"1145\",\"type\":\"Select\"},{\"attributes\":{\"client_comm_id\":\"48e2b828bebe45339f6cc6913bdcc898\",\"comm_id\":\"550129038de848e08913ed787ddfda09\",\"plot_id\":\"1140\"},\"id\":\"1147\",\"type\":\"panel.models.comm_manager.CommManager\"},{\"attributes\":{\"margin\":[5,10,5,10],\"options\":[[\"0\",\"0\"],[\"1\",\"1\"],[\"10\",\"10\"],[\"100\",\"100\"]],\"title\":\"Select number\",\"value\":\"100\"},\"id\":\"1146\",\"type\":\"Select\"},{\"attributes\":{\"margin\":[5,10,5,10],\"name\":\"\",\"text\":\"<b>Custom Name</b>\"},\"id\":\"1141\",\"type\":\"Div\"},{\"attributes\":{\"children\":[{\"id\":\"1141\"},{\"id\":\"1142\"},{\"id\":\"1145\"},{\"id\":\"1146\"}],\"margin\":[5,5,5,5],\"min_width\":300,\"name\":\"Custom Name\",\"width\":300},\"id\":\"1140\",\"type\":\"Column\"},{\"attributes\":{\"margin\":[5,10,5,10],\"options\":[[\"red\",\"red\"],[\"yellow\",\"yellow\"],[\"green\",\"green\"]],\"title\":\"Select string\",\"value\":\"yellow\"},\"id\":\"1142\",\"type\":\"Select\"}],\"root_ids\":[\"1140\",\"1147\"]},\"title\":\"Bokeh Application\",\"version\":\"2.4.2\"}};\n",
       "    var render_items = [{\"docid\":\"fb3eacb6-d8f8-4715-b089-931de881ab57\",\"root_ids\":[\"1140\"],\"roots\":{\"1140\":\"464b804a-c47c-4ed8-aa5d-e4c8ca306349\"}}];\n",
       "    root.Bokeh.embed.embed_items_notebook(docs_json, render_items);\n",
       "  }\n",
       "  if (root.Bokeh !== undefined && root.Bokeh.Panel !== undefined) {\n",
       "    embed_document(root);\n",
       "  } else {\n",
       "    var attempts = 0;\n",
       "    var timer = setInterval(function(root) {\n",
       "      if (root.Bokeh !== undefined && root.Bokeh.Panel !== undefined) {\n",
       "        clearInterval(timer);\n",
       "        embed_document(root);\n",
       "      } else if (document.readyState == \"complete\") {\n",
       "        attempts++;\n",
       "        if (attempts > 200) {\n",
       "          clearInterval(timer);\n",
       "          console.log(\"Bokeh: ERROR: Unable to run BokehJS code because BokehJS library is missing\");\n",
       "        }\n",
       "      }\n",
       "    }, 25, root)\n",
       "  }\n",
       "})(window);</script>"
      ],
      "text/plain": [
       "Param(ParameterizedMetaclass, name='Custom Name')"
      ]
     },
     "execution_count": 11,
     "metadata": {
      "application/vnd.holoviews_exec.v0+json": {
       "id": "1140"
      }
     },
     "output_type": "execute_result"
    }
   ],
   "source": [
    "pn.Param(CustomExample.param, name=\"Custom Name\")"
   ]
  },
  {
   "cell_type": "markdown",
   "metadata": {},
   "source": [
    "## Sort\n",
    "\n",
    "You can sort the widgets alphabetically by setting `sort=True`"
   ]
  },
  {
   "cell_type": "code",
   "execution_count": null,
   "metadata": {},
   "outputs": [],
   "source": [
    "pn.Param(CustomExample.param, sort=True, name=\"Sort by Label Example\")"
   ]
  },
  {
   "cell_type": "markdown",
   "metadata": {},
   "source": [
    "You can also specify a custom sort function that takes the (parameter name, Parameter instance) as input."
   ]
  },
  {
   "cell_type": "code",
   "execution_count": 12,
   "metadata": {},
   "outputs": [
    {
     "name": "stderr",
     "output_type": "stream",
     "text": [
      "WARNING:param.Param00267: Setting non-parameter attribute sort=<function sort_func at 0x7fa7ed692440> using a mechanism intended only for parameters\n"
     ]
    },
    {
     "data": {},
     "metadata": {},
     "output_type": "display_data"
    },
    {
     "data": {
      "application/vnd.holoviews_exec.v0+json": "",
      "text/html": [
       "<div id='1150'>\n",
       "\n",
       "\n",
       "\n",
       "\n",
       "\n",
       "  <div class=\"bk-root\" id=\"c2de5230-6dc1-4a39-9767-2384a34c6fde\" data-root-id=\"1150\"></div>\n",
       "</div>\n",
       "<script type=\"application/javascript\">(function(root) {\n",
       "  function embed_document(root) {\n",
       "    var docs_json = {\"251366ca-b9af-4825-b6f7-6df4a93c2379\":{\"defs\":[{\"extends\":null,\"module\":null,\"name\":\"ReactiveHTML1\",\"overrides\":[],\"properties\":[]},{\"extends\":null,\"module\":null,\"name\":\"FlexBox1\",\"overrides\":[],\"properties\":[{\"default\":\"flex-start\",\"kind\":null,\"name\":\"align_content\"},{\"default\":\"flex-start\",\"kind\":null,\"name\":\"align_items\"},{\"default\":\"row\",\"kind\":null,\"name\":\"flex_direction\"},{\"default\":\"wrap\",\"kind\":null,\"name\":\"flex_wrap\"},{\"default\":\"flex-start\",\"kind\":null,\"name\":\"justify_content\"}]},{\"extends\":null,\"module\":null,\"name\":\"TemplateActions1\",\"overrides\":[],\"properties\":[{\"default\":0,\"kind\":null,\"name\":\"open_modal\"},{\"default\":0,\"kind\":null,\"name\":\"close_modal\"}]},{\"extends\":null,\"module\":null,\"name\":\"MaterialTemplateActions1\",\"overrides\":[],\"properties\":[{\"default\":0,\"kind\":null,\"name\":\"open_modal\"},{\"default\":0,\"kind\":null,\"name\":\"close_modal\"}]}],\"roots\":{\"references\":[{\"attributes\":{\"margin\":[5,10,5,10],\"options\":[[\"0\",\"0\"],[\"1\",\"1\"],[\"10\",\"10\"],[\"100\",\"100\"]],\"title\":\"Select number\",\"value\":\"100\"},\"id\":\"1154\",\"type\":\"Select\"},{\"attributes\":{\"children\":[{\"id\":\"1151\"},{\"id\":\"1152\"},{\"id\":\"1153\"},{\"id\":\"1154\"}],\"margin\":[5,5,5,5],\"min_width\":300,\"name\":\"Sort by Label Length Example\",\"width\":300},\"id\":\"1150\",\"type\":\"Column\"},{\"attributes\":{\"margin\":[5,10,5,10],\"name\":\"\",\"text\":\"<b>Sort by Label Length Example</b>\"},\"id\":\"1151\",\"type\":\"Div\"},{\"attributes\":{\"margin\":[5,10,5,10],\"options\":[[\"red\",\"red\"],[\"yellow\",\"yellow\"],[\"green\",\"green\"]],\"title\":\"Autocomplete string\",\"value\":\"red\"},\"id\":\"1153\",\"type\":\"Select\"},{\"attributes\":{\"margin\":[5,10,5,10],\"options\":[[\"red\",\"red\"],[\"yellow\",\"yellow\"],[\"green\",\"green\"]],\"title\":\"Select string\",\"value\":\"green\"},\"id\":\"1152\",\"type\":\"Select\"},{\"attributes\":{\"client_comm_id\":\"b06c500e56c24099bf1ceaab7964da7f\",\"comm_id\":\"c43fe26ce8ae42bca8038462c464613f\",\"plot_id\":\"1150\"},\"id\":\"1155\",\"type\":\"panel.models.comm_manager.CommManager\"}],\"root_ids\":[\"1150\",\"1155\"]},\"title\":\"Bokeh Application\",\"version\":\"2.4.2\"}};\n",
       "    var render_items = [{\"docid\":\"251366ca-b9af-4825-b6f7-6df4a93c2379\",\"root_ids\":[\"1150\"],\"roots\":{\"1150\":\"c2de5230-6dc1-4a39-9767-2384a34c6fde\"}}];\n",
       "    root.Bokeh.embed.embed_items_notebook(docs_json, render_items);\n",
       "  }\n",
       "  if (root.Bokeh !== undefined && root.Bokeh.Panel !== undefined) {\n",
       "    embed_document(root);\n",
       "  } else {\n",
       "    var attempts = 0;\n",
       "    var timer = setInterval(function(root) {\n",
       "      if (root.Bokeh !== undefined && root.Bokeh.Panel !== undefined) {\n",
       "        clearInterval(timer);\n",
       "        embed_document(root);\n",
       "      } else if (document.readyState == \"complete\") {\n",
       "        attempts++;\n",
       "        if (attempts > 200) {\n",
       "          clearInterval(timer);\n",
       "          console.log(\"Bokeh: ERROR: Unable to run BokehJS code because BokehJS library is missing\");\n",
       "        }\n",
       "      }\n",
       "    }, 25, root)\n",
       "  }\n",
       "})(window);</script>"
      ],
      "text/plain": [
       "Param(ParameterizedMetaclass, name='Sort by Label L...)"
      ]
     },
     "execution_count": 12,
     "metadata": {
      "application/vnd.holoviews_exec.v0+json": {
       "id": "1150"
      }
     },
     "output_type": "execute_result"
    }
   ],
   "source": [
    "def sort_func(x):\n",
    "    return len(x[1].label)\n",
    "pn.Param(CustomExample.param, sort=sort_func, name=\"Sort by Label Length Example\")"
   ]
  },
  {
   "cell_type": "markdown",
   "metadata": {},
   "source": [
    "## Parameter dependencies\n",
    "\n",
    "Declaring parameters is usually only the beginning of a workflow. In most applications these parameters are then tied to some computation. To express the relationship between a computation and the parameters it depends on, the ``param.depends`` decorator may be used on Parameterized methods. This decorator provides a hint to Panel and other Param-based libraries (e.g. HoloViews) that the method should be re-evaluated when a parameter changes.\n",
    "\n",
    "As a straightforward example without any additional dependencies we will write a small class that returns an ASCII representation of a sine wave, which depends on `phase` and `frequency` parameters. If we supply the ``.view`` method to a panel, it will automatically recompute and update the view when one or more of the parameters changes:"
   ]
  },
  {
   "cell_type": "code",
   "execution_count": null,
   "metadata": {},
   "outputs": [],
   "source": [
    "import numpy as np\n",
    "\n",
    "\n",
    "class Sine(param.Parameterized):\n",
    "\n",
    "    phase = param.Number(default=0, bounds=(0, np.pi))\n",
    "\n",
    "    frequency = param.Number(default=1, bounds=(0.1, 2))\n",
    "\n",
    "    @param.depends('phase', 'frequency')\n",
    "    def view(self):\n",
    "        y = np.sin(np.linspace(0, np.pi * 3, 40) * self.frequency + self.phase)\n",
    "        y = ((y - y.min()) / y.ptp()) * 20\n",
    "        array = np.array(\n",
    "            [list((' ' * (int(round(d)) - 1) + '*').ljust(20)) for d in y])\n",
    "        return pn.pane.Str('\\n'.join([''.join(r) for r in array.T]), height=380, width=500)\n",
    "\n",
    "\n",
    "sine = Sine(name='ASCII Sine Wave')\n",
    "pn.Row(sine.param, sine.view)"
   ]
  },
  {
   "cell_type": "markdown",
   "metadata": {},
   "source": [
    "The parameterized and annotated ``view`` method could return any one of the types handled by the [Pane objects](./Components.ipynb#Panes) Panel provides, making it easy to link parameters and their associated widgets to a plot or other output. Parameterized classes can therefore be a very useful pattern for encapsulating a part of a computational workflow with an associated visualization, declaratively expressing the dependencies between the parameters and the computation.\n",
    "\n",
    "By default, a Param pane will show widgets for all parameters with a `precedence` value above the value `pn.Param.display_threshold`, so you can use `precedence` to automatically hide parameters that are not meant to have widgets.  You can also explicitly choose which parameters should have widgets in a given pane, by passing a `parameters` argument.  For example, this code gives a `phase` widget, while maintaining `sine.frequency` at the initial value of `1`:"
   ]
  },
  {
   "cell_type": "code",
   "execution_count": null,
   "metadata": {},
   "outputs": [],
   "source": [
    "pn.Row(pn.panel(sine.param, parameters=['phase']), sine.view)"
   ]
  },
  {
   "cell_type": "markdown",
   "metadata": {},
   "source": [
    "Another common pattern is linking the values of one parameter to another parameter, e.g. when dependencies between parameters exist. In the example below we will define two parameters, one for the continent and one for the country. Since we want the selection of valid countries to change when we change the continent, we define a method to do that for us. In order to link the two we express the dependency using the ``param.depends`` decorator and then ensure that we will run the method whenever the continent changes by setting ``watch=True``.\n",
    "\n",
    "We also define a ``view`` method that returns an HTML iframe displaying the country using Google Maps."
   ]
  },
  {
   "cell_type": "code",
   "execution_count": 13,
   "metadata": {},
   "outputs": [
    {
     "data": {},
     "metadata": {},
     "output_type": "display_data"
    },
    {
     "data": {
      "application/vnd.holoviews_exec.v0+json": "",
      "text/html": [
       "<div id='1156'>\n",
       "\n",
       "\n",
       "\n",
       "\n",
       "\n",
       "  <div class=\"bk-root\" id=\"c460c096-fad5-473b-86dd-a42ea51a9a6d\" data-root-id=\"1156\"></div>\n",
       "</div>\n",
       "<script type=\"application/javascript\">(function(root) {\n",
       "  function embed_document(root) {\n",
       "    var docs_json = {\"6f05b05e-29f5-4007-8837-a1bfd2336cff\":{\"defs\":[{\"extends\":null,\"module\":null,\"name\":\"ReactiveHTML1\",\"overrides\":[],\"properties\":[]},{\"extends\":null,\"module\":null,\"name\":\"FlexBox1\",\"overrides\":[],\"properties\":[{\"default\":\"flex-start\",\"kind\":null,\"name\":\"align_content\"},{\"default\":\"flex-start\",\"kind\":null,\"name\":\"align_items\"},{\"default\":\"row\",\"kind\":null,\"name\":\"flex_direction\"},{\"default\":\"wrap\",\"kind\":null,\"name\":\"flex_wrap\"},{\"default\":\"flex-start\",\"kind\":null,\"name\":\"justify_content\"}]},{\"extends\":null,\"module\":null,\"name\":\"TemplateActions1\",\"overrides\":[],\"properties\":[{\"default\":0,\"kind\":null,\"name\":\"open_modal\"},{\"default\":0,\"kind\":null,\"name\":\"close_modal\"}]},{\"extends\":null,\"module\":null,\"name\":\"MaterialTemplateActions1\",\"overrides\":[],\"properties\":[{\"default\":0,\"kind\":null,\"name\":\"open_modal\"},{\"default\":0,\"kind\":null,\"name\":\"close_modal\"}]}],\"roots\":{\"references\":[{\"attributes\":{\"height\":400,\"margin\":[5,5,5,5],\"name\":\"HTML00293\",\"text\":\"\\n        &lt;iframe width=&quot;800&quot; height=&quot;400&quot; src=&quot;https://maps.google.com/maps?q=China&amp;z=6&amp;output=embed&quot;\\n        frameborder=&quot;0&quot; scrolling=&quot;no&quot; marginheight=&quot;0&quot; marginwidth=&quot;0&quot;&gt;&lt;/iframe&gt;\\n        \"},\"id\":\"1162\",\"type\":\"panel.models.markup.HTML\"},{\"attributes\":{\"margin\":[5,10,5,10],\"options\":[[\"Africa\",\"Africa\"],[\"Asia\",\"Asia\"],[\"Europe\",\"Europe\"]],\"title\":\"Continent\",\"value\":\"Asia\"},\"id\":\"1159\",\"type\":\"Select\"},{\"attributes\":{\"children\":[{\"id\":\"1162\"}],\"margin\":[0,0,0,0],\"name\":\"Row00292\"},\"id\":\"1161\",\"type\":\"Row\"},{\"attributes\":{\"margin\":[5,10,5,10],\"options\":[[\"China\",\"China\"],[\"Thailand\",\"Thailand\"],[\"Japan\",\"Japan\"]],\"title\":\"Country\",\"value\":\"China\"},\"id\":\"1160\",\"type\":\"Select\"},{\"attributes\":{\"margin\":[5,10,5,10],\"name\":\"\",\"text\":\"<b>Google Map Viewer</b>\"},\"id\":\"1158\",\"type\":\"Div\"},{\"attributes\":{\"client_comm_id\":\"11c2df6a23b94398be73dc89a9ac28af\",\"comm_id\":\"f1d4a5be421e4f8fa4aa074337ad9bcd\",\"plot_id\":\"1156\"},\"id\":\"1163\",\"type\":\"panel.models.comm_manager.CommManager\"},{\"attributes\":{\"children\":[{\"id\":\"1157\"},{\"id\":\"1161\"}],\"margin\":[0,0,0,0],\"name\":\"Row00297\"},\"id\":\"1156\",\"type\":\"Row\"},{\"attributes\":{\"children\":[{\"id\":\"1158\"},{\"id\":\"1159\"},{\"id\":\"1160\"}],\"margin\":[5,5,5,5],\"min_width\":300,\"name\":\"Google Map Viewer\",\"width\":300},\"id\":\"1157\",\"type\":\"Column\"}],\"root_ids\":[\"1156\",\"1163\"]},\"title\":\"Bokeh Application\",\"version\":\"2.4.2\"}};\n",
       "    var render_items = [{\"docid\":\"6f05b05e-29f5-4007-8837-a1bfd2336cff\",\"root_ids\":[\"1156\"],\"roots\":{\"1156\":\"c460c096-fad5-473b-86dd-a42ea51a9a6d\"}}];\n",
       "    root.Bokeh.embed.embed_items_notebook(docs_json, render_items);\n",
       "  }\n",
       "  if (root.Bokeh !== undefined && root.Bokeh.Panel !== undefined) {\n",
       "    embed_document(root);\n",
       "  } else {\n",
       "    var attempts = 0;\n",
       "    var timer = setInterval(function(root) {\n",
       "      if (root.Bokeh !== undefined && root.Bokeh.Panel !== undefined) {\n",
       "        clearInterval(timer);\n",
       "        embed_document(root);\n",
       "      } else if (document.readyState == \"complete\") {\n",
       "        attempts++;\n",
       "        if (attempts > 200) {\n",
       "          clearInterval(timer);\n",
       "          console.log(\"Bokeh: ERROR: Unable to run BokehJS code because BokehJS library is missing\");\n",
       "        }\n",
       "      }\n",
       "    }, 25, root)\n",
       "  }\n",
       "})(window);</script>"
      ],
      "text/plain": [
       "Row\n",
       "    [0] Column(margin=5, name='Google Map Viewer', width=300)\n",
       "        [0] StaticText(value='<b>Google Map V...)\n",
       "        [1] Select(name='Continent', options=OrderedDict([('Africa', ...]), value='Asia')\n",
       "        [2] Select(name='Country', options=OrderedDict([('China', ...]), value='China')\n",
       "    [1] ParamMethod(method)"
      ]
     },
     "execution_count": 13,
     "metadata": {
      "application/vnd.holoviews_exec.v0+json": {
       "id": "1156"
      }
     },
     "output_type": "execute_result"
    }
   ],
   "source": [
    "class GoogleMapViewer(param.Parameterized):\n",
    "    \n",
    "    continent = param.ObjectSelector(default='Asia', objects=['Africa', 'Asia', 'Europe'])\n",
    "    \n",
    "    country = param.ObjectSelector(default='China', objects=['China', 'Thailand', 'Japan'])\n",
    "    \n",
    "    _countries = {'Africa': ['Ghana', 'Togo', 'South Africa', 'Tanzania'],\n",
    "                  'Asia'  : ['China', 'Thailand', 'Japan'],\n",
    "                  'Europe': ['Austria', 'Bulgaria', 'Greece', 'Portugal', 'Switzerland']}\n",
    "    \n",
    "    @param.depends('continent', watch=True)\n",
    "    def _update_countries(self):\n",
    "        countries = self._countries[self.continent]\n",
    "        self.param['country'].objects = countries\n",
    "        self.country = countries[0]\n",
    "\n",
    "    @param.depends('country')\n",
    "    def view(self):\n",
    "        iframe = \"\"\"\n",
    "        <iframe width=\"800\" height=\"400\" src=\"https://maps.google.com/maps?q={country}&z=6&output=embed\"\n",
    "        frameborder=\"0\" scrolling=\"no\" marginheight=\"0\" marginwidth=\"0\"></iframe>\n",
    "        \"\"\".format(country=self.country)\n",
    "        return pn.pane.HTML(iframe, height=400)\n",
    "        \n",
    "viewer = GoogleMapViewer(name='Google Map Viewer')\n",
    "pn.Row(viewer.param, viewer.view)"
   ]
  },
  {
   "cell_type": "markdown",
   "metadata": {},
   "source": [
    "Whenever the continent changes Param will now eagerly execute the ``_update_countries`` method to change the list of countries that is displayed, which in turn triggers an update in the view method updating the map. Note that there is no need to add ``watch=True`` to decorators of methods that are passed to a Panel layout (e.g. ``viewer.View`` being passed to ``pn.Row`` here), because Panel will already handle dependencies on those methods, executing the method automatically when the dependent parameters change. Indeed, if you specify ``watch=True`` for such a method, the method will get invoked _twice_ each time a dependency changes (once by Param internally and once by Panel), so you should reserve ``watch=True`` only for methods that aren't otherwise being monitored for dependencies."
   ]
  },
  {
   "cell_type": "markdown",
   "metadata": {},
   "source": [
    "## Parameter subobjects\n",
    "\n",
    "``Parameterized`` objects often have parameter values which are themselves ``Parameterized`` objects, forming a tree-like structure. Panel allows you to edit not just the main object's parameters but also lets you drill down to the subobject. Let us first define some classes declaring a hierarchy of Shape classes which draw a Bokeh plot of the selected shape:"
   ]
  },
  {
   "cell_type": "code",
   "execution_count": null,
   "metadata": {},
   "outputs": [],
   "source": [
    "from bokeh.plotting import figure\n",
    "\n",
    "\n",
    "class Shape(param.Parameterized):\n",
    "\n",
    "    radius = param.Number(default=1, bounds=(0, 1))\n",
    "\n",
    "    def __init__(self, **params):\n",
    "        super(Shape, self).__init__(**params)\n",
    "        self.figure = figure(x_range=(-1, 1), y_range=(-1, 1))\n",
    "        self.renderer = self.figure.line(*self._get_coords())\n",
    "\n",
    "    def _get_coords(self):\n",
    "        return [], []\n",
    "\n",
    "    def view(self):\n",
    "        return self.figure\n",
    "\n",
    "\n",
    "class Circle(Shape):\n",
    "\n",
    "    n = param.Integer(default=100, precedence=-1)\n",
    "\n",
    "    def _get_coords(self):\n",
    "        angles = np.linspace(0, 2 * np.pi, self.n + 1)\n",
    "        return (self.radius * np.sin(angles),\n",
    "                self.radius * np.cos(angles))\n",
    "\n",
    "    @param.depends('radius', watch=True)\n",
    "    def update(self):\n",
    "        xs, ys = self._get_coords()\n",
    "        self.renderer.data_source.data.update({'x': xs, 'y': ys})\n",
    "\n",
    "\n",
    "class NGon(Circle):\n",
    "\n",
    "    n = param.Integer(default=3, bounds=(3, 10), precedence=1)\n",
    "\n",
    "    @param.depends('radius', 'n', watch=True)\n",
    "    def update(self):\n",
    "        xs, ys = self._get_coords()\n",
    "        self.renderer.data_source.data.update({'x': xs, 'y': ys})"
   ]
  },
  {
   "cell_type": "markdown",
   "metadata": {},
   "source": [
    "Now that we have multiple Shape classes we can make instances of them and declare a ``ShapeViewer`` to select between them. We can also declare two methods with parameter dependencies, updating the plot and the plot title. The important thing to note here is that the ``param.depends`` decorator can not only depend on parameters on the object itself but also on specific parameters on the subobject, e.g. ``shape.radius``, or on all parameters of the subobject, expressed as ``shape.param``."
   ]
  },
  {
   "cell_type": "code",
   "execution_count": null,
   "metadata": {},
   "outputs": [],
   "source": [
    "shapes = [NGon(), Circle()]\n",
    "\n",
    "class ShapeViewer(param.Parameterized):\n",
    "    \n",
    "    shape = param.ObjectSelector(default=shapes[0], objects=shapes)\n",
    "    \n",
    "    @param.depends('shape')\n",
    "    def view(self):\n",
    "        return self.shape.view()\n",
    "    \n",
    "    @param.depends('shape', 'shape.radius')\n",
    "    def title(self):\n",
    "        return '## %s (radius=%.1f)' % (type(self.shape).__name__, self.shape.radius)\n",
    "    \n",
    "    def panel(self):\n",
    "        return pn.Column(self.title, self.view)"
   ]
  },
  {
   "cell_type": "markdown",
   "metadata": {},
   "source": [
    "Now that we have a class with subobjects we can display it as usual.  Three main options control how the subobject is rendered:\n",
    "\n",
    "* ``expand``: Whether the subobject is expanded on initialization (``default=False``).\n",
    "* ``expand_button``: Whether there should be a button to toggle expansion; otherwise it is fixed to the initial ``expand`` value (``default=True``).\n",
    "* ``expand_layout``: A layout type or instance to expand the plot into (``default=Column``).\n",
    "\n",
    "Let us start with the default view, which provides a toggle button to expand the subobject as desired:"
   ]
  },
  {
   "cell_type": "code",
   "execution_count": null,
   "metadata": {},
   "outputs": [],
   "source": [
    "viewer = ShapeViewer()\n",
    "\n",
    "pn.Row(viewer.param, viewer.panel())"
   ]
  },
  {
   "cell_type": "markdown",
   "metadata": {},
   "source": [
    "Alternatively we can provide a completely separate ``expand_layout`` instance to the Param pane and request that it always remains expanded using the ``expand`` and ``expand_button`` option. This allows us to lay out the main widgets and the subobject's widgets separately:"
   ]
  },
  {
   "cell_type": "code",
   "execution_count": null,
   "metadata": {},
   "outputs": [],
   "source": [
    "viewer = ShapeViewer()\n",
    "\n",
    "expand_layout = pn.Column()\n",
    "\n",
    "pn.Row(\n",
    "    pn.Column(\n",
    "        pn.panel(viewer.param, expand_button=False, expand=True, expand_layout=expand_layout),\n",
    "        \"#### Subobject parameters:\",\n",
    "        expand_layout),\n",
    "    viewer.panel())"
   ]
  },
  {
   "cell_type": "markdown",
   "metadata": {},
   "source": [
    "## Syncing query parameters\n",
    "\n",
    "By default the current [query parameters](https://en.wikipedia.org/wiki/Query_string) in the URL (specified as a URL suffix such as `?color=blue`) are made available on `pn.state.location.query_params`. To make working with query parameters straightforward the `Location` object also provides a `sync` method which allows syncing query parameters with the parameters on a `Parameterized` object.\n",
    "\n",
    "We will start by defining a `Parameterized` class:"
   ]
  },
  {
   "cell_type": "code",
   "execution_count": null,
   "metadata": {},
   "outputs": [],
   "source": [
    "class QueryExample(param.Parameterized):\n",
    "    \n",
    "    integer = param.Integer(default=None, bounds=(0, 10))\n",
    "    \n",
    "    string = param.String(default='A string')"
   ]
  },
  {
   "cell_type": "markdown",
   "metadata": {},
   "source": [
    "Now we will use the `pn.state.location` object to sync it with the URL query string (note that in a notebook environment `pn.state.location` is not initialized until the first plot has been displayed). The sync method takes the Parameterized object or instance to sync with as the first argument and a list or dictionary of the parameters as the second argument. If a dictionary is provided it should map from the Parameterized object's parameters to the query parameter name in the URL:"
   ]
  },
  {
   "cell_type": "code",
   "execution_count": null,
   "metadata": {},
   "outputs": [],
   "source": [
    "pn.state.location.sync(QueryExample, {'integer': 'int', 'string': 'str'})"
   ]
  },
  {
   "cell_type": "markdown",
   "metadata": {},
   "source": [
    "Now the Parameterized object is bi-directionally linked to the URL query parameter, if we set a query parameter in Python it will update the URL bar and when we specify a URL with a query parameter that will be set on the Parameterized, e.g. let us set the 'integer' parameter and watch the URL in your browser update:"
   ]
  },
  {
   "cell_type": "code",
   "execution_count": null,
   "metadata": {},
   "outputs": [],
   "source": [
    "QueryExample.integer = 5"
   ]
  },
  {
   "cell_type": "markdown",
   "metadata": {},
   "source": [
    "Note to unsync the Parameterized object you can simply call pn.state.location.unsync(QueryExample)."
   ]
  },
  {
   "cell_type": "markdown",
   "metadata": {},
   "source": [
    "In this user guide we have seen how to leverage Param to declare parameters, which Panel can then turn into a GUI with little additionl effort or code. We have also seen how to link parameters to views and to other parameters using the ``param.depends`` operator. This approach allows building complex and reactive panels. In the [pipelines user guide](Pipelines.ipynb) we can discover how to link multiple such classes into pipelines, making it possible to encapsulate complex workflows in clean self-contained classes."
   ]
  }
 ],
 "metadata": {
  "kernelspec": {
   "display_name": "Python 3 (ipykernel)",
   "language": "python",
   "name": "python3"
  },
  "language_info": {
   "codemirror_mode": {
    "name": "ipython",
    "version": 3
   },
   "file_extension": ".py",
   "mimetype": "text/x-python",
   "name": "python",
   "nbconvert_exporter": "python",
   "pygments_lexer": "ipython3",
   "version": "3.7.11"
  }
 },
 "nbformat": 4,
 "nbformat_minor": 4
}
