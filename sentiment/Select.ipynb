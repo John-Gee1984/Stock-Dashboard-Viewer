{
 "cells": [
  {
   "cell_type": "code",
   "execution_count": 1,
   "metadata": {},
   "outputs": [
    {
     "data": {
      "application/javascript": [
       "\n",
       "(function(root) {\n",
       "  function now() {\n",
       "    return new Date();\n",
       "  }\n",
       "\n",
       "  var force = true;\n",
       "\n",
       "  if (typeof root._bokeh_onload_callbacks === \"undefined\" || force === true) {\n",
       "    root._bokeh_onload_callbacks = [];\n",
       "    root._bokeh_is_loading = undefined;\n",
       "  }\n",
       "\n",
       "  if (typeof (root._bokeh_timeout) === \"undefined\" || force === true) {\n",
       "    root._bokeh_timeout = Date.now() + 5000;\n",
       "    root._bokeh_failed_load = false;\n",
       "  }\n",
       "\n",
       "  function run_callbacks() {\n",
       "    try {\n",
       "      root._bokeh_onload_callbacks.forEach(function(callback) {\n",
       "        if (callback != null)\n",
       "          callback();\n",
       "      });\n",
       "    } finally {\n",
       "      delete root._bokeh_onload_callbacks\n",
       "    }\n",
       "    console.debug(\"Bokeh: all callbacks have finished\");\n",
       "  }\n",
       "\n",
       "  function load_libs(css_urls, js_urls, js_modules, callback) {\n",
       "    if (css_urls == null) css_urls = [];\n",
       "    if (js_urls == null) js_urls = [];\n",
       "    if (js_modules == null) js_modules = [];\n",
       "\n",
       "    root._bokeh_onload_callbacks.push(callback);\n",
       "    if (root._bokeh_is_loading > 0) {\n",
       "      console.debug(\"Bokeh: BokehJS is being loaded, scheduling callback at\", now());\n",
       "      return null;\n",
       "    }\n",
       "    if (js_urls.length === 0 && js_modules.length === 0) {\n",
       "      run_callbacks();\n",
       "      return null;\n",
       "    }\n",
       "    console.debug(\"Bokeh: BokehJS not loaded, scheduling load and callback at\", now());\n",
       "\n",
       "    function on_load() {\n",
       "      root._bokeh_is_loading--;\n",
       "      if (root._bokeh_is_loading === 0) {\n",
       "        console.debug(\"Bokeh: all BokehJS libraries/stylesheets loaded\");\n",
       "        run_callbacks()\n",
       "      }\n",
       "    }\n",
       "\n",
       "    function on_error() {\n",
       "      console.error(\"failed to load \" + url);\n",
       "    }\n",
       "\n",
       "    for (var i = 0; i < css_urls.length; i++) {\n",
       "      var url = css_urls[i];\n",
       "      const element = document.createElement(\"link\");\n",
       "      element.onload = on_load;\n",
       "      element.onerror = on_error;\n",
       "      element.rel = \"stylesheet\";\n",
       "      element.type = \"text/css\";\n",
       "      element.href = url;\n",
       "      console.debug(\"Bokeh: injecting link tag for BokehJS stylesheet: \", url);\n",
       "      document.body.appendChild(element);\n",
       "    }\n",
       "\n",
       "    var skip = [];\n",
       "    if (window.requirejs) {\n",
       "      window.requirejs.config({'packages': {}, 'paths': {}, 'shim': {}});\n",
       "      \n",
       "      root._bokeh_is_loading = css_urls.length + 0;\n",
       "    } else {\n",
       "      root._bokeh_is_loading = css_urls.length + js_urls.length + js_modules.length;\n",
       "    }\n",
       "    for (var i = 0; i < js_urls.length; i++) {\n",
       "      var url = js_urls[i];\n",
       "      if (skip.indexOf(url) >= 0) {\n",
       "\tif (!window.requirejs) {\n",
       "\t  on_load();\n",
       "\t}\n",
       "\tcontinue;\n",
       "      }\n",
       "      var element = document.createElement('script');\n",
       "      element.onload = on_load;\n",
       "      element.onerror = on_error;\n",
       "      element.async = false;\n",
       "      element.src = url;\n",
       "      console.debug(\"Bokeh: injecting script tag for BokehJS library: \", url);\n",
       "      document.head.appendChild(element);\n",
       "    }\n",
       "    for (var i = 0; i < js_modules.length; i++) {\n",
       "      var url = js_modules[i];\n",
       "      if (skip.indexOf(url) >= 0) {\n",
       "\tif (!window.requirejs) {\n",
       "\t  on_load();\n",
       "\t}\n",
       "\tcontinue;\n",
       "      }\n",
       "      var element = document.createElement('script');\n",
       "      element.onload = on_load;\n",
       "      element.onerror = on_error;\n",
       "      element.async = false;\n",
       "      element.src = url;\n",
       "      element.type = \"module\";\n",
       "      console.debug(\"Bokeh: injecting script tag for BokehJS library: \", url);\n",
       "      document.head.appendChild(element);\n",
       "    }\n",
       "    if (!js_urls.length && !js_modules.length) {\n",
       "      on_load()\n",
       "    }\n",
       "  };\n",
       "\n",
       "  function inject_raw_css(css) {\n",
       "    const element = document.createElement(\"style\");\n",
       "    element.appendChild(document.createTextNode(css));\n",
       "    document.body.appendChild(element);\n",
       "  }\n",
       "\n",
       "  var js_urls = [\"https://cdn.bokeh.org/bokeh/release/bokeh-2.4.2.min.js\", \"https://cdn.bokeh.org/bokeh/release/bokeh-gl-2.4.2.min.js\", \"https://cdn.bokeh.org/bokeh/release/bokeh-widgets-2.4.2.min.js\", \"https://cdn.bokeh.org/bokeh/release/bokeh-tables-2.4.2.min.js\", \"https://cdn.bokeh.org/bokeh/release/bokeh-mathjax-2.4.2.min.js\", \"https://unpkg.com/@holoviz/panel@0.12.6/dist/panel.min.js\"];\n",
       "  var js_modules = [];\n",
       "  var css_urls = [\"https://unpkg.com/@holoviz/panel@0.12.6/dist/css/alerts.css\", \"https://unpkg.com/@holoviz/panel@0.12.6/dist/css/card.css\", \"https://unpkg.com/@holoviz/panel@0.12.6/dist/css/widgets.css\", \"https://unpkg.com/@holoviz/panel@0.12.6/dist/css/markdown.css\", \"https://unpkg.com/@holoviz/panel@0.12.6/dist/css/json.css\", \"https://unpkg.com/@holoviz/panel@0.12.6/dist/css/loading.css\", \"https://unpkg.com/@holoviz/panel@0.12.6/dist/css/dataframe.css\"];\n",
       "  var inline_js = [\n",
       "    function(Bokeh) {\n",
       "      inject_raw_css(\"\\n    .bk.pn-loading.arcs:before {\\n      background-image: url(\\\"data:image/svg+xml;base64,PHN2ZyB4bWxucz0iaHR0cDovL3d3dy53My5vcmcvMjAwMC9zdmciIHhtbG5zOnhsaW5rPSJodHRwOi8vd3d3LnczLm9yZy8xOTk5L3hsaW5rIiBzdHlsZT0ibWFyZ2luOiBhdXRvOyBiYWNrZ3JvdW5kOiBub25lOyBkaXNwbGF5OiBibG9jazsgc2hhcGUtcmVuZGVyaW5nOiBhdXRvOyIgdmlld0JveD0iMCAwIDEwMCAxMDAiIHByZXNlcnZlQXNwZWN0UmF0aW89InhNaWRZTWlkIj4gIDxjaXJjbGUgY3g9IjUwIiBjeT0iNTAiIHI9IjMyIiBzdHJva2Utd2lkdGg9IjgiIHN0cm9rZT0iI2MzYzNjMyIgc3Ryb2tlLWRhc2hhcnJheT0iNTAuMjY1NDgyNDU3NDM2NjkgNTAuMjY1NDgyNDU3NDM2NjkiIGZpbGw9Im5vbmUiIHN0cm9rZS1saW5lY2FwPSJyb3VuZCI+ICAgIDxhbmltYXRlVHJhbnNmb3JtIGF0dHJpYnV0ZU5hbWU9InRyYW5zZm9ybSIgdHlwZT0icm90YXRlIiByZXBlYXRDb3VudD0iaW5kZWZpbml0ZSIgZHVyPSIxcyIga2V5VGltZXM9IjA7MSIgdmFsdWVzPSIwIDUwIDUwOzM2MCA1MCA1MCI+PC9hbmltYXRlVHJhbnNmb3JtPiAgPC9jaXJjbGU+PC9zdmc+\\\");\\n      max-height: 400px;\\n    }\\n    \");\n",
       "    },\n",
       "    function(Bokeh) {\n",
       "      Bokeh.set_log_level(\"info\");\n",
       "    },\n",
       "    function(Bokeh) {} // ensure no trailing comma for IE\n",
       "  ];\n",
       "\n",
       "  function run_inline_js() {\n",
       "    if ((root.Bokeh !== undefined) || (force === true)) {\n",
       "      for (var i = 0; i < inline_js.length; i++) {\n",
       "        inline_js[i].call(root, root.Bokeh);\n",
       "      }} else if (Date.now() < root._bokeh_timeout) {\n",
       "      setTimeout(run_inline_js, 100);\n",
       "    } else if (!root._bokeh_failed_load) {\n",
       "      console.log(\"Bokeh: BokehJS failed to load within specified timeout.\");\n",
       "      root._bokeh_failed_load = true;\n",
       "    }\n",
       "  }\n",
       "\n",
       "  if (root._bokeh_is_loading === 0) {\n",
       "    console.debug(\"Bokeh: BokehJS loaded, going straight to plotting\");\n",
       "    run_inline_js();\n",
       "  } else {\n",
       "    load_libs(css_urls, js_urls, js_modules, function() {\n",
       "      console.debug(\"Bokeh: BokehJS plotting callback run at\", now());\n",
       "      run_inline_js();\n",
       "    });\n",
       "  }\n",
       "}(window));"
      ],
      "application/vnd.holoviews_load.v0+json": "\n(function(root) {\n  function now() {\n    return new Date();\n  }\n\n  var force = true;\n\n  if (typeof root._bokeh_onload_callbacks === \"undefined\" || force === true) {\n    root._bokeh_onload_callbacks = [];\n    root._bokeh_is_loading = undefined;\n  }\n\n  if (typeof (root._bokeh_timeout) === \"undefined\" || force === true) {\n    root._bokeh_timeout = Date.now() + 5000;\n    root._bokeh_failed_load = false;\n  }\n\n  function run_callbacks() {\n    try {\n      root._bokeh_onload_callbacks.forEach(function(callback) {\n        if (callback != null)\n          callback();\n      });\n    } finally {\n      delete root._bokeh_onload_callbacks\n    }\n    console.debug(\"Bokeh: all callbacks have finished\");\n  }\n\n  function load_libs(css_urls, js_urls, js_modules, callback) {\n    if (css_urls == null) css_urls = [];\n    if (js_urls == null) js_urls = [];\n    if (js_modules == null) js_modules = [];\n\n    root._bokeh_onload_callbacks.push(callback);\n    if (root._bokeh_is_loading > 0) {\n      console.debug(\"Bokeh: BokehJS is being loaded, scheduling callback at\", now());\n      return null;\n    }\n    if (js_urls.length === 0 && js_modules.length === 0) {\n      run_callbacks();\n      return null;\n    }\n    console.debug(\"Bokeh: BokehJS not loaded, scheduling load and callback at\", now());\n\n    function on_load() {\n      root._bokeh_is_loading--;\n      if (root._bokeh_is_loading === 0) {\n        console.debug(\"Bokeh: all BokehJS libraries/stylesheets loaded\");\n        run_callbacks()\n      }\n    }\n\n    function on_error() {\n      console.error(\"failed to load \" + url);\n    }\n\n    for (var i = 0; i < css_urls.length; i++) {\n      var url = css_urls[i];\n      const element = document.createElement(\"link\");\n      element.onload = on_load;\n      element.onerror = on_error;\n      element.rel = \"stylesheet\";\n      element.type = \"text/css\";\n      element.href = url;\n      console.debug(\"Bokeh: injecting link tag for BokehJS stylesheet: \", url);\n      document.body.appendChild(element);\n    }\n\n    var skip = [];\n    if (window.requirejs) {\n      window.requirejs.config({'packages': {}, 'paths': {}, 'shim': {}});\n      \n      root._bokeh_is_loading = css_urls.length + 0;\n    } else {\n      root._bokeh_is_loading = css_urls.length + js_urls.length + js_modules.length;\n    }\n    for (var i = 0; i < js_urls.length; i++) {\n      var url = js_urls[i];\n      if (skip.indexOf(url) >= 0) {\n\tif (!window.requirejs) {\n\t  on_load();\n\t}\n\tcontinue;\n      }\n      var element = document.createElement('script');\n      element.onload = on_load;\n      element.onerror = on_error;\n      element.async = false;\n      element.src = url;\n      console.debug(\"Bokeh: injecting script tag for BokehJS library: \", url);\n      document.head.appendChild(element);\n    }\n    for (var i = 0; i < js_modules.length; i++) {\n      var url = js_modules[i];\n      if (skip.indexOf(url) >= 0) {\n\tif (!window.requirejs) {\n\t  on_load();\n\t}\n\tcontinue;\n      }\n      var element = document.createElement('script');\n      element.onload = on_load;\n      element.onerror = on_error;\n      element.async = false;\n      element.src = url;\n      element.type = \"module\";\n      console.debug(\"Bokeh: injecting script tag for BokehJS library: \", url);\n      document.head.appendChild(element);\n    }\n    if (!js_urls.length && !js_modules.length) {\n      on_load()\n    }\n  };\n\n  function inject_raw_css(css) {\n    const element = document.createElement(\"style\");\n    element.appendChild(document.createTextNode(css));\n    document.body.appendChild(element);\n  }\n\n  var js_urls = [\"https://cdn.bokeh.org/bokeh/release/bokeh-2.4.2.min.js\", \"https://cdn.bokeh.org/bokeh/release/bokeh-gl-2.4.2.min.js\", \"https://cdn.bokeh.org/bokeh/release/bokeh-widgets-2.4.2.min.js\", \"https://cdn.bokeh.org/bokeh/release/bokeh-tables-2.4.2.min.js\", \"https://cdn.bokeh.org/bokeh/release/bokeh-mathjax-2.4.2.min.js\", \"https://unpkg.com/@holoviz/panel@0.12.6/dist/panel.min.js\"];\n  var js_modules = [];\n  var css_urls = [\"https://unpkg.com/@holoviz/panel@0.12.6/dist/css/alerts.css\", \"https://unpkg.com/@holoviz/panel@0.12.6/dist/css/card.css\", \"https://unpkg.com/@holoviz/panel@0.12.6/dist/css/widgets.css\", \"https://unpkg.com/@holoviz/panel@0.12.6/dist/css/markdown.css\", \"https://unpkg.com/@holoviz/panel@0.12.6/dist/css/json.css\", \"https://unpkg.com/@holoviz/panel@0.12.6/dist/css/loading.css\", \"https://unpkg.com/@holoviz/panel@0.12.6/dist/css/dataframe.css\"];\n  var inline_js = [\n    function(Bokeh) {\n      inject_raw_css(\"\\n    .bk.pn-loading.arcs:before {\\n      background-image: url(\\\"data:image/svg+xml;base64,PHN2ZyB4bWxucz0iaHR0cDovL3d3dy53My5vcmcvMjAwMC9zdmciIHhtbG5zOnhsaW5rPSJodHRwOi8vd3d3LnczLm9yZy8xOTk5L3hsaW5rIiBzdHlsZT0ibWFyZ2luOiBhdXRvOyBiYWNrZ3JvdW5kOiBub25lOyBkaXNwbGF5OiBibG9jazsgc2hhcGUtcmVuZGVyaW5nOiBhdXRvOyIgdmlld0JveD0iMCAwIDEwMCAxMDAiIHByZXNlcnZlQXNwZWN0UmF0aW89InhNaWRZTWlkIj4gIDxjaXJjbGUgY3g9IjUwIiBjeT0iNTAiIHI9IjMyIiBzdHJva2Utd2lkdGg9IjgiIHN0cm9rZT0iI2MzYzNjMyIgc3Ryb2tlLWRhc2hhcnJheT0iNTAuMjY1NDgyNDU3NDM2NjkgNTAuMjY1NDgyNDU3NDM2NjkiIGZpbGw9Im5vbmUiIHN0cm9rZS1saW5lY2FwPSJyb3VuZCI+ICAgIDxhbmltYXRlVHJhbnNmb3JtIGF0dHJpYnV0ZU5hbWU9InRyYW5zZm9ybSIgdHlwZT0icm90YXRlIiByZXBlYXRDb3VudD0iaW5kZWZpbml0ZSIgZHVyPSIxcyIga2V5VGltZXM9IjA7MSIgdmFsdWVzPSIwIDUwIDUwOzM2MCA1MCA1MCI+PC9hbmltYXRlVHJhbnNmb3JtPiAgPC9jaXJjbGU+PC9zdmc+\\\");\\n      max-height: 400px;\\n    }\\n    \");\n    },\n    function(Bokeh) {\n      Bokeh.set_log_level(\"info\");\n    },\n    function(Bokeh) {} // ensure no trailing comma for IE\n  ];\n\n  function run_inline_js() {\n    if ((root.Bokeh !== undefined) || (force === true)) {\n      for (var i = 0; i < inline_js.length; i++) {\n        inline_js[i].call(root, root.Bokeh);\n      }} else if (Date.now() < root._bokeh_timeout) {\n      setTimeout(run_inline_js, 100);\n    } else if (!root._bokeh_failed_load) {\n      console.log(\"Bokeh: BokehJS failed to load within specified timeout.\");\n      root._bokeh_failed_load = true;\n    }\n  }\n\n  if (root._bokeh_is_loading === 0) {\n    console.debug(\"Bokeh: BokehJS loaded, going straight to plotting\");\n    run_inline_js();\n  } else {\n    load_libs(css_urls, js_urls, js_modules, function() {\n      console.debug(\"Bokeh: BokehJS plotting callback run at\", now());\n      run_inline_js();\n    });\n  }\n}(window));"
     },
     "metadata": {},
     "output_type": "display_data"
    },
    {
     "data": {
      "application/javascript": [
       "\n",
       "if ((window.PyViz === undefined) || (window.PyViz instanceof HTMLElement)) {\n",
       "  window.PyViz = {comms: {}, comm_status:{}, kernels:{}, receivers: {}, plot_index: []}\n",
       "}\n",
       "\n",
       "\n",
       "    function JupyterCommManager() {\n",
       "    }\n",
       "\n",
       "    JupyterCommManager.prototype.register_target = function(plot_id, comm_id, msg_handler) {\n",
       "      if (window.comm_manager || ((window.Jupyter !== undefined) && (Jupyter.notebook.kernel != null))) {\n",
       "        var comm_manager = window.comm_manager || Jupyter.notebook.kernel.comm_manager;\n",
       "        comm_manager.register_target(comm_id, function(comm) {\n",
       "          comm.on_msg(msg_handler);\n",
       "        });\n",
       "      } else if ((plot_id in window.PyViz.kernels) && (window.PyViz.kernels[plot_id])) {\n",
       "        window.PyViz.kernels[plot_id].registerCommTarget(comm_id, function(comm) {\n",
       "          comm.onMsg = msg_handler;\n",
       "        });\n",
       "      } else if (typeof google != 'undefined' && google.colab.kernel != null) {\n",
       "        google.colab.kernel.comms.registerTarget(comm_id, (comm) => {\n",
       "          var messages = comm.messages[Symbol.asyncIterator]();\n",
       "          function processIteratorResult(result) {\n",
       "            var message = result.value;\n",
       "            console.log(message)\n",
       "            var content = {data: message.data, comm_id};\n",
       "            var buffers = []\n",
       "            for (var buffer of message.buffers || []) {\n",
       "              buffers.push(new DataView(buffer))\n",
       "            }\n",
       "            var metadata = message.metadata || {};\n",
       "            var msg = {content, buffers, metadata}\n",
       "            msg_handler(msg);\n",
       "            return messages.next().then(processIteratorResult);\n",
       "          }\n",
       "          return messages.next().then(processIteratorResult);\n",
       "        })\n",
       "      }\n",
       "    }\n",
       "\n",
       "    JupyterCommManager.prototype.get_client_comm = function(plot_id, comm_id, msg_handler) {\n",
       "      if (comm_id in window.PyViz.comms) {\n",
       "        return window.PyViz.comms[comm_id];\n",
       "      } else if (window.comm_manager || ((window.Jupyter !== undefined) && (Jupyter.notebook.kernel != null))) {\n",
       "        var comm_manager = window.comm_manager || Jupyter.notebook.kernel.comm_manager;\n",
       "        var comm = comm_manager.new_comm(comm_id, {}, {}, {}, comm_id);\n",
       "        if (msg_handler) {\n",
       "          comm.on_msg(msg_handler);\n",
       "        }\n",
       "      } else if ((plot_id in window.PyViz.kernels) && (window.PyViz.kernels[plot_id])) {\n",
       "        var comm = window.PyViz.kernels[plot_id].connectToComm(comm_id);\n",
       "        comm.open();\n",
       "        if (msg_handler) {\n",
       "          comm.onMsg = msg_handler;\n",
       "        }\n",
       "      } else if (typeof google != 'undefined' && google.colab.kernel != null) {\n",
       "        var comm_promise = google.colab.kernel.comms.open(comm_id)\n",
       "        comm_promise.then((comm) => {\n",
       "          window.PyViz.comms[comm_id] = comm;\n",
       "          if (msg_handler) {\n",
       "            var messages = comm.messages[Symbol.asyncIterator]();\n",
       "            function processIteratorResult(result) {\n",
       "              var message = result.value;\n",
       "              var content = {data: message.data};\n",
       "              var metadata = message.metadata || {comm_id};\n",
       "              var msg = {content, metadata}\n",
       "              msg_handler(msg);\n",
       "              return messages.next().then(processIteratorResult);\n",
       "            }\n",
       "            return messages.next().then(processIteratorResult);\n",
       "          }\n",
       "        }) \n",
       "        var sendClosure = (data, metadata, buffers, disposeOnDone) => {\n",
       "          return comm_promise.then((comm) => {\n",
       "            comm.send(data, metadata, buffers, disposeOnDone);\n",
       "          });\n",
       "        };\n",
       "        var comm = {\n",
       "          send: sendClosure\n",
       "        };\n",
       "      }\n",
       "      window.PyViz.comms[comm_id] = comm;\n",
       "      return comm;\n",
       "    }\n",
       "    window.PyViz.comm_manager = new JupyterCommManager();\n",
       "    \n",
       "\n",
       "\n",
       "var JS_MIME_TYPE = 'application/javascript';\n",
       "var HTML_MIME_TYPE = 'text/html';\n",
       "var EXEC_MIME_TYPE = 'application/vnd.holoviews_exec.v0+json';\n",
       "var CLASS_NAME = 'output';\n",
       "\n",
       "/**\n",
       " * Render data to the DOM node\n",
       " */\n",
       "function render(props, node) {\n",
       "  var div = document.createElement(\"div\");\n",
       "  var script = document.createElement(\"script\");\n",
       "  node.appendChild(div);\n",
       "  node.appendChild(script);\n",
       "}\n",
       "\n",
       "/**\n",
       " * Handle when a new output is added\n",
       " */\n",
       "function handle_add_output(event, handle) {\n",
       "  var output_area = handle.output_area;\n",
       "  var output = handle.output;\n",
       "  if ((output.data == undefined) || (!output.data.hasOwnProperty(EXEC_MIME_TYPE))) {\n",
       "    return\n",
       "  }\n",
       "  var id = output.metadata[EXEC_MIME_TYPE][\"id\"];\n",
       "  var toinsert = output_area.element.find(\".\" + CLASS_NAME.split(' ')[0]);\n",
       "  if (id !== undefined) {\n",
       "    var nchildren = toinsert.length;\n",
       "    var html_node = toinsert[nchildren-1].children[0];\n",
       "    html_node.innerHTML = output.data[HTML_MIME_TYPE];\n",
       "    var scripts = [];\n",
       "    var nodelist = html_node.querySelectorAll(\"script\");\n",
       "    for (var i in nodelist) {\n",
       "      if (nodelist.hasOwnProperty(i)) {\n",
       "        scripts.push(nodelist[i])\n",
       "      }\n",
       "    }\n",
       "\n",
       "    scripts.forEach( function (oldScript) {\n",
       "      var newScript = document.createElement(\"script\");\n",
       "      var attrs = [];\n",
       "      var nodemap = oldScript.attributes;\n",
       "      for (var j in nodemap) {\n",
       "        if (nodemap.hasOwnProperty(j)) {\n",
       "          attrs.push(nodemap[j])\n",
       "        }\n",
       "      }\n",
       "      attrs.forEach(function(attr) { newScript.setAttribute(attr.name, attr.value) });\n",
       "      newScript.appendChild(document.createTextNode(oldScript.innerHTML));\n",
       "      oldScript.parentNode.replaceChild(newScript, oldScript);\n",
       "    });\n",
       "    if (JS_MIME_TYPE in output.data) {\n",
       "      toinsert[nchildren-1].children[1].textContent = output.data[JS_MIME_TYPE];\n",
       "    }\n",
       "    output_area._hv_plot_id = id;\n",
       "    if ((window.Bokeh !== undefined) && (id in Bokeh.index)) {\n",
       "      window.PyViz.plot_index[id] = Bokeh.index[id];\n",
       "    } else {\n",
       "      window.PyViz.plot_index[id] = null;\n",
       "    }\n",
       "  } else if (output.metadata[EXEC_MIME_TYPE][\"server_id\"] !== undefined) {\n",
       "    var bk_div = document.createElement(\"div\");\n",
       "    bk_div.innerHTML = output.data[HTML_MIME_TYPE];\n",
       "    var script_attrs = bk_div.children[0].attributes;\n",
       "    for (var i = 0; i < script_attrs.length; i++) {\n",
       "      toinsert[toinsert.length - 1].childNodes[1].setAttribute(script_attrs[i].name, script_attrs[i].value);\n",
       "    }\n",
       "    // store reference to server id on output_area\n",
       "    output_area._bokeh_server_id = output.metadata[EXEC_MIME_TYPE][\"server_id\"];\n",
       "  }\n",
       "}\n",
       "\n",
       "/**\n",
       " * Handle when an output is cleared or removed\n",
       " */\n",
       "function handle_clear_output(event, handle) {\n",
       "  var id = handle.cell.output_area._hv_plot_id;\n",
       "  var server_id = handle.cell.output_area._bokeh_server_id;\n",
       "  if (((id === undefined) || !(id in PyViz.plot_index)) && (server_id !== undefined)) { return; }\n",
       "  var comm = window.PyViz.comm_manager.get_client_comm(\"hv-extension-comm\", \"hv-extension-comm\", function () {});\n",
       "  if (server_id !== null) {\n",
       "    comm.send({event_type: 'server_delete', 'id': server_id});\n",
       "    return;\n",
       "  } else if (comm !== null) {\n",
       "    comm.send({event_type: 'delete', 'id': id});\n",
       "  }\n",
       "  delete PyViz.plot_index[id];\n",
       "  if ((window.Bokeh !== undefined) & (id in window.Bokeh.index)) {\n",
       "    var doc = window.Bokeh.index[id].model.document\n",
       "    doc.clear();\n",
       "    const i = window.Bokeh.documents.indexOf(doc);\n",
       "    if (i > -1) {\n",
       "      window.Bokeh.documents.splice(i, 1);\n",
       "    }\n",
       "  }\n",
       "}\n",
       "\n",
       "/**\n",
       " * Handle kernel restart event\n",
       " */\n",
       "function handle_kernel_cleanup(event, handle) {\n",
       "  delete PyViz.comms[\"hv-extension-comm\"];\n",
       "  window.PyViz.plot_index = {}\n",
       "}\n",
       "\n",
       "/**\n",
       " * Handle update_display_data messages\n",
       " */\n",
       "function handle_update_output(event, handle) {\n",
       "  handle_clear_output(event, {cell: {output_area: handle.output_area}})\n",
       "  handle_add_output(event, handle)\n",
       "}\n",
       "\n",
       "function register_renderer(events, OutputArea) {\n",
       "  function append_mime(data, metadata, element) {\n",
       "    // create a DOM node to render to\n",
       "    var toinsert = this.create_output_subarea(\n",
       "    metadata,\n",
       "    CLASS_NAME,\n",
       "    EXEC_MIME_TYPE\n",
       "    );\n",
       "    this.keyboard_manager.register_events(toinsert);\n",
       "    // Render to node\n",
       "    var props = {data: data, metadata: metadata[EXEC_MIME_TYPE]};\n",
       "    render(props, toinsert[0]);\n",
       "    element.append(toinsert);\n",
       "    return toinsert\n",
       "  }\n",
       "\n",
       "  events.on('output_added.OutputArea', handle_add_output);\n",
       "  events.on('output_updated.OutputArea', handle_update_output);\n",
       "  events.on('clear_output.CodeCell', handle_clear_output);\n",
       "  events.on('delete.Cell', handle_clear_output);\n",
       "  events.on('kernel_ready.Kernel', handle_kernel_cleanup);\n",
       "\n",
       "  OutputArea.prototype.register_mime_type(EXEC_MIME_TYPE, append_mime, {\n",
       "    safe: true,\n",
       "    index: 0\n",
       "  });\n",
       "}\n",
       "\n",
       "if (window.Jupyter !== undefined) {\n",
       "  try {\n",
       "    var events = require('base/js/events');\n",
       "    var OutputArea = require('notebook/js/outputarea').OutputArea;\n",
       "    if (OutputArea.prototype.mime_types().indexOf(EXEC_MIME_TYPE) == -1) {\n",
       "      register_renderer(events, OutputArea);\n",
       "    }\n",
       "  } catch(err) {\n",
       "  }\n",
       "}\n"
      ],
      "application/vnd.holoviews_load.v0+json": "\nif ((window.PyViz === undefined) || (window.PyViz instanceof HTMLElement)) {\n  window.PyViz = {comms: {}, comm_status:{}, kernels:{}, receivers: {}, plot_index: []}\n}\n\n\n    function JupyterCommManager() {\n    }\n\n    JupyterCommManager.prototype.register_target = function(plot_id, comm_id, msg_handler) {\n      if (window.comm_manager || ((window.Jupyter !== undefined) && (Jupyter.notebook.kernel != null))) {\n        var comm_manager = window.comm_manager || Jupyter.notebook.kernel.comm_manager;\n        comm_manager.register_target(comm_id, function(comm) {\n          comm.on_msg(msg_handler);\n        });\n      } else if ((plot_id in window.PyViz.kernels) && (window.PyViz.kernels[plot_id])) {\n        window.PyViz.kernels[plot_id].registerCommTarget(comm_id, function(comm) {\n          comm.onMsg = msg_handler;\n        });\n      } else if (typeof google != 'undefined' && google.colab.kernel != null) {\n        google.colab.kernel.comms.registerTarget(comm_id, (comm) => {\n          var messages = comm.messages[Symbol.asyncIterator]();\n          function processIteratorResult(result) {\n            var message = result.value;\n            console.log(message)\n            var content = {data: message.data, comm_id};\n            var buffers = []\n            for (var buffer of message.buffers || []) {\n              buffers.push(new DataView(buffer))\n            }\n            var metadata = message.metadata || {};\n            var msg = {content, buffers, metadata}\n            msg_handler(msg);\n            return messages.next().then(processIteratorResult);\n          }\n          return messages.next().then(processIteratorResult);\n        })\n      }\n    }\n\n    JupyterCommManager.prototype.get_client_comm = function(plot_id, comm_id, msg_handler) {\n      if (comm_id in window.PyViz.comms) {\n        return window.PyViz.comms[comm_id];\n      } else if (window.comm_manager || ((window.Jupyter !== undefined) && (Jupyter.notebook.kernel != null))) {\n        var comm_manager = window.comm_manager || Jupyter.notebook.kernel.comm_manager;\n        var comm = comm_manager.new_comm(comm_id, {}, {}, {}, comm_id);\n        if (msg_handler) {\n          comm.on_msg(msg_handler);\n        }\n      } else if ((plot_id in window.PyViz.kernels) && (window.PyViz.kernels[plot_id])) {\n        var comm = window.PyViz.kernels[plot_id].connectToComm(comm_id);\n        comm.open();\n        if (msg_handler) {\n          comm.onMsg = msg_handler;\n        }\n      } else if (typeof google != 'undefined' && google.colab.kernel != null) {\n        var comm_promise = google.colab.kernel.comms.open(comm_id)\n        comm_promise.then((comm) => {\n          window.PyViz.comms[comm_id] = comm;\n          if (msg_handler) {\n            var messages = comm.messages[Symbol.asyncIterator]();\n            function processIteratorResult(result) {\n              var message = result.value;\n              var content = {data: message.data};\n              var metadata = message.metadata || {comm_id};\n              var msg = {content, metadata}\n              msg_handler(msg);\n              return messages.next().then(processIteratorResult);\n            }\n            return messages.next().then(processIteratorResult);\n          }\n        }) \n        var sendClosure = (data, metadata, buffers, disposeOnDone) => {\n          return comm_promise.then((comm) => {\n            comm.send(data, metadata, buffers, disposeOnDone);\n          });\n        };\n        var comm = {\n          send: sendClosure\n        };\n      }\n      window.PyViz.comms[comm_id] = comm;\n      return comm;\n    }\n    window.PyViz.comm_manager = new JupyterCommManager();\n    \n\n\nvar JS_MIME_TYPE = 'application/javascript';\nvar HTML_MIME_TYPE = 'text/html';\nvar EXEC_MIME_TYPE = 'application/vnd.holoviews_exec.v0+json';\nvar CLASS_NAME = 'output';\n\n/**\n * Render data to the DOM node\n */\nfunction render(props, node) {\n  var div = document.createElement(\"div\");\n  var script = document.createElement(\"script\");\n  node.appendChild(div);\n  node.appendChild(script);\n}\n\n/**\n * Handle when a new output is added\n */\nfunction handle_add_output(event, handle) {\n  var output_area = handle.output_area;\n  var output = handle.output;\n  if ((output.data == undefined) || (!output.data.hasOwnProperty(EXEC_MIME_TYPE))) {\n    return\n  }\n  var id = output.metadata[EXEC_MIME_TYPE][\"id\"];\n  var toinsert = output_area.element.find(\".\" + CLASS_NAME.split(' ')[0]);\n  if (id !== undefined) {\n    var nchildren = toinsert.length;\n    var html_node = toinsert[nchildren-1].children[0];\n    html_node.innerHTML = output.data[HTML_MIME_TYPE];\n    var scripts = [];\n    var nodelist = html_node.querySelectorAll(\"script\");\n    for (var i in nodelist) {\n      if (nodelist.hasOwnProperty(i)) {\n        scripts.push(nodelist[i])\n      }\n    }\n\n    scripts.forEach( function (oldScript) {\n      var newScript = document.createElement(\"script\");\n      var attrs = [];\n      var nodemap = oldScript.attributes;\n      for (var j in nodemap) {\n        if (nodemap.hasOwnProperty(j)) {\n          attrs.push(nodemap[j])\n        }\n      }\n      attrs.forEach(function(attr) { newScript.setAttribute(attr.name, attr.value) });\n      newScript.appendChild(document.createTextNode(oldScript.innerHTML));\n      oldScript.parentNode.replaceChild(newScript, oldScript);\n    });\n    if (JS_MIME_TYPE in output.data) {\n      toinsert[nchildren-1].children[1].textContent = output.data[JS_MIME_TYPE];\n    }\n    output_area._hv_plot_id = id;\n    if ((window.Bokeh !== undefined) && (id in Bokeh.index)) {\n      window.PyViz.plot_index[id] = Bokeh.index[id];\n    } else {\n      window.PyViz.plot_index[id] = null;\n    }\n  } else if (output.metadata[EXEC_MIME_TYPE][\"server_id\"] !== undefined) {\n    var bk_div = document.createElement(\"div\");\n    bk_div.innerHTML = output.data[HTML_MIME_TYPE];\n    var script_attrs = bk_div.children[0].attributes;\n    for (var i = 0; i < script_attrs.length; i++) {\n      toinsert[toinsert.length - 1].childNodes[1].setAttribute(script_attrs[i].name, script_attrs[i].value);\n    }\n    // store reference to server id on output_area\n    output_area._bokeh_server_id = output.metadata[EXEC_MIME_TYPE][\"server_id\"];\n  }\n}\n\n/**\n * Handle when an output is cleared or removed\n */\nfunction handle_clear_output(event, handle) {\n  var id = handle.cell.output_area._hv_plot_id;\n  var server_id = handle.cell.output_area._bokeh_server_id;\n  if (((id === undefined) || !(id in PyViz.plot_index)) && (server_id !== undefined)) { return; }\n  var comm = window.PyViz.comm_manager.get_client_comm(\"hv-extension-comm\", \"hv-extension-comm\", function () {});\n  if (server_id !== null) {\n    comm.send({event_type: 'server_delete', 'id': server_id});\n    return;\n  } else if (comm !== null) {\n    comm.send({event_type: 'delete', 'id': id});\n  }\n  delete PyViz.plot_index[id];\n  if ((window.Bokeh !== undefined) & (id in window.Bokeh.index)) {\n    var doc = window.Bokeh.index[id].model.document\n    doc.clear();\n    const i = window.Bokeh.documents.indexOf(doc);\n    if (i > -1) {\n      window.Bokeh.documents.splice(i, 1);\n    }\n  }\n}\n\n/**\n * Handle kernel restart event\n */\nfunction handle_kernel_cleanup(event, handle) {\n  delete PyViz.comms[\"hv-extension-comm\"];\n  window.PyViz.plot_index = {}\n}\n\n/**\n * Handle update_display_data messages\n */\nfunction handle_update_output(event, handle) {\n  handle_clear_output(event, {cell: {output_area: handle.output_area}})\n  handle_add_output(event, handle)\n}\n\nfunction register_renderer(events, OutputArea) {\n  function append_mime(data, metadata, element) {\n    // create a DOM node to render to\n    var toinsert = this.create_output_subarea(\n    metadata,\n    CLASS_NAME,\n    EXEC_MIME_TYPE\n    );\n    this.keyboard_manager.register_events(toinsert);\n    // Render to node\n    var props = {data: data, metadata: metadata[EXEC_MIME_TYPE]};\n    render(props, toinsert[0]);\n    element.append(toinsert);\n    return toinsert\n  }\n\n  events.on('output_added.OutputArea', handle_add_output);\n  events.on('output_updated.OutputArea', handle_update_output);\n  events.on('clear_output.CodeCell', handle_clear_output);\n  events.on('delete.Cell', handle_clear_output);\n  events.on('kernel_ready.Kernel', handle_kernel_cleanup);\n\n  OutputArea.prototype.register_mime_type(EXEC_MIME_TYPE, append_mime, {\n    safe: true,\n    index: 0\n  });\n}\n\nif (window.Jupyter !== undefined) {\n  try {\n    var events = require('base/js/events');\n    var OutputArea = require('notebook/js/outputarea').OutputArea;\n    if (OutputArea.prototype.mime_types().indexOf(EXEC_MIME_TYPE) == -1) {\n      register_renderer(events, OutputArea);\n    }\n  } catch(err) {\n  }\n}\n"
     },
     "metadata": {},
     "output_type": "display_data"
    }
   ],
   "source": [
    "import panel as pn\n",
    "pn.extension()"
   ]
  },
  {
   "cell_type": "markdown",
   "metadata": {},
   "source": [
    "The ``Select`` widget allows selecting a ``value`` from a list or dictionary of ``options`` by selecting it from a dropdown menu or selection area. It falls into the broad category of single-value, option-selection widgets that provide a compatible API and include the [``RadioBoxGroup``](RadioBoxGroup.ipynb), [``AutocompleteInput``](AutocompleteInput.ipynb) and [``DiscreteSlider``](DiscreteSlider.ipynb) widgets.\n",
    "\n",
    "For more information about listening to widget events and laying out widgets refer to the [widgets user guide](../../user_guide/Widgets.ipynb). Alternatively you can learn how to build GUIs by declaring parameters independently of any specific widgets in the [param user guide](../../user_guide/Param.ipynb). To express interactivity entirely using Javascript without the need for a Python server take a look at the [links user guide](../../user_guide/Param.ipynb).\n",
    "\n",
    "#### Parameters:\n",
    "\n",
    "For layout and styling related parameters see the [customization user guide](../../user_guide/Customization.ipynb).\n",
    "\n",
    "##### Core\n",
    "\n",
    "* **``options``** (list or dict): A list or dictionary of options to select from\n",
    "* **``disabled_options``** (list): Optional list of ``options`` that are disabled, i.e. unusable and un-clickable. If ``options`` is a dictionary the list items must be dictionary values.\n",
    "* **``groups``** (dict): A dictionary whose keys are used to visually group the options and whose values are either a list or a dictionary of options to select from. Mutually exclusive with ``options`` and valid only if ``size`` is 1.\n",
    "* **``size``** (int, default=1): Declares how many options are displayed at the same time. If set to 1 displays options as dropdown otherwise displays scrollable area.\n",
    "* **``value``** (object): The current value; must be one of the option values\n",
    "\n",
    "##### Display\n",
    "\n",
    "* **``disabled``** (boolean): Whether the widget is editable\n",
    "* **``name``** (str): The title of the widget\n",
    "\n",
    "___"
   ]
  },
  {
   "cell_type": "code",
   "execution_count": 2,
   "metadata": {},
   "outputs": [
    {
     "data": {},
     "metadata": {},
     "output_type": "display_data"
    },
    {
     "data": {
      "application/vnd.holoviews_exec.v0+json": "",
      "text/html": [
       "<div id='1002'>\n",
       "\n",
       "\n",
       "\n",
       "\n",
       "\n",
       "  <div class=\"bk-root\" id=\"293e7519-dc8c-4a47-8354-b5ede2737cea\" data-root-id=\"1002\"></div>\n",
       "</div>\n",
       "<script type=\"application/javascript\">(function(root) {\n",
       "  function embed_document(root) {\n",
       "    var docs_json = {\"11883af8-fb15-4fcf-8edb-b212844fe8ae\":{\"defs\":[{\"extends\":null,\"module\":null,\"name\":\"ReactiveHTML1\",\"overrides\":[],\"properties\":[]},{\"extends\":null,\"module\":null,\"name\":\"FlexBox1\",\"overrides\":[],\"properties\":[{\"default\":\"flex-start\",\"kind\":null,\"name\":\"align_content\"},{\"default\":\"flex-start\",\"kind\":null,\"name\":\"align_items\"},{\"default\":\"row\",\"kind\":null,\"name\":\"flex_direction\"},{\"default\":\"wrap\",\"kind\":null,\"name\":\"flex_wrap\"},{\"default\":\"flex-start\",\"kind\":null,\"name\":\"justify_content\"}]},{\"extends\":null,\"module\":null,\"name\":\"TemplateActions1\",\"overrides\":[],\"properties\":[{\"default\":0,\"kind\":null,\"name\":\"open_modal\"},{\"default\":0,\"kind\":null,\"name\":\"close_modal\"}]},{\"extends\":null,\"module\":null,\"name\":\"MaterialTemplateActions1\",\"overrides\":[],\"properties\":[{\"default\":0,\"kind\":null,\"name\":\"open_modal\"},{\"default\":0,\"kind\":null,\"name\":\"close_modal\"}]}],\"roots\":{\"references\":[{\"attributes\":{\"client_comm_id\":\"adf84ee5f3d941c5a4758c3e84345db5\",\"comm_id\":\"00839c715cb34a12b2de25ca606fa519\",\"plot_id\":\"1002\"},\"id\":\"1003\",\"type\":\"panel.models.comm_manager.CommManager\"},{\"attributes\":{\"reload\":false},\"id\":\"1004\",\"type\":\"panel.models.location.Location\"},{\"attributes\":{\"margin\":[5,10,5,10],\"options\":[\"Biology\",\"Chemistry\",\"Physics\"],\"title\":\"Select\",\"value\":\"Biology\"},\"id\":\"1002\",\"type\":\"Select\"}],\"root_ids\":[\"1002\",\"1003\",\"1004\"]},\"title\":\"Bokeh Application\",\"version\":\"2.4.2\"}};\n",
       "    var render_items = [{\"docid\":\"11883af8-fb15-4fcf-8edb-b212844fe8ae\",\"root_ids\":[\"1002\"],\"roots\":{\"1002\":\"293e7519-dc8c-4a47-8354-b5ede2737cea\"}}];\n",
       "    root.Bokeh.embed.embed_items_notebook(docs_json, render_items);\n",
       "  }\n",
       "  if (root.Bokeh !== undefined && root.Bokeh.Panel !== undefined) {\n",
       "    embed_document(root);\n",
       "  } else {\n",
       "    var attempts = 0;\n",
       "    var timer = setInterval(function(root) {\n",
       "      if (root.Bokeh !== undefined && root.Bokeh.Panel !== undefined) {\n",
       "        clearInterval(timer);\n",
       "        embed_document(root);\n",
       "      } else if (document.readyState == \"complete\") {\n",
       "        attempts++;\n",
       "        if (attempts > 200) {\n",
       "          clearInterval(timer);\n",
       "          console.log(\"Bokeh: ERROR: Unable to run BokehJS code because BokehJS library is missing\");\n",
       "        }\n",
       "      }\n",
       "    }, 25, root)\n",
       "  }\n",
       "})(window);</script>"
      ],
      "text/plain": [
       "Select(options=['Biology', 'Chemistry', ...], value='Biology')"
      ]
     },
     "execution_count": 2,
     "metadata": {
      "application/vnd.holoviews_exec.v0+json": {
       "id": "1002"
      }
     },
     "output_type": "execute_result"
    }
   ],
   "source": [
    "select = pn.widgets.Select(name='Select', options=['Biology', 'Chemistry', 'Physics'])\n",
    "\n",
    "select"
   ]
  },
  {
   "cell_type": "markdown",
   "metadata": {},
   "source": [
    "Like most other widgets, ``Select`` has a value parameter that can be accessed or set:"
   ]
  },
  {
   "cell_type": "code",
   "execution_count": 22,
   "metadata": {},
   "outputs": [
    {
     "data": {
      "text/plain": [
       "2"
      ]
     },
     "execution_count": 22,
     "metadata": {},
     "output_type": "execute_result"
    }
   ],
   "source": [
    "select.value"
   ]
  },
  {
   "cell_type": "markdown",
   "metadata": {},
   "source": [
    "The `options` parameter also accepts a dictionary whose keys are going to be the labels of the dropdown menu. "
   ]
  },
  {
   "cell_type": "code",
   "execution_count": 16,
   "metadata": {},
   "outputs": [
    {
     "data": {},
     "metadata": {},
     "output_type": "display_data"
    },
    {
     "data": {
      "application/vnd.holoviews_exec.v0+json": "",
      "text/html": [
       "<div id='1085'>\n",
       "\n",
       "\n",
       "\n",
       "\n",
       "\n",
       "  <div class=\"bk-root\" id=\"849928ac-c212-4171-98f0-0f304785cd33\" data-root-id=\"1085\"></div>\n",
       "</div>\n",
       "<script type=\"application/javascript\">(function(root) {\n",
       "  function embed_document(root) {\n",
       "    var docs_json = {\"6f1cd23b-4694-4211-aebf-87f14fb6acb5\":{\"defs\":[{\"extends\":null,\"module\":null,\"name\":\"ReactiveHTML1\",\"overrides\":[],\"properties\":[]},{\"extends\":null,\"module\":null,\"name\":\"FlexBox1\",\"overrides\":[],\"properties\":[{\"default\":\"flex-start\",\"kind\":null,\"name\":\"align_content\"},{\"default\":\"flex-start\",\"kind\":null,\"name\":\"align_items\"},{\"default\":\"row\",\"kind\":null,\"name\":\"flex_direction\"},{\"default\":\"wrap\",\"kind\":null,\"name\":\"flex_wrap\"},{\"default\":\"flex-start\",\"kind\":null,\"name\":\"justify_content\"}]},{\"extends\":null,\"module\":null,\"name\":\"TemplateActions1\",\"overrides\":[],\"properties\":[{\"default\":0,\"kind\":null,\"name\":\"open_modal\"},{\"default\":0,\"kind\":null,\"name\":\"close_modal\"}]},{\"extends\":null,\"module\":null,\"name\":\"MaterialTemplateActions1\",\"overrides\":[],\"properties\":[{\"default\":0,\"kind\":null,\"name\":\"open_modal\"},{\"default\":0,\"kind\":null,\"name\":\"close_modal\"}]}],\"roots\":{\"references\":[{\"attributes\":{\"client_comm_id\":\"f0e86bc806ed4ce4977001cbd9a27cc3\",\"comm_id\":\"35f4476ff46c4b1b9e08662d72f9a007\",\"plot_id\":\"1085\"},\"id\":\"1086\",\"type\":\"panel.models.comm_manager.CommManager\"},{\"attributes\":{\"margin\":[5,10,5,10],\"options\":[[\"1\",\"Biology\"],[\"2\",\"Chemistry\"]],\"title\":\"Select\",\"value\":\"1\"},\"id\":\"1085\",\"type\":\"Select\"}],\"root_ids\":[\"1085\",\"1086\"]},\"title\":\"Bokeh Application\",\"version\":\"2.4.2\"}};\n",
       "    var render_items = [{\"docid\":\"6f1cd23b-4694-4211-aebf-87f14fb6acb5\",\"root_ids\":[\"1085\"],\"roots\":{\"1085\":\"849928ac-c212-4171-98f0-0f304785cd33\"}}];\n",
       "    root.Bokeh.embed.embed_items_notebook(docs_json, render_items);\n",
       "  }\n",
       "  if (root.Bokeh !== undefined && root.Bokeh.Panel !== undefined) {\n",
       "    embed_document(root);\n",
       "  } else {\n",
       "    var attempts = 0;\n",
       "    var timer = setInterval(function(root) {\n",
       "      if (root.Bokeh !== undefined && root.Bokeh.Panel !== undefined) {\n",
       "        clearInterval(timer);\n",
       "        embed_document(root);\n",
       "      } else if (document.readyState == \"complete\") {\n",
       "        attempts++;\n",
       "        if (attempts > 200) {\n",
       "          clearInterval(timer);\n",
       "          console.log(\"Bokeh: ERROR: Unable to run BokehJS code because BokehJS library is missing\");\n",
       "        }\n",
       "      }\n",
       "    }, 25, root)\n",
       "  }\n",
       "})(window);</script>"
      ],
      "text/plain": [
       "Select(options={'Biology': 1, ...}, value=1)"
      ]
     },
     "execution_count": 16,
     "metadata": {
      "application/vnd.holoviews_exec.v0+json": {
       "id": "1085"
      }
     },
     "output_type": "execute_result"
    }
   ],
   "source": [
    "select = pn.widgets.Select(name='Select', options={'Biology': 1, 'Chemistry': 2})\n",
    "\n",
    "select"
   ]
  },
  {
   "cell_type": "code",
   "execution_count": 24,
   "metadata": {},
   "outputs": [
    {
     "data": {
      "text/plain": [
       "2"
      ]
     },
     "execution_count": 24,
     "metadata": {},
     "output_type": "execute_result"
    }
   ],
   "source": [
    "select.value"
   ]
  },
  {
   "cell_type": "markdown",
   "metadata": {},
   "source": [
    "Updating the value will display the right label."
   ]
  },
  {
   "cell_type": "code",
   "execution_count": 25,
   "metadata": {},
   "outputs": [],
   "source": [
    "select.value = 2"
   ]
  },
  {
   "cell_type": "markdown",
   "metadata": {},
   "source": [
    "A subset of the displayed items can be disabled with `disabled_options`. The widget `value` cannot be set to one of the `disabled_options`, either programmatrically or with the user interface."
   ]
  },
  {
   "cell_type": "code",
   "execution_count": 26,
   "metadata": {},
   "outputs": [
    {
     "name": "stderr",
     "output_type": "stream",
     "text": [
      "WARNING:param.Select: Setting non-parameter attribute disabled_options=['Chemistry'] using a mechanism intended only for parameters\n"
     ]
    },
    {
     "data": {},
     "metadata": {},
     "output_type": "display_data"
    },
    {
     "data": {
      "application/vnd.holoviews_exec.v0+json": "",
      "text/html": [
       "<div id='1087'>\n",
       "\n",
       "\n",
       "\n",
       "\n",
       "\n",
       "  <div class=\"bk-root\" id=\"082f5c6b-a249-41b8-99d2-08b54cc3eaf1\" data-root-id=\"1087\"></div>\n",
       "</div>\n",
       "<script type=\"application/javascript\">(function(root) {\n",
       "  function embed_document(root) {\n",
       "    var docs_json = {\"7e06651a-c00f-45ea-8a66-96340b91f583\":{\"defs\":[{\"extends\":null,\"module\":null,\"name\":\"ReactiveHTML1\",\"overrides\":[],\"properties\":[]},{\"extends\":null,\"module\":null,\"name\":\"FlexBox1\",\"overrides\":[],\"properties\":[{\"default\":\"flex-start\",\"kind\":null,\"name\":\"align_content\"},{\"default\":\"flex-start\",\"kind\":null,\"name\":\"align_items\"},{\"default\":\"row\",\"kind\":null,\"name\":\"flex_direction\"},{\"default\":\"wrap\",\"kind\":null,\"name\":\"flex_wrap\"},{\"default\":\"flex-start\",\"kind\":null,\"name\":\"justify_content\"}]},{\"extends\":null,\"module\":null,\"name\":\"TemplateActions1\",\"overrides\":[],\"properties\":[{\"default\":0,\"kind\":null,\"name\":\"open_modal\"},{\"default\":0,\"kind\":null,\"name\":\"close_modal\"}]},{\"extends\":null,\"module\":null,\"name\":\"MaterialTemplateActions1\",\"overrides\":[],\"properties\":[{\"default\":0,\"kind\":null,\"name\":\"open_modal\"},{\"default\":0,\"kind\":null,\"name\":\"close_modal\"}]}],\"roots\":{\"references\":[{\"attributes\":{\"margin\":[5,10,5,10],\"options\":[\"Biology\",\"Chemistry\",\"Physics\"],\"title\":\"Select\",\"value\":\"Biology\"},\"id\":\"1087\",\"type\":\"Select\"},{\"attributes\":{\"client_comm_id\":\"716bee609a0d413e9d86b3154e9180c3\",\"comm_id\":\"d1dc59d3a59b4a8a83e43fe6266cea6c\",\"plot_id\":\"1087\"},\"id\":\"1088\",\"type\":\"panel.models.comm_manager.CommManager\"}],\"root_ids\":[\"1087\",\"1088\"]},\"title\":\"Bokeh Application\",\"version\":\"2.4.2\"}};\n",
       "    var render_items = [{\"docid\":\"7e06651a-c00f-45ea-8a66-96340b91f583\",\"root_ids\":[\"1087\"],\"roots\":{\"1087\":\"082f5c6b-a249-41b8-99d2-08b54cc3eaf1\"}}];\n",
       "    root.Bokeh.embed.embed_items_notebook(docs_json, render_items);\n",
       "  }\n",
       "  if (root.Bokeh !== undefined && root.Bokeh.Panel !== undefined) {\n",
       "    embed_document(root);\n",
       "  } else {\n",
       "    var attempts = 0;\n",
       "    var timer = setInterval(function(root) {\n",
       "      if (root.Bokeh !== undefined && root.Bokeh.Panel !== undefined) {\n",
       "        clearInterval(timer);\n",
       "        embed_document(root);\n",
       "      } else if (document.readyState == \"complete\") {\n",
       "        attempts++;\n",
       "        if (attempts > 200) {\n",
       "          clearInterval(timer);\n",
       "          console.log(\"Bokeh: ERROR: Unable to run BokehJS code because BokehJS library is missing\");\n",
       "        }\n",
       "      }\n",
       "    }, 25, root)\n",
       "  }\n",
       "})(window);</script>"
      ],
      "text/plain": [
       "Select(options=['Biology', 'Chemistry', ...], value='Biology')"
      ]
     },
     "execution_count": 26,
     "metadata": {
      "application/vnd.holoviews_exec.v0+json": {
       "id": "1087"
      }
     },
     "output_type": "execute_result"
    }
   ],
   "source": [
    "select = pn.widgets.Select(name='Select', options=['Biology', 'Chemistry', 'Physics'], disabled_options=['Chemistry'])\n",
    "\n",
    "select"
   ]
  },
  {
   "cell_type": "markdown",
   "metadata": {},
   "source": [
    "The items displayed in the dropdown menu can be grouped visually (also known as *optgroup*) by setting the `groups` parameter **instead of** `options`. `groups` accepts a dictionary whose keys are used to group the options and whose values are defined similarly to how `options` are defined."
   ]
  },
  {
   "cell_type": "code",
   "execution_count": 8,
   "metadata": {},
   "outputs": [
    {
     "name": "stderr",
     "output_type": "stream",
     "text": [
      "WARNING:param.Select: Setting non-parameter attribute groups={'Europe': ['Greece', 'France'], 'Africa': ['Algeria', 'Congo']} using a mechanism intended only for parameters\n"
     ]
    },
    {
     "data": {},
     "metadata": {},
     "output_type": "display_data"
    },
    {
     "data": {
      "application/vnd.holoviews_exec.v0+json": "",
      "text/html": [
       "<div id='1010'>\n",
       "\n",
       "\n",
       "\n",
       "\n",
       "\n",
       "  <div class=\"bk-root\" id=\"03ab3216-5c16-4fe2-8ba3-b13574649c49\" data-root-id=\"1010\"></div>\n",
       "</div>\n",
       "<script type=\"application/javascript\">(function(root) {\n",
       "  function embed_document(root) {\n",
       "    var docs_json = {\"2a94d9d5-7f68-42a6-b2db-3853da12592e\":{\"defs\":[{\"extends\":null,\"module\":null,\"name\":\"ReactiveHTML1\",\"overrides\":[],\"properties\":[]},{\"extends\":null,\"module\":null,\"name\":\"FlexBox1\",\"overrides\":[],\"properties\":[{\"default\":\"flex-start\",\"kind\":null,\"name\":\"align_content\"},{\"default\":\"flex-start\",\"kind\":null,\"name\":\"align_items\"},{\"default\":\"row\",\"kind\":null,\"name\":\"flex_direction\"},{\"default\":\"wrap\",\"kind\":null,\"name\":\"flex_wrap\"},{\"default\":\"flex-start\",\"kind\":null,\"name\":\"justify_content\"}]},{\"extends\":null,\"module\":null,\"name\":\"TemplateActions1\",\"overrides\":[],\"properties\":[{\"default\":0,\"kind\":null,\"name\":\"open_modal\"},{\"default\":0,\"kind\":null,\"name\":\"close_modal\"}]},{\"extends\":null,\"module\":null,\"name\":\"MaterialTemplateActions1\",\"overrides\":[],\"properties\":[{\"default\":0,\"kind\":null,\"name\":\"open_modal\"},{\"default\":0,\"kind\":null,\"name\":\"close_modal\"}]}],\"roots\":{\"references\":[{\"attributes\":{\"client_comm_id\":\"2f70a9a3c6df42ce9af2c47a603fc67d\",\"comm_id\":\"c90a708713644f0bb34de96fdc557cde\",\"plot_id\":\"1010\"},\"id\":\"1011\",\"type\":\"panel.models.comm_manager.CommManager\"},{\"attributes\":{\"margin\":[5,10,5,10],\"title\":\"Select\"},\"id\":\"1010\",\"type\":\"Select\"}],\"root_ids\":[\"1010\",\"1011\"]},\"title\":\"Bokeh Application\",\"version\":\"2.4.2\"}};\n",
       "    var render_items = [{\"docid\":\"2a94d9d5-7f68-42a6-b2db-3853da12592e\",\"root_ids\":[\"1010\"],\"roots\":{\"1010\":\"03ab3216-5c16-4fe2-8ba3-b13574649c49\"}}];\n",
       "    root.Bokeh.embed.embed_items_notebook(docs_json, render_items);\n",
       "  }\n",
       "  if (root.Bokeh !== undefined && root.Bokeh.Panel !== undefined) {\n",
       "    embed_document(root);\n",
       "  } else {\n",
       "    var attempts = 0;\n",
       "    var timer = setInterval(function(root) {\n",
       "      if (root.Bokeh !== undefined && root.Bokeh.Panel !== undefined) {\n",
       "        clearInterval(timer);\n",
       "        embed_document(root);\n",
       "      } else if (document.readyState == \"complete\") {\n",
       "        attempts++;\n",
       "        if (attempts > 200) {\n",
       "          clearInterval(timer);\n",
       "          console.log(\"Bokeh: ERROR: Unable to run BokehJS code because BokehJS library is missing\");\n",
       "        }\n",
       "      }\n",
       "    }, 25, root)\n",
       "  }\n",
       "})(window);</script>"
      ],
      "text/plain": [
       "Select()"
      ]
     },
     "execution_count": 8,
     "metadata": {
      "application/vnd.holoviews_exec.v0+json": {
       "id": "1010"
      }
     },
     "output_type": "execute_result"
    }
   ],
   "source": [
    "select = pn.widgets.Select(name='Select', groups={'Europe': ['Greece', 'France'], 'Africa': ['Algeria', 'Congo']})\n",
    "\n",
    "select"
   ]
  },
  {
   "cell_type": "code",
   "execution_count": 9,
   "metadata": {},
   "outputs": [],
   "source": [
    "select.value"
   ]
  },
  {
   "cell_type": "markdown",
   "metadata": {},
   "source": [
    "Instead of a dropdown menu we can also select one option from a list by rendering multiple options at once using the `size` parameter:"
   ]
  },
  {
   "cell_type": "code",
   "execution_count": 10,
   "metadata": {},
   "outputs": [
    {
     "data": {},
     "metadata": {},
     "output_type": "display_data"
    },
    {
     "data": {
      "application/vnd.holoviews_exec.v0+json": "",
      "text/html": [
       "<div id='1012'>\n",
       "\n",
       "\n",
       "\n",
       "\n",
       "\n",
       "  <div class=\"bk-root\" id=\"aa7b2af4-cfac-4e97-83f3-fb2ef1f9f5b1\" data-root-id=\"1012\"></div>\n",
       "</div>\n",
       "<script type=\"application/javascript\">(function(root) {\n",
       "  function embed_document(root) {\n",
       "    var docs_json = {\"4a35bf91-2de8-4f5c-a0b3-d78bc0393a44\":{\"defs\":[{\"extends\":null,\"module\":null,\"name\":\"ReactiveHTML1\",\"overrides\":[],\"properties\":[]},{\"extends\":null,\"module\":null,\"name\":\"FlexBox1\",\"overrides\":[],\"properties\":[{\"default\":\"flex-start\",\"kind\":null,\"name\":\"align_content\"},{\"default\":\"flex-start\",\"kind\":null,\"name\":\"align_items\"},{\"default\":\"row\",\"kind\":null,\"name\":\"flex_direction\"},{\"default\":\"wrap\",\"kind\":null,\"name\":\"flex_wrap\"},{\"default\":\"flex-start\",\"kind\":null,\"name\":\"justify_content\"}]},{\"extends\":null,\"module\":null,\"name\":\"TemplateActions1\",\"overrides\":[],\"properties\":[{\"default\":0,\"kind\":null,\"name\":\"open_modal\"},{\"default\":0,\"kind\":null,\"name\":\"close_modal\"}]},{\"extends\":null,\"module\":null,\"name\":\"MaterialTemplateActions1\",\"overrides\":[],\"properties\":[{\"default\":0,\"kind\":null,\"name\":\"open_modal\"},{\"default\":0,\"kind\":null,\"name\":\"close_modal\"}]}],\"roots\":{\"references\":[{\"attributes\":{\"margin\":[5,10,5,10],\"options\":[\"Biology\",\"Chemistry\",\"Physics\"],\"size\":2,\"title\":\"Select\",\"value\":\"Biology\"},\"id\":\"1012\",\"type\":\"panel.models.widgets.SingleSelect\"},{\"attributes\":{\"client_comm_id\":\"73f0b657f4d54ac9801d17801356caff\",\"comm_id\":\"5044b1efbd534a028731d9480cad5727\",\"plot_id\":\"1012\"},\"id\":\"1013\",\"type\":\"panel.models.comm_manager.CommManager\"}],\"root_ids\":[\"1012\",\"1013\"]},\"title\":\"Bokeh Application\",\"version\":\"2.4.2\"}};\n",
       "    var render_items = [{\"docid\":\"4a35bf91-2de8-4f5c-a0b3-d78bc0393a44\",\"root_ids\":[\"1012\"],\"roots\":{\"1012\":\"aa7b2af4-cfac-4e97-83f3-fb2ef1f9f5b1\"}}];\n",
       "    root.Bokeh.embed.embed_items_notebook(docs_json, render_items);\n",
       "  }\n",
       "  if (root.Bokeh !== undefined && root.Bokeh.Panel !== undefined) {\n",
       "    embed_document(root);\n",
       "  } else {\n",
       "    var attempts = 0;\n",
       "    var timer = setInterval(function(root) {\n",
       "      if (root.Bokeh !== undefined && root.Bokeh.Panel !== undefined) {\n",
       "        clearInterval(timer);\n",
       "        embed_document(root);\n",
       "      } else if (document.readyState == \"complete\") {\n",
       "        attempts++;\n",
       "        if (attempts > 200) {\n",
       "          clearInterval(timer);\n",
       "          console.log(\"Bokeh: ERROR: Unable to run BokehJS code because BokehJS library is missing\");\n",
       "        }\n",
       "      }\n",
       "    }, 25, root)\n",
       "  }\n",
       "})(window);</script>"
      ],
      "text/plain": [
       "Select(options=['Biology', 'Chemistry', ...], size=2, value='Biology')"
      ]
     },
     "execution_count": 10,
     "metadata": {
      "application/vnd.holoviews_exec.v0+json": {
       "id": "1012"
      }
     },
     "output_type": "execute_result"
    }
   ],
   "source": [
    "select_area = pn.widgets.Select(name='Select', options=['Biology', 'Chemistry', 'Physics'], size=2)\n",
    "\n",
    "select_area"
   ]
  },
  {
   "cell_type": "markdown",
   "metadata": {},
   "source": [
    "When `size` is set to a value greater than 1 the widget supports the `disabled_options` parameter but does not support `groups`."
   ]
  },
  {
   "cell_type": "code",
   "execution_count": 29,
   "metadata": {},
   "outputs": [
    {
     "name": "stderr",
     "output_type": "stream",
     "text": [
      "WARNING:param.Select: Setting non-parameter attribute disabled_options=['Chemistry'] using a mechanism intended only for parameters\n"
     ]
    },
    {
     "data": {},
     "metadata": {},
     "output_type": "display_data"
    },
    {
     "data": {
      "application/vnd.holoviews_exec.v0+json": "",
      "text/html": [
       "<div id='1172'>\n",
       "\n",
       "\n",
       "\n",
       "\n",
       "\n",
       "  <div class=\"bk-root\" id=\"eb6354df-3e3a-40af-a541-b809670eb5db\" data-root-id=\"1172\"></div>\n",
       "</div>\n",
       "<script type=\"application/javascript\">(function(root) {\n",
       "  function embed_document(root) {\n",
       "    var docs_json = {\"593ce3aa-cb1a-4bbd-8a0d-0d369ffb8716\":{\"defs\":[{\"extends\":null,\"module\":null,\"name\":\"ReactiveHTML1\",\"overrides\":[],\"properties\":[]},{\"extends\":null,\"module\":null,\"name\":\"FlexBox1\",\"overrides\":[],\"properties\":[{\"default\":\"flex-start\",\"kind\":null,\"name\":\"align_content\"},{\"default\":\"flex-start\",\"kind\":null,\"name\":\"align_items\"},{\"default\":\"row\",\"kind\":null,\"name\":\"flex_direction\"},{\"default\":\"wrap\",\"kind\":null,\"name\":\"flex_wrap\"},{\"default\":\"flex-start\",\"kind\":null,\"name\":\"justify_content\"}]},{\"extends\":null,\"module\":null,\"name\":\"TemplateActions1\",\"overrides\":[],\"properties\":[{\"default\":0,\"kind\":null,\"name\":\"open_modal\"},{\"default\":0,\"kind\":null,\"name\":\"close_modal\"}]},{\"extends\":null,\"module\":null,\"name\":\"MaterialTemplateActions1\",\"overrides\":[],\"properties\":[{\"default\":0,\"kind\":null,\"name\":\"open_modal\"},{\"default\":0,\"kind\":null,\"name\":\"close_modal\"}]}],\"roots\":{\"references\":[{\"attributes\":{\"margin\":[5,10,5,10],\"options\":[\"Biology\",\"Chemistry\",\"Physics\"],\"size\":2,\"title\":\"Select\",\"value\":\"Biology\"},\"id\":\"1172\",\"type\":\"panel.models.widgets.SingleSelect\"},{\"attributes\":{\"client_comm_id\":\"47ce4eeb86ea4bdf87b4b3e0e1a72849\",\"comm_id\":\"f4b792930cb74daeae0122fabeda58ce\",\"plot_id\":\"1172\"},\"id\":\"1173\",\"type\":\"panel.models.comm_manager.CommManager\"}],\"root_ids\":[\"1172\",\"1173\"]},\"title\":\"Bokeh Application\",\"version\":\"2.4.2\"}};\n",
       "    var render_items = [{\"docid\":\"593ce3aa-cb1a-4bbd-8a0d-0d369ffb8716\",\"root_ids\":[\"1172\"],\"roots\":{\"1172\":\"eb6354df-3e3a-40af-a541-b809670eb5db\"}}];\n",
       "    root.Bokeh.embed.embed_items_notebook(docs_json, render_items);\n",
       "  }\n",
       "  if (root.Bokeh !== undefined && root.Bokeh.Panel !== undefined) {\n",
       "    embed_document(root);\n",
       "  } else {\n",
       "    var attempts = 0;\n",
       "    var timer = setInterval(function(root) {\n",
       "      if (root.Bokeh !== undefined && root.Bokeh.Panel !== undefined) {\n",
       "        clearInterval(timer);\n",
       "        embed_document(root);\n",
       "      } else if (document.readyState == \"complete\") {\n",
       "        attempts++;\n",
       "        if (attempts > 200) {\n",
       "          clearInterval(timer);\n",
       "          console.log(\"Bokeh: ERROR: Unable to run BokehJS code because BokehJS library is missing\");\n",
       "        }\n",
       "      }\n",
       "    }, 25, root)\n",
       "  }\n",
       "})(window);</script>"
      ],
      "text/plain": [
       "Select(options=['Biology', 'Chemistry', ...], size=2, value='Biology')"
      ]
     },
     "execution_count": 29,
     "metadata": {
      "application/vnd.holoviews_exec.v0+json": {
       "id": "1172"
      }
     },
     "output_type": "execute_result"
    }
   ],
   "source": [
    "pn.widgets.Select(name='Select', options=['Biology', 'Chemistry', 'Physics'], size=2, disabled_options=['Chemistry'])"
   ]
  },
  {
   "cell_type": "markdown",
   "metadata": {},
   "source": [
    "### Controls\n",
    "\n",
    "The `Select` widget exposes a number of options which can be changed from both Python and Javascript. Try out the effect of these parameters interactively:"
   ]
  },
  {
   "cell_type": "code",
   "execution_count": 28,
   "metadata": {},
   "outputs": [
    {
     "data": {},
     "metadata": {},
     "output_type": "display_data"
    },
    {
     "data": {
      "application/vnd.holoviews_exec.v0+json": "",
      "text/html": [
       "<div id='1091'>\n",
       "\n",
       "\n",
       "\n",
       "\n",
       "\n",
       "  <div class=\"bk-root\" id=\"fcbe0a3a-015e-407d-b726-a11e753477ab\" data-root-id=\"1091\"></div>\n",
       "</div>\n",
       "<script type=\"application/javascript\">(function(root) {\n",
       "  function embed_document(root) {\n",
       "    var docs_json = {\"14129a26-8591-4f78-a0e5-dd2e66b19396\":{\"defs\":[{\"extends\":null,\"module\":null,\"name\":\"ReactiveHTML1\",\"overrides\":[],\"properties\":[]},{\"extends\":null,\"module\":null,\"name\":\"FlexBox1\",\"overrides\":[],\"properties\":[{\"default\":\"flex-start\",\"kind\":null,\"name\":\"align_content\"},{\"default\":\"flex-start\",\"kind\":null,\"name\":\"align_items\"},{\"default\":\"row\",\"kind\":null,\"name\":\"flex_direction\"},{\"default\":\"wrap\",\"kind\":null,\"name\":\"flex_wrap\"},{\"default\":\"flex-start\",\"kind\":null,\"name\":\"justify_content\"}]},{\"extends\":null,\"module\":null,\"name\":\"TemplateActions1\",\"overrides\":[],\"properties\":[{\"default\":0,\"kind\":null,\"name\":\"open_modal\"},{\"default\":0,\"kind\":null,\"name\":\"close_modal\"}]},{\"extends\":null,\"module\":null,\"name\":\"MaterialTemplateActions1\",\"overrides\":[],\"properties\":[{\"default\":0,\"kind\":null,\"name\":\"open_modal\"},{\"default\":0,\"kind\":null,\"name\":\"close_modal\"}]}],\"roots\":{\"references\":[{\"attributes\":{\"js_property_callbacks\":{\"change:value\":[{\"id\":\"1126\"}]},\"margin\":[5,10,5,10],\"max_length\":5000,\"title\":\"Name\",\"value\":\"Select\"},\"id\":\"1101\",\"type\":\"TextInput\"},{\"attributes\":{\"args\":{\"bidirectional\":true,\"properties\":{\"value\":\"disabled\"},\"source\":{\"id\":\"1095\"},\"target\":{\"id\":\"1119\"}},\"code\":\"\\n    var value = source['active'];\\n    value = value.indexOf(0) >= 0;\\n    value = value;\\n    try {\\n      var property = target.properties['disabled'];\\n      if (property !== undefined) { property.validate(value); }\\n    } catch(err) {\\n      console.log('WARNING: Could not set disabled on target, raised error: ' + err);\\n      return;\\n    }\\n    try {\\n      target['disabled'] = value;\\n    } catch(err) {\\n      console.log(err)\\n    }\\n    \",\"tags\":[140288375627344]},\"id\":\"1120\",\"type\":\"CustomJS\"},{\"attributes\":{\"args\":{\"bidirectional\":true,\"properties\":{\"value\":\"max_height\"},\"source\":{\"id\":\"1111\"},\"target\":{\"id\":\"1119\"}},\"code\":\"\\n    var value = source['value'];\\n    value = value;\\n    value = value;\\n    try {\\n      var property = target.properties['max_height'];\\n      if (property !== undefined) { property.validate(value); }\\n    } catch(err) {\\n      console.log('WARNING: Could not set max_height on target, raised error: ' + err);\\n      return;\\n    }\\n    try {\\n      target['max_height'] = value;\\n    } catch(err) {\\n      console.log(err)\\n    }\\n    \",\"tags\":[140288375625680]},\"id\":\"1146\",\"type\":\"CustomJS\"},{\"attributes\":{\"args\":{\"bidirectional\":true,\"properties\":{\"value\":\"align\"},\"source\":{\"id\":\"1102\"},\"target\":{\"id\":\"1119\"}},\"code\":\"\\n    var value = source['value'];\\n    value = JSON.parse(value.replace(/'/g, '\\\"'));\\n    value = value;\\n    try {\\n      var property = target.properties['align'];\\n      if (property !== undefined) { property.validate(value); }\\n    } catch(err) {\\n      console.log('WARNING: Could not set align on target, raised error: ' + err);\\n      return;\\n    }\\n    try {\\n      target['align'] = value;\\n    } catch(err) {\\n      console.log(err)\\n    }\\n    \",\"tags\":[140288376269968]},\"id\":\"1128\",\"type\":\"CustomJS\"},{\"attributes\":{\"args\":{\"bidirectional\":true,\"properties\":{\"value\":\"margin\"},\"source\":{\"id\":\"1112\"},\"target\":{\"id\":\"1119\"}},\"code\":\"\\n    var value = source['value'];\\n    value = JSON.parse(value.replace(/'/g, '\\\"'));\\n    value = value;\\n    try {\\n      var property = target.properties['margin'];\\n      if (property !== undefined) { property.validate(value); }\\n    } catch(err) {\\n      console.log('WARNING: Could not set margin on target, raised error: ' + err);\\n      return;\\n    }\\n    try {\\n      target['margin'] = value;\\n    } catch(err) {\\n      console.log(err)\\n    }\\n    \",\"tags\":[140288375625808]},\"id\":\"1148\",\"type\":\"CustomJS\"},{\"attributes\":{\"args\":{\"bidirectional\":true,\"properties\":{\"value\":\"align\"},\"source\":{\"id\":\"1119\"},\"target\":{\"id\":\"1102\"}},\"code\":\"\\n    var value = source['align'];\\n    value = value;\\n    value = JSON.stringify(value).replace(/,/g, \\\",\\\").replace(/:/g, \\\": \\\");\\n    try {\\n      var property = target.properties['value'];\\n      if (property !== undefined) { property.validate(value); }\\n    } catch(err) {\\n      console.log('WARNING: Could not set value on target, raised error: ' + err);\\n      return;\\n    }\\n    try {\\n      target['value'] = value;\\n    } catch(err) {\\n      console.log(err)\\n    }\\n    \",\"tags\":[140288376269968]},\"id\":\"1129\",\"type\":\"CustomJS\"},{\"attributes\":{\"js_property_callbacks\":{\"change:value\":[{\"id\":\"1128\"}]},\"margin\":[5,10,5,10],\"title\":\"Align\",\"value\":\"'start'\"},\"id\":\"1102\",\"type\":\"TextInput\"},{\"attributes\":{\"js_property_callbacks\":{\"change:value\":[{\"id\":\"1130\"}]},\"margin\":[5,10,5,10],\"title\":\"Aspect ratio\"},\"id\":\"1103\",\"type\":\"TextInput\"},{\"attributes\":{\"js_property_callbacks\":{\"change:value\":[{\"id\":\"1136\"}]},\"low\":0,\"margin\":[5,10,5,10],\"mode\":\"int\",\"placeholder\":\"0\",\"title\":\"Width\",\"value\":0,\"value_throttled\":0},\"id\":\"1106\",\"type\":\"Spinner\"},{\"attributes\":{\"args\":{\"bidirectional\":true,\"properties\":{\"value\":\"name\"},\"source\":{\"id\":\"1119\"},\"target\":{\"id\":\"1101\"}},\"code\":\"\\n    var value = source['title'];\\n    value = value;\\n    value = value;\\n    try {\\n      var property = target.properties['value'];\\n      if (property !== undefined) { property.validate(value); }\\n    } catch(err) {\\n      console.log('WARNING: Could not set value on target, raised error: ' + err);\\n      return;\\n    }\\n    try {\\n      target['value'] = value;\\n    } catch(err) {\\n      console.log(err)\\n    }\\n    \",\"tags\":[140288375626896]},\"id\":\"1127\",\"type\":\"CustomJS\"},{\"attributes\":{\"args\":{\"bidirectional\":true,\"properties\":{\"value\":\"margin\"},\"source\":{\"id\":\"1119\"},\"target\":{\"id\":\"1112\"}},\"code\":\"\\n    var value = source['margin'];\\n    value = value;\\n    value = JSON.stringify(value).replace(/,/g, \\\",\\\").replace(/:/g, \\\": \\\");\\n    try {\\n      var property = target.properties['value'];\\n      if (property !== undefined) { property.validate(value); }\\n    } catch(err) {\\n      console.log('WARNING: Could not set value on target, raised error: ' + err);\\n      return;\\n    }\\n    try {\\n      target['value'] = value;\\n    } catch(err) {\\n      console.log(err)\\n    }\\n    \",\"tags\":[140288375625808]},\"id\":\"1149\",\"type\":\"CustomJS\"},{\"attributes\":{\"args\":{\"bidirectional\":true,\"properties\":{\"value\":\"width_policy\"},\"source\":{\"id\":\"1119\"},\"target\":{\"id\":\"1113\"}},\"code\":\"\\n    var value = source['width_policy'];\\n    value = value;\\n    value = value;\\n    try {\\n      var property = target.properties['value'];\\n      if (property !== undefined) { property.validate(value); }\\n    } catch(err) {\\n      console.log('WARNING: Could not set value on target, raised error: ' + err);\\n      return;\\n    }\\n    try {\\n      target['value'] = value;\\n    } catch(err) {\\n      console.log(err)\\n    }\\n    \",\"tags\":[140288376337104]},\"id\":\"1151\",\"type\":\"CustomJS\"},{\"attributes\":{\"js_property_callbacks\":{\"change:value\":[{\"id\":\"1132\"}]},\"margin\":[5,10,5,10],\"title\":\"Background\"},\"id\":\"1104\",\"type\":\"TextInput\"},{\"attributes\":{\"js_property_callbacks\":{\"change:value\":[{\"id\":\"1134\"}]},\"margin\":[5,10,5,10],\"title\":\"Css classes\"},\"id\":\"1105\",\"type\":\"TextInput\"},{\"attributes\":{\"client_comm_id\":\"c9cd7fd6ddb54e589b079c6118ffbea2\",\"comm_id\":\"62a692b5ec8347f79bd647982a8f16d8\",\"plot_id\":\"1091\"},\"id\":\"1159\",\"type\":\"panel.models.comm_manager.CommManager\"},{\"attributes\":{\"args\":{\"bidirectional\":true,\"properties\":{\"value\":\"height_policy\"},\"source\":{\"id\":\"1119\"},\"target\":{\"id\":\"1114\"}},\"code\":\"\\n    var value = source['height_policy'];\\n    value = value;\\n    value = value;\\n    try {\\n      var property = target.properties['value'];\\n      if (property !== undefined) { property.validate(value); }\\n    } catch(err) {\\n      console.log('WARNING: Could not set value on target, raised error: ' + err);\\n      return;\\n    }\\n    try {\\n      target['value'] = value;\\n    } catch(err) {\\n      console.log(err)\\n    }\\n    \",\"tags\":[140288376337488]},\"id\":\"1153\",\"type\":\"CustomJS\"},{\"attributes\":{\"js_property_callbacks\":{\"change:value\":[{\"id\":\"1142\"}]},\"low\":0,\"margin\":[5,10,5,10],\"mode\":\"int\",\"placeholder\":\"0\",\"title\":\"Min height\",\"value\":0,\"value_throttled\":0},\"id\":\"1109\",\"type\":\"Spinner\"},{\"attributes\":{\"args\":{\"bidirectional\":true,\"properties\":{\"value\":\"aspect_ratio\"},\"source\":{\"id\":\"1103\"},\"target\":{\"id\":\"1119\"}},\"code\":\"\\n    var value = source['value'];\\n    value = JSON.parse(value.replace(/'/g, '\\\"'));\\n    value = value;\\n    try {\\n      var property = target.properties['aspect_ratio'];\\n      if (property !== undefined) { property.validate(value); }\\n    } catch(err) {\\n      console.log('WARNING: Could not set aspect_ratio on target, raised error: ' + err);\\n      return;\\n    }\\n    try {\\n      target['aspect_ratio'] = value;\\n    } catch(err) {\\n      console.log(err)\\n    }\\n    \",\"tags\":[140288376270352]},\"id\":\"1130\",\"type\":\"CustomJS\"},{\"attributes\":{\"args\":{\"bidirectional\":true,\"properties\":{\"value\":\"aspect_ratio\"},\"source\":{\"id\":\"1119\"},\"target\":{\"id\":\"1103\"}},\"code\":\"\\n    var value = source['aspect_ratio'];\\n    value = value;\\n    value = JSON.stringify(value).replace(/,/g, \\\",\\\").replace(/:/g, \\\": \\\");\\n    try {\\n      var property = target.properties['value'];\\n      if (property !== undefined) { property.validate(value); }\\n    } catch(err) {\\n      console.log('WARNING: Could not set value on target, raised error: ' + err);\\n      return;\\n    }\\n    try {\\n      target['value'] = value;\\n    } catch(err) {\\n      console.log(err)\\n    }\\n    \",\"tags\":[140288376270352]},\"id\":\"1131\",\"type\":\"CustomJS\"},{\"attributes\":{\"js_property_callbacks\":{\"change:value\":[{\"id\":\"1144\"}]},\"low\":0,\"margin\":[5,10,5,10],\"mode\":\"int\",\"placeholder\":\"0\",\"title\":\"Max width\",\"value\":0,\"value_throttled\":0},\"id\":\"1110\",\"type\":\"Spinner\"},{\"attributes\":{\"args\":{\"bidirectional\":true,\"properties\":{\"value\":\"max_width\"},\"source\":{\"id\":\"1119\"},\"target\":{\"id\":\"1110\"}},\"code\":\"\\n    var value = source['max_width'];\\n    value = value;\\n    value = value;\\n    try {\\n      var property = target.properties['value'];\\n      if (property !== undefined) { property.validate(value); }\\n    } catch(err) {\\n      console.log('WARNING: Could not set value on target, raised error: ' + err);\\n      return;\\n    }\\n    try {\\n      target['value'] = value;\\n    } catch(err) {\\n      console.log(err)\\n    }\\n    \",\"tags\":[140288375577808]},\"id\":\"1145\",\"type\":\"CustomJS\"},{\"attributes\":{\"js_property_callbacks\":{\"change:value\":[{\"id\":\"1140\"}]},\"low\":0,\"margin\":[5,10,5,10],\"mode\":\"int\",\"placeholder\":\"0\",\"title\":\"Min width\",\"value\":0,\"value_throttled\":0},\"id\":\"1108\",\"type\":\"Spinner\"},{\"attributes\":{\"args\":{\"bidirectional\":true,\"properties\":{\"value\":\"height_policy\"},\"source\":{\"id\":\"1114\"},\"target\":{\"id\":\"1119\"}},\"code\":\"\\n    var value = source['value'];\\n    value = value;\\n    value = value;\\n    try {\\n      var property = target.properties['height_policy'];\\n      if (property !== undefined) { property.validate(value); }\\n    } catch(err) {\\n      console.log('WARNING: Could not set height_policy on target, raised error: ' + err);\\n      return;\\n    }\\n    try {\\n      target['height_policy'] = value;\\n    } catch(err) {\\n      console.log(err)\\n    }\\n    \",\"tags\":[140288376337488]},\"id\":\"1152\",\"type\":\"CustomJS\"},{\"attributes\":{\"js_property_callbacks\":{\"change:value\":[{\"id\":\"1150\"}]},\"margin\":[5,10,5,10],\"options\":[[\"auto\",\"auto\"],[\"fixed\",\"fixed\"],[\"fit\",\"fit\"],[\"min\",\"min\"],[\"max\",\"max\"]],\"title\":\"Width policy\",\"value\":\"auto\"},\"id\":\"1113\",\"type\":\"Select\"},{\"attributes\":{\"args\":{\"bidirectional\":true,\"properties\":{\"value\":\"sizing_mode\"},\"source\":{\"id\":\"1119\"},\"target\":{\"id\":\"1115\"}},\"code\":\"\\n    var value = source['sizing_mode'];\\n    value = value;\\n    value = value;\\n    try {\\n      var property = target.properties['value'];\\n      if (property !== undefined) { property.validate(value); }\\n    } catch(err) {\\n      console.log('WARNING: Could not set value on target, raised error: ' + err);\\n      return;\\n    }\\n    try {\\n      target['value'] = value;\\n    } catch(err) {\\n      console.log(err)\\n    }\\n    \",\"tags\":[140288376337424]},\"id\":\"1155\",\"type\":\"CustomJS\"},{\"attributes\":{\"args\":{\"bidirectional\":true,\"properties\":{\"value\":\"background\"},\"source\":{\"id\":\"1104\"},\"target\":{\"id\":\"1119\"}},\"code\":\"\\n    var value = source['value'];\\n    value = JSON.parse(value.replace(/'/g, '\\\"'));\\n    value = value;\\n    try {\\n      var property = target.properties['background'];\\n      if (property !== undefined) { property.validate(value); }\\n    } catch(err) {\\n      console.log('WARNING: Could not set background on target, raised error: ' + err);\\n      return;\\n    }\\n    try {\\n      target['background'] = value;\\n    } catch(err) {\\n      console.log(err)\\n    }\\n    \",\"tags\":[140288376270800]},\"id\":\"1132\",\"type\":\"CustomJS\"},{\"attributes\":{\"args\":{\"bidirectional\":true,\"properties\":{\"value\":\"background\"},\"source\":{\"id\":\"1119\"},\"target\":{\"id\":\"1104\"}},\"code\":\"\\n    var value = source['background'];\\n    value = value;\\n    value = JSON.stringify(value).replace(/,/g, \\\",\\\").replace(/:/g, \\\": \\\");\\n    try {\\n      var property = target.properties['value'];\\n      if (property !== undefined) { property.validate(value); }\\n    } catch(err) {\\n      console.log('WARNING: Could not set value on target, raised error: ' + err);\\n      return;\\n    }\\n    try {\\n      target['value'] = value;\\n    } catch(err) {\\n      console.log(err)\\n    }\\n    \",\"tags\":[140288376270800]},\"id\":\"1133\",\"type\":\"CustomJS\"},{\"attributes\":{\"js_property_callbacks\":{\"change:value\":[{\"id\":\"1148\"}]},\"margin\":[5,10,5,10],\"title\":\"Margin\",\"value\":\"[5, 10]\"},\"id\":\"1112\",\"type\":\"TextInput\"},{\"attributes\":{\"js_property_callbacks\":{\"change:align\":[{\"id\":\"1129\"}],\"change:aspect_ratio\":[{\"id\":\"1131\"}],\"change:background\":[{\"id\":\"1133\"}],\"change:css_classes\":[{\"id\":\"1135\"}],\"change:disabled\":[{\"id\":\"1121\"}],\"change:height\":[{\"id\":\"1139\"}],\"change:height_policy\":[{\"id\":\"1153\"}],\"change:margin\":[{\"id\":\"1149\"}],\"change:max_height\":[{\"id\":\"1147\"}],\"change:max_width\":[{\"id\":\"1145\"}],\"change:min_height\":[{\"id\":\"1143\"}],\"change:min_width\":[{\"id\":\"1141\"}],\"change:options\":[{\"id\":\"1123\"}],\"change:sizing_mode\":[{\"id\":\"1155\"}],\"change:title\":[{\"id\":\"1127\"}],\"change:value\":[{\"id\":\"1125\"}],\"change:visible\":[{\"id\":\"1157\"}],\"change:width\":[{\"id\":\"1137\"}],\"change:width_policy\":[{\"id\":\"1151\"}]},\"margin\":[5,10,5,10],\"options\":[\"Biology\",\"Chemistry\",\"Physics\"],\"title\":\"Select\",\"value\":\"Chemistry\"},\"id\":\"1119\",\"type\":\"Select\"},{\"attributes\":{\"js_property_callbacks\":{\"change:value\":[{\"id\":\"1146\"}]},\"low\":0,\"margin\":[5,10,5,10],\"mode\":\"int\",\"placeholder\":\"0\",\"title\":\"Max height\",\"value\":0,\"value_throttled\":0},\"id\":\"1111\",\"type\":\"Spinner\"},{\"attributes\":{\"args\":{\"bidirectional\":true,\"properties\":{\"value\":\"sizing_mode\"},\"source\":{\"id\":\"1115\"},\"target\":{\"id\":\"1119\"}},\"code\":\"\\n    var value = source['value'];\\n    value = value;\\n    value = value;\\n    try {\\n      var property = target.properties['sizing_mode'];\\n      if (property !== undefined) { property.validate(value); }\\n    } catch(err) {\\n      console.log('WARNING: Could not set sizing_mode on target, raised error: ' + err);\\n      return;\\n    }\\n    try {\\n      target['sizing_mode'] = value;\\n    } catch(err) {\\n      console.log(err)\\n    }\\n    \",\"tags\":[140288376337424]},\"id\":\"1154\",\"type\":\"CustomJS\"},{\"attributes\":{\"args\":{\"bidirectional\":true,\"properties\":{\"value\":\"css_classes\"},\"source\":{\"id\":\"1105\"},\"target\":{\"id\":\"1119\"}},\"code\":\"\\n    var value = source['value'];\\n    value = JSON.parse(value.replace(/'/g, '\\\"'));\\n    value = value;\\n    try {\\n      var property = target.properties['css_classes'];\\n      if (property !== undefined) { property.validate(value); }\\n    } catch(err) {\\n      console.log('WARNING: Could not set css_classes on target, raised error: ' + err);\\n      return;\\n    }\\n    try {\\n      target['css_classes'] = value;\\n    } catch(err) {\\n      console.log(err)\\n    }\\n    \",\"tags\":[140288376270608]},\"id\":\"1134\",\"type\":\"CustomJS\"},{\"attributes\":{\"args\":{\"bidirectional\":true,\"properties\":{\"value\":\"css_classes\"},\"source\":{\"id\":\"1119\"},\"target\":{\"id\":\"1105\"}},\"code\":\"\\n    var value = source['css_classes'];\\n    value = value;\\n    value = JSON.stringify(value).replace(/,/g, \\\",\\\").replace(/:/g, \\\": \\\");\\n    try {\\n      var property = target.properties['value'];\\n      if (property !== undefined) { property.validate(value); }\\n    } catch(err) {\\n      console.log('WARNING: Could not set value on target, raised error: ' + err);\\n      return;\\n    }\\n    try {\\n      target['value'] = value;\\n    } catch(err) {\\n      console.log(err)\\n    }\\n    \",\"tags\":[140288376270608]},\"id\":\"1135\",\"type\":\"CustomJS\"},{\"attributes\":{\"args\":{\"bidirectional\":true,\"properties\":{\"value\":\"visible\"},\"source\":{\"id\":\"1116\"},\"target\":{\"id\":\"1119\"}},\"code\":\"\\n    var value = source['active'];\\n    value = value.indexOf(0) >= 0;\\n    value = value;\\n    try {\\n      var property = target.properties['visible'];\\n      if (property !== undefined) { property.validate(value); }\\n    } catch(err) {\\n      console.log('WARNING: Could not set visible on target, raised error: ' + err);\\n      return;\\n    }\\n    try {\\n      target['visible'] = value;\\n    } catch(err) {\\n      console.log(err)\\n    }\\n    \",\"tags\":[140288376337552]},\"id\":\"1156\",\"type\":\"CustomJS\"},{\"attributes\":{\"js_property_callbacks\":{\"change:value\":[{\"id\":\"1152\"}]},\"margin\":[5,10,5,10],\"options\":[[\"auto\",\"auto\"],[\"fixed\",\"fixed\"],[\"fit\",\"fit\"],[\"min\",\"min\"],[\"max\",\"max\"]],\"title\":\"Height policy\",\"value\":\"auto\"},\"id\":\"1114\",\"type\":\"Select\"},{\"attributes\":{\"children\":[{\"id\":\"1092\"},{\"id\":\"1119\"}],\"margin\":[0,0,0,0],\"name\":\"Row00274\"},\"id\":\"1091\",\"type\":\"Row\"},{\"attributes\":{\"js_property_callbacks\":{\"change:value\":[{\"id\":\"1138\"}]},\"low\":0,\"margin\":[5,10,5,10],\"mode\":\"int\",\"placeholder\":\"0\",\"title\":\"Height\",\"value\":0,\"value_throttled\":0},\"id\":\"1107\",\"type\":\"Spinner\"},{\"attributes\":{\"js_property_callbacks\":{\"change:active\":[{\"id\":\"1158\"}]},\"labels\":[\"Loading\"],\"margin\":[5,10,5,10]},\"id\":\"1117\",\"type\":\"CheckboxGroup\"},{\"attributes\":{\"args\":{\"bidirectional\":false,\"properties\":{\"value\":\"loading\"},\"source\":{\"id\":\"1117\"},\"target\":{\"id\":\"1119\"}},\"code\":\"\\n    if ('active'.startsWith('event:')) {\\n      var value = true\\n    } else {\\n      var value = source['active'];\\n      value = value.indexOf(0) >= 0;\\n    }\\n    if (typeof value !== 'boolean' || source.labels !== ['Loading']) {\\n      value = true\\n    }\\n    var css_classes = target.css_classes.slice()\\n    var loading_css = ['pn-loading', 'arcs']\\n    if (value) {\\n      for (var css of loading_css) {\\n        if (!(css in css_classes)) {\\n          css_classes.push(css)\\n        }\\n      }\\n    } else {\\n     for (var css of loading_css) {\\n        var index = css_classes.indexOf(css)\\n        if (index > -1) {\\n          css_classes.splice(index, 1)\\n        }\\n      }\\n    }\\n    target['css_classes'] = css_classes\\n    \",\"tags\":[140288376337680]},\"id\":\"1158\",\"type\":\"CustomJS\"},{\"attributes\":{\"child\":{\"id\":\"1099\"},\"name\":\"Layout\",\"title\":\"Layout\"},\"id\":\"1118\",\"type\":\"Panel\"},{\"attributes\":{\"args\":{\"bidirectional\":true,\"properties\":{\"value\":\"height\"},\"source\":{\"id\":\"1107\"},\"target\":{\"id\":\"1119\"}},\"code\":\"\\n    var value = source['value'];\\n    value = value;\\n    value = value;\\n    try {\\n      var property = target.properties['height'];\\n      if (property !== undefined) { property.validate(value); }\\n    } catch(err) {\\n      console.log('WARNING: Could not set height on target, raised error: ' + err);\\n      return;\\n    }\\n    try {\\n      target['height'] = value;\\n    } catch(err) {\\n      console.log(err)\\n    }\\n    \",\"tags\":[140288376336784]},\"id\":\"1138\",\"type\":\"CustomJS\"},{\"attributes\":{\"args\":{\"bidirectional\":true,\"properties\":{\"value\":\"width_policy\"},\"source\":{\"id\":\"1113\"},\"target\":{\"id\":\"1119\"}},\"code\":\"\\n    var value = source['value'];\\n    value = value;\\n    value = value;\\n    try {\\n      var property = target.properties['width_policy'];\\n      if (property !== undefined) { property.validate(value); }\\n    } catch(err) {\\n      console.log('WARNING: Could not set width_policy on target, raised error: ' + err);\\n      return;\\n    }\\n    try {\\n      target['width_policy'] = value;\\n    } catch(err) {\\n      console.log(err)\\n    }\\n    \",\"tags\":[140288376337104]},\"id\":\"1150\",\"type\":\"CustomJS\"},{\"attributes\":{\"args\":{\"bidirectional\":true,\"properties\":{\"value\":\"visible\"},\"source\":{\"id\":\"1119\"},\"target\":{\"id\":\"1116\"}},\"code\":\"\\n    var value = source['visible'];\\n    value = value;\\n    value = value ? [0] : [];\\n    try {\\n      var property = target.properties['active'];\\n      if (property !== undefined) { property.validate(value); }\\n    } catch(err) {\\n      console.log('WARNING: Could not set active on target, raised error: ' + err);\\n      return;\\n    }\\n    try {\\n      target['active'] = value;\\n    } catch(err) {\\n      console.log(err)\\n    }\\n    \",\"tags\":[140288376337552]},\"id\":\"1157\",\"type\":\"CustomJS\"},{\"attributes\":{\"args\":{\"bidirectional\":true,\"properties\":{\"value\":\"width\"},\"source\":{\"id\":\"1106\"},\"target\":{\"id\":\"1119\"}},\"code\":\"\\n    var value = source['value'];\\n    value = value;\\n    value = value;\\n    try {\\n      var property = target.properties['width'];\\n      if (property !== undefined) { property.validate(value); }\\n    } catch(err) {\\n      console.log('WARNING: Could not set width on target, raised error: ' + err);\\n      return;\\n    }\\n    try {\\n      target['width'] = value;\\n    } catch(err) {\\n      console.log(err)\\n    }\\n    \",\"tags\":[140288376270736]},\"id\":\"1136\",\"type\":\"CustomJS\"},{\"attributes\":{\"args\":{\"bidirectional\":true,\"properties\":{\"value\":\"width\"},\"source\":{\"id\":\"1119\"},\"target\":{\"id\":\"1106\"}},\"code\":\"\\n    var value = source['width'];\\n    value = value;\\n    value = value;\\n    try {\\n      var property = target.properties['value'];\\n      if (property !== undefined) { property.validate(value); }\\n    } catch(err) {\\n      console.log('WARNING: Could not set value on target, raised error: ' + err);\\n      return;\\n    }\\n    try {\\n      target['value'] = value;\\n    } catch(err) {\\n      console.log(err)\\n    }\\n    \",\"tags\":[140288376270736]},\"id\":\"1137\",\"type\":\"CustomJS\"},{\"attributes\":{\"js_property_callbacks\":{\"change:value\":[{\"id\":\"1154\"}]},\"margin\":[5,10,5,10],\"options\":[[\"fixed\",\"fixed\"],[\"stretch_width\",\"stretch_width\"],[\"stretch_height\",\"stretch_height\"],[\"stretch_both\",\"stretch_both\"],[\"scale_width\",\"scale_width\"],[\"scale_height\",\"scale_height\"],[\"scale_both\",\"scale_both\"],[\"None\",\"None\"]],\"title\":\"Sizing mode\"},\"id\":\"1115\",\"type\":\"Select\"},{\"attributes\":{\"args\":{\"bidirectional\":true,\"properties\":{\"value\":\"height\"},\"source\":{\"id\":\"1119\"},\"target\":{\"id\":\"1107\"}},\"code\":\"\\n    var value = source['height'];\\n    value = value;\\n    value = value;\\n    try {\\n      var property = target.properties['value'];\\n      if (property !== undefined) { property.validate(value); }\\n    } catch(err) {\\n      console.log('WARNING: Could not set value on target, raised error: ' + err);\\n      return;\\n    }\\n    try {\\n      target['value'] = value;\\n    } catch(err) {\\n      console.log(err)\\n    }\\n    \",\"tags\":[140288376336784]},\"id\":\"1139\",\"type\":\"CustomJS\"},{\"attributes\":{\"margin\":[0,0,0,0],\"tabs\":[{\"id\":\"1098\"},{\"id\":\"1118\"}]},\"id\":\"1092\",\"type\":\"Tabs\"},{\"attributes\":{\"args\":{\"bidirectional\":true,\"properties\":{\"value\":\"disabled\"},\"source\":{\"id\":\"1119\"},\"target\":{\"id\":\"1095\"}},\"code\":\"\\n    var value = source['disabled'];\\n    value = value;\\n    value = value ? [0] : [];\\n    try {\\n      var property = target.properties['active'];\\n      if (property !== undefined) { property.validate(value); }\\n    } catch(err) {\\n      console.log('WARNING: Could not set active on target, raised error: ' + err);\\n      return;\\n    }\\n    try {\\n      target['active'] = value;\\n    } catch(err) {\\n      console.log(err)\\n    }\\n    \",\"tags\":[140288375627344]},\"id\":\"1121\",\"type\":\"CustomJS\"},{\"attributes\":{\"args\":{\"bidirectional\":true,\"properties\":{\"value\":\"max_height\"},\"source\":{\"id\":\"1119\"},\"target\":{\"id\":\"1111\"}},\"code\":\"\\n    var value = source['max_height'];\\n    value = value;\\n    value = value;\\n    try {\\n      var property = target.properties['value'];\\n      if (property !== undefined) { property.validate(value); }\\n    } catch(err) {\\n      console.log('WARNING: Could not set value on target, raised error: ' + err);\\n      return;\\n    }\\n    try {\\n      target['value'] = value;\\n    } catch(err) {\\n      console.log(err)\\n    }\\n    \",\"tags\":[140288375625680]},\"id\":\"1147\",\"type\":\"CustomJS\"},{\"attributes\":{\"child\":{\"id\":\"1093\"},\"name\":\"Controls\",\"title\":\"Controls\"},\"id\":\"1098\",\"type\":\"Panel\"},{\"attributes\":{\"active\":[0],\"js_property_callbacks\":{\"change:active\":[{\"id\":\"1156\"}]},\"labels\":[\"Visible\"],\"margin\":[5,10,5,10]},\"id\":\"1116\",\"type\":\"CheckboxGroup\"},{\"attributes\":{\"children\":[{\"id\":\"1094\"},{\"id\":\"1095\"},{\"id\":\"1096\"},{\"id\":\"1097\"}],\"css_classes\":[\"panel-widget-box\"],\"margin\":[5,5,5,5],\"min_width\":300,\"name\":\"Controls\",\"width\":300},\"id\":\"1093\",\"type\":\"Column\"},{\"attributes\":{\"js_property_callbacks\":{\"change:active\":[{\"id\":\"1120\"}]},\"labels\":[\"Disabled\"],\"margin\":[5,10,5,10]},\"id\":\"1095\",\"type\":\"CheckboxGroup\"},{\"attributes\":{\"args\":{\"bidirectional\":true,\"properties\":{\"value\":\"min_width\"},\"source\":{\"id\":\"1108\"},\"target\":{\"id\":\"1119\"}},\"code\":\"\\n    var value = source['value'];\\n    value = value;\\n    value = value;\\n    try {\\n      var property = target.properties['min_width'];\\n      if (property !== undefined) { property.validate(value); }\\n    } catch(err) {\\n      console.log('WARNING: Could not set min_width on target, raised error: ' + err);\\n      return;\\n    }\\n    try {\\n      target['min_width'] = value;\\n    } catch(err) {\\n      console.log(err)\\n    }\\n    \",\"tags\":[140288376336656]},\"id\":\"1140\",\"type\":\"CustomJS\"},{\"attributes\":{\"args\":{\"bidirectional\":true,\"properties\":{\"value\":\"min_width\"},\"source\":{\"id\":\"1119\"},\"target\":{\"id\":\"1108\"}},\"code\":\"\\n    var value = source['min_width'];\\n    value = value;\\n    value = value;\\n    try {\\n      var property = target.properties['value'];\\n      if (property !== undefined) { property.validate(value); }\\n    } catch(err) {\\n      console.log('WARNING: Could not set value on target, raised error: ' + err);\\n      return;\\n    }\\n    try {\\n      target['value'] = value;\\n    } catch(err) {\\n      console.log(err)\\n    }\\n    \",\"tags\":[140288376336656]},\"id\":\"1141\",\"type\":\"CustomJS\"},{\"attributes\":{\"args\":{\"bidirectional\":true,\"properties\":{\"value\":\"options\"},\"source\":{\"id\":\"1096\"},\"target\":{\"id\":\"1119\"}},\"code\":\"\\n    var value = source['value'];\\n    value = JSON.parse(value.replace(/'/g, '\\\"'));\\n    value = value;\\n    try {\\n      var property = target.properties['options'];\\n      if (property !== undefined) { property.validate(value); }\\n    } catch(err) {\\n      console.log('WARNING: Could not set options on target, raised error: ' + err);\\n      return;\\n    }\\n    try {\\n      target['options'] = value;\\n    } catch(err) {\\n      console.log(err)\\n    }\\n    \",\"tags\":[140288375626832]},\"id\":\"1122\",\"type\":\"CustomJS\"},{\"attributes\":{\"margin\":[5,10,5,10],\"name\":\"\",\"text\":\"<b>Controls</b>\"},\"id\":\"1094\",\"type\":\"Div\"},{\"attributes\":{\"args\":{\"bidirectional\":true,\"properties\":{\"value\":\"options\"},\"source\":{\"id\":\"1119\"},\"target\":{\"id\":\"1096\"}},\"code\":\"\\n    var value = source['options'];\\n    value = value;\\n    value = JSON.stringify(value).replace(/,/g, \\\",\\\").replace(/:/g, \\\": \\\");\\n    try {\\n      var property = target.properties['value'];\\n      if (property !== undefined) { property.validate(value); }\\n    } catch(err) {\\n      console.log('WARNING: Could not set value on target, raised error: ' + err);\\n      return;\\n    }\\n    try {\\n      target['value'] = value;\\n    } catch(err) {\\n      console.log(err)\\n    }\\n    \",\"tags\":[140288375626832]},\"id\":\"1123\",\"type\":\"CustomJS\"},{\"attributes\":{\"js_property_callbacks\":{\"change:value\":[{\"id\":\"1122\"}]},\"margin\":[5,10,5,10],\"title\":\"Options\",\"value\":\"[\\\"Biology\\\", \\\"Chemistry\\\", \\\"Physics\\\"]\"},\"id\":\"1096\",\"type\":\"TextInput\"},{\"attributes\":{\"margin\":[5,10,5,10],\"name\":\"\",\"text\":\"<b>Layout</b>\"},\"id\":\"1100\",\"type\":\"Div\"},{\"attributes\":{\"js_property_callbacks\":{\"change:value\":[{\"id\":\"1124\"}]},\"margin\":[5,10,5,10],\"title\":\"Value\",\"value\":\"'Chemistry'\"},\"id\":\"1097\",\"type\":\"TextInput\"},{\"attributes\":{\"args\":{\"bidirectional\":true,\"properties\":{\"value\":\"value\"},\"source\":{\"id\":\"1097\"},\"target\":{\"id\":\"1119\"}},\"code\":\"\\n    var value = source['value'];\\n    value = JSON.parse(value.replace(/'/g, '\\\"'));\\n    value = value;\\n    try {\\n      var property = target.properties['value'];\\n      if (property !== undefined) { property.validate(value); }\\n    } catch(err) {\\n      console.log('WARNING: Could not set value on target, raised error: ' + err);\\n      return;\\n    }\\n    try {\\n      target['value'] = value;\\n    } catch(err) {\\n      console.log(err)\\n    }\\n    \",\"tags\":[140288375626640]},\"id\":\"1124\",\"type\":\"CustomJS\"},{\"attributes\":{\"args\":{\"bidirectional\":true,\"properties\":{\"value\":\"min_height\"},\"source\":{\"id\":\"1109\"},\"target\":{\"id\":\"1119\"}},\"code\":\"\\n    var value = source['value'];\\n    value = value;\\n    value = value;\\n    try {\\n      var property = target.properties['min_height'];\\n      if (property !== undefined) { property.validate(value); }\\n    } catch(err) {\\n      console.log('WARNING: Could not set min_height on target, raised error: ' + err);\\n      return;\\n    }\\n    try {\\n      target['min_height'] = value;\\n    } catch(err) {\\n      console.log(err)\\n    }\\n    \",\"tags\":[140288376336720]},\"id\":\"1142\",\"type\":\"CustomJS\"},{\"attributes\":{\"args\":{\"bidirectional\":true,\"properties\":{\"value\":\"min_height\"},\"source\":{\"id\":\"1119\"},\"target\":{\"id\":\"1109\"}},\"code\":\"\\n    var value = source['min_height'];\\n    value = value;\\n    value = value;\\n    try {\\n      var property = target.properties['value'];\\n      if (property !== undefined) { property.validate(value); }\\n    } catch(err) {\\n      console.log('WARNING: Could not set value on target, raised error: ' + err);\\n      return;\\n    }\\n    try {\\n      target['value'] = value;\\n    } catch(err) {\\n      console.log(err)\\n    }\\n    \",\"tags\":[140288376336720]},\"id\":\"1143\",\"type\":\"CustomJS\"},{\"attributes\":{\"args\":{\"bidirectional\":true,\"properties\":{\"value\":\"value\"},\"source\":{\"id\":\"1119\"},\"target\":{\"id\":\"1097\"}},\"code\":\"\\n    var value = source['value'];\\n    value = value;\\n    value = JSON.stringify(value).replace(/,/g, \\\",\\\").replace(/:/g, \\\": \\\");\\n    try {\\n      var property = target.properties['value'];\\n      if (property !== undefined) { property.validate(value); }\\n    } catch(err) {\\n      console.log('WARNING: Could not set value on target, raised error: ' + err);\\n      return;\\n    }\\n    try {\\n      target['value'] = value;\\n    } catch(err) {\\n      console.log(err)\\n    }\\n    \",\"tags\":[140288375626640]},\"id\":\"1125\",\"type\":\"CustomJS\"},{\"attributes\":{\"args\":{\"bidirectional\":true,\"properties\":{\"value\":\"max_width\"},\"source\":{\"id\":\"1110\"},\"target\":{\"id\":\"1119\"}},\"code\":\"\\n    var value = source['value'];\\n    value = value;\\n    value = value;\\n    try {\\n      var property = target.properties['max_width'];\\n      if (property !== undefined) { property.validate(value); }\\n    } catch(err) {\\n      console.log('WARNING: Could not set max_width on target, raised error: ' + err);\\n      return;\\n    }\\n    try {\\n      target['max_width'] = value;\\n    } catch(err) {\\n      console.log(err)\\n    }\\n    \",\"tags\":[140288375577808]},\"id\":\"1144\",\"type\":\"CustomJS\"},{\"attributes\":{\"children\":[{\"id\":\"1100\"},{\"id\":\"1101\"},{\"id\":\"1102\"},{\"id\":\"1103\"},{\"id\":\"1104\"},{\"id\":\"1105\"},{\"id\":\"1106\"},{\"id\":\"1107\"},{\"id\":\"1108\"},{\"id\":\"1109\"},{\"id\":\"1110\"},{\"id\":\"1111\"},{\"id\":\"1112\"},{\"id\":\"1113\"},{\"id\":\"1114\"},{\"id\":\"1115\"},{\"id\":\"1116\"},{\"id\":\"1117\"}],\"css_classes\":[\"panel-widget-box\"],\"margin\":[5,5,5,5],\"min_width\":300,\"name\":\"Layout\",\"width\":300},\"id\":\"1099\",\"type\":\"Column\"},{\"attributes\":{\"args\":{\"bidirectional\":true,\"properties\":{\"value\":\"name\"},\"source\":{\"id\":\"1101\"},\"target\":{\"id\":\"1119\"}},\"code\":\"\\n    var value = source['value'];\\n    value = value;\\n    value = value;\\n    try {\\n      var property = target.properties['title'];\\n      if (property !== undefined) { property.validate(value); }\\n    } catch(err) {\\n      console.log('WARNING: Could not set title on target, raised error: ' + err);\\n      return;\\n    }\\n    try {\\n      target['title'] = value;\\n    } catch(err) {\\n      console.log(err)\\n    }\\n    \",\"tags\":[140288375626896]},\"id\":\"1126\",\"type\":\"CustomJS\"}],\"root_ids\":[\"1091\",\"1159\"]},\"title\":\"Bokeh Application\",\"version\":\"2.4.2\"}};\n",
       "    var render_items = [{\"docid\":\"14129a26-8591-4f78-a0e5-dd2e66b19396\",\"root_ids\":[\"1091\"],\"roots\":{\"1091\":\"fcbe0a3a-015e-407d-b726-a11e753477ab\"}}];\n",
       "    root.Bokeh.embed.embed_items_notebook(docs_json, render_items);\n",
       "  }\n",
       "  if (root.Bokeh !== undefined && root.Bokeh.Panel !== undefined) {\n",
       "    embed_document(root);\n",
       "  } else {\n",
       "    var attempts = 0;\n",
       "    var timer = setInterval(function(root) {\n",
       "      if (root.Bokeh !== undefined && root.Bokeh.Panel !== undefined) {\n",
       "        clearInterval(timer);\n",
       "        embed_document(root);\n",
       "      } else if (document.readyState == \"complete\") {\n",
       "        attempts++;\n",
       "        if (attempts > 200) {\n",
       "          clearInterval(timer);\n",
       "          console.log(\"Bokeh: ERROR: Unable to run BokehJS code because BokehJS library is missing\");\n",
       "        }\n",
       "      }\n",
       "    }, 25, root)\n",
       "  }\n",
       "})(window);</script>"
      ],
      "text/plain": [
       "Row\n",
       "    [0] Tabs\n",
       "        [0] WidgetBox(name='Controls', width=300)\n",
       "            [0] StaticText(value='<b>Controls</b>')\n",
       "            [1] Checkbox(name='Disabled')\n",
       "            [2] LiteralInput(name='Options', serializer='json', value=['Biology', 'Chemistry', ...])\n",
       "            [3] LiteralInput(name='Value', serializer='json', value='Chemistry')\n",
       "        [1] WidgetBox(name='Layout', width=300)\n",
       "            [0] StaticText(value='<b>Layout</b>')\n",
       "            [1] TextInput(name='Name', value='Select')\n",
       "            [2] LiteralInput(name='Align', serializer='json', value='start')\n",
       "            [3] LiteralInput(name='Aspect ratio', serializer='json')\n",
       "            [4] LiteralInput(name='Background', serializer='json')\n",
       "            [5] ListInput(name='Css classes', serializer='json', type=<class 'list'>)\n",
       "            [6] IntInput(name='Width', start=0)\n",
       "            [7] IntInput(name='Height', start=0)\n",
       "            [8] IntInput(name='Min width', start=0)\n",
       "            [9] IntInput(name='Min height', start=0)\n",
       "            [10] IntInput(name='Max width', start=0)\n",
       "            [11] IntInput(name='Max height', start=0)\n",
       "            [12] LiteralInput(name='Margin', serializer='json', value=(5, 10))\n",
       "            [13] Select(name='Width policy', options=OrderedDict([('auto', ...]), value='auto')\n",
       "            [14] Select(name='Height policy', options=OrderedDict([('auto', ...]), value='auto')\n",
       "            [15] Select(name='Sizing mode', options=OrderedDict([('fixed', ...]))\n",
       "            [16] Checkbox(name='Visible', value=True)\n",
       "            [17] Checkbox(name='Loading')\n",
       "    [1] Select(options=['Biology', 'Chemistry', ...], value='Chemistry')"
      ]
     },
     "execution_count": 28,
     "metadata": {
      "application/vnd.holoviews_exec.v0+json": {
       "id": "1091"
      }
     },
     "output_type": "execute_result"
    }
   ],
   "source": [
    "pn.Row(select.controls(jslink=True), select)"
   ]
  }
 ],
 "metadata": {
  "kernelspec": {
   "display_name": "Python [conda env:pyvizenv] *",
   "language": "python",
   "name": "conda-env-pyvizenv-py"
  },
  "language_info": {
   "codemirror_mode": {
    "name": "ipython",
    "version": 3
   },
   "file_extension": ".py",
   "mimetype": "text/x-python",
   "name": "python",
   "nbconvert_exporter": "python",
   "pygments_lexer": "ipython3",
   "version": "3.7.11"
  }
 },
 "nbformat": 4,
 "nbformat_minor": 4
}
