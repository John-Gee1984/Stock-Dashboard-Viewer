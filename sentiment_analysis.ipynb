{
 "cells": [
  {
   "cell_type": "code",
   "execution_count": 3,
   "metadata": {},
   "outputs": [],
   "source": [
    "from textblob import TextBlob\n",
    "from textblob.sentiments import NaiveBayesAnalyzer\n",
    "import pandas as pd\n",
    "import time\n",
    "import progressbar"
   ]
  },
  {
   "cell_type": "code",
   "execution_count": 4,
   "metadata": {},
   "outputs": [],
   "source": [
    "tweets_df = pd.read_csv(\"search_tweets.csv\")"
   ]
  },
  {
   "cell_type": "code",
   "execution_count": 5,
   "metadata": {},
   "outputs": [
    {
     "data": {
      "text/plain": [
       "100"
      ]
     },
     "execution_count": 5,
     "metadata": {},
     "output_type": "execute_result"
    }
   ],
   "source": [
    "len(tweets_df[\"Text\"])"
   ]
  },
  {
   "cell_type": "code",
   "execution_count": 6,
   "metadata": {},
   "outputs": [],
   "source": [
    "class_data = []\n",
    "p_positive = []\n",
    "p_negative = []"
   ]
  },
  {
   "cell_type": "code",
   "execution_count": 7,
   "metadata": {},
   "outputs": [
    {
     "name": "stderr",
     "output_type": "stream",
     "text": [
      "100% (100 of 100) |######################| Elapsed Time: 0:03:37 ETA:  00:00:00"
     ]
    }
   ],
   "source": [
    "count = 0\n",
    "\n",
    "bar = progressbar.ProgressBar(max_value=len(tweets_df[\"Text\"]))\n",
    "\n",
    "for tweet in tweets_df[\"Text\"]:\n",
    "    analysis = TextBlob(tweet, analyzer=NaiveBayesAnalyzer()).sentiment\n",
    "    class_data.append(analysis[0])\n",
    "    p_positive.append(analysis[1])\n",
    "    p_negative.append(analysis[2])\n",
    "    #print(count)\n",
    "    count+=1\n",
    "    bar.update(count)"
   ]
  },
  {
   "cell_type": "code",
   "execution_count": 8,
   "metadata": {},
   "outputs": [],
   "source": [
    "tweets_df[\"classification\"] = class_data\n",
    "tweets_df[\"p_positive\"] = p_positive\n",
    "tweets_df[\"p_negative\"] = p_negative"
   ]
  },
  {
   "cell_type": "code",
   "execution_count": 9,
   "metadata": {},
   "outputs": [
    {
     "data": {
      "text/html": [
       "<div>\n",
       "<style scoped>\n",
       "    .dataframe tbody tr th:only-of-type {\n",
       "        vertical-align: middle;\n",
       "    }\n",
       "\n",
       "    .dataframe tbody tr th {\n",
       "        vertical-align: top;\n",
       "    }\n",
       "\n",
       "    .dataframe thead th {\n",
       "        text-align: right;\n",
       "    }\n",
       "</style>\n",
       "<table border=\"1\" class=\"dataframe\">\n",
       "  <thead>\n",
       "    <tr style=\"text-align: right;\">\n",
       "      <th></th>\n",
       "      <th>ID</th>\n",
       "      <th>Text</th>\n",
       "      <th>classification</th>\n",
       "      <th>p_positive</th>\n",
       "      <th>p_negative</th>\n",
       "    </tr>\n",
       "  </thead>\n",
       "  <tbody>\n",
       "    <tr>\n",
       "      <th>0</th>\n",
       "      <td>1490112655620771842</td>\n",
       "      <td>RT @cryptOhGaga: @wildkait Little something I'...</td>\n",
       "      <td>pos</td>\n",
       "      <td>0.706080</td>\n",
       "      <td>0.293920</td>\n",
       "    </tr>\n",
       "    <tr>\n",
       "      <th>1</th>\n",
       "      <td>1490111746081804288</td>\n",
       "      <td>@KessInvesting Thank for this kess. In the spi...</td>\n",
       "      <td>pos</td>\n",
       "      <td>0.783551</td>\n",
       "      <td>0.216449</td>\n",
       "    </tr>\n",
       "    <tr>\n",
       "      <th>2</th>\n",
       "      <td>1490111715517755394</td>\n",
       "      <td>RT @DefinitionBot: Count of mentions for the t...</td>\n",
       "      <td>neg</td>\n",
       "      <td>0.233444</td>\n",
       "      <td>0.766556</td>\n",
       "    </tr>\n",
       "    <tr>\n",
       "      <th>3</th>\n",
       "      <td>1490111710866583552</td>\n",
       "      <td>RT @DefinitionBot: Count of mentions for the t...</td>\n",
       "      <td>neg</td>\n",
       "      <td>0.233444</td>\n",
       "      <td>0.766556</td>\n",
       "    </tr>\n",
       "    <tr>\n",
       "      <th>4</th>\n",
       "      <td>1490111706088947712</td>\n",
       "      <td>RT @DefinitionBot: Count of mentions for the t...</td>\n",
       "      <td>neg</td>\n",
       "      <td>0.233444</td>\n",
       "      <td>0.766556</td>\n",
       "    </tr>\n",
       "    <tr>\n",
       "      <th>...</th>\n",
       "      <td>...</td>\n",
       "      <td>...</td>\n",
       "      <td>...</td>\n",
       "      <td>...</td>\n",
       "      <td>...</td>\n",
       "    </tr>\n",
       "    <tr>\n",
       "      <th>95</th>\n",
       "      <td>1490085184724774914</td>\n",
       "      <td>$SPY $TSLA $LCID $AMZN $NVDA All 5 posted idea...</td>\n",
       "      <td>pos</td>\n",
       "      <td>0.508655</td>\n",
       "      <td>0.491345</td>\n",
       "    </tr>\n",
       "    <tr>\n",
       "      <th>96</th>\n",
       "      <td>1490085007574159365</td>\n",
       "      <td>RT @JaboodyShow: 🔴 We are LIVE!\\n\\nToday we ar...</td>\n",
       "      <td>pos</td>\n",
       "      <td>0.725837</td>\n",
       "      <td>0.274163</td>\n",
       "    </tr>\n",
       "    <tr>\n",
       "      <th>97</th>\n",
       "      <td>1490084859397943296</td>\n",
       "      <td>RT @Stock_Market_Pr: Need Fast Computer? i7 47...</td>\n",
       "      <td>pos</td>\n",
       "      <td>0.878626</td>\n",
       "      <td>0.121374</td>\n",
       "    </tr>\n",
       "    <tr>\n",
       "      <th>98</th>\n",
       "      <td>1490084850111422466</td>\n",
       "      <td>RT @Stock_Market_Pr: Need Fast Computer? i7 47...</td>\n",
       "      <td>pos</td>\n",
       "      <td>0.878626</td>\n",
       "      <td>0.121374</td>\n",
       "    </tr>\n",
       "    <tr>\n",
       "      <th>99</th>\n",
       "      <td>1490084502148124672</td>\n",
       "      <td>RT @DefinitionBot: Count of mentions for the t...</td>\n",
       "      <td>neg</td>\n",
       "      <td>0.218552</td>\n",
       "      <td>0.781448</td>\n",
       "    </tr>\n",
       "  </tbody>\n",
       "</table>\n",
       "<p>100 rows × 5 columns</p>\n",
       "</div>"
      ],
      "text/plain": [
       "                     ID                                               Text  \\\n",
       "0   1490112655620771842  RT @cryptOhGaga: @wildkait Little something I'...   \n",
       "1   1490111746081804288  @KessInvesting Thank for this kess. In the spi...   \n",
       "2   1490111715517755394  RT @DefinitionBot: Count of mentions for the t...   \n",
       "3   1490111710866583552  RT @DefinitionBot: Count of mentions for the t...   \n",
       "4   1490111706088947712  RT @DefinitionBot: Count of mentions for the t...   \n",
       "..                  ...                                                ...   \n",
       "95  1490085184724774914  $SPY $TSLA $LCID $AMZN $NVDA All 5 posted idea...   \n",
       "96  1490085007574159365  RT @JaboodyShow: 🔴 We are LIVE!\\n\\nToday we ar...   \n",
       "97  1490084859397943296  RT @Stock_Market_Pr: Need Fast Computer? i7 47...   \n",
       "98  1490084850111422466  RT @Stock_Market_Pr: Need Fast Computer? i7 47...   \n",
       "99  1490084502148124672  RT @DefinitionBot: Count of mentions for the t...   \n",
       "\n",
       "   classification  p_positive  p_negative  \n",
       "0             pos    0.706080    0.293920  \n",
       "1             pos    0.783551    0.216449  \n",
       "2             neg    0.233444    0.766556  \n",
       "3             neg    0.233444    0.766556  \n",
       "4             neg    0.233444    0.766556  \n",
       "..            ...         ...         ...  \n",
       "95            pos    0.508655    0.491345  \n",
       "96            pos    0.725837    0.274163  \n",
       "97            pos    0.878626    0.121374  \n",
       "98            pos    0.878626    0.121374  \n",
       "99            neg    0.218552    0.781448  \n",
       "\n",
       "[100 rows x 5 columns]"
      ]
     },
     "execution_count": 9,
     "metadata": {},
     "output_type": "execute_result"
    }
   ],
   "source": [
    "tweets_df"
   ]
  },
  {
   "cell_type": "code",
   "execution_count": 10,
   "metadata": {},
   "outputs": [
    {
     "data": {
      "text/plain": [
       "neg    64\n",
       "pos    36\n",
       "Name: classification, dtype: int64"
      ]
     },
     "execution_count": 10,
     "metadata": {},
     "output_type": "execute_result"
    }
   ],
   "source": [
    "tweets_df[\"classification\"].value_counts()"
   ]
  },
  {
   "cell_type": "code",
   "execution_count": 12,
   "metadata": {},
   "outputs": [
    {
     "data": {
      "text/plain": [
       "<AxesSubplot:title={'center':'Sentiment Analysis'}, ylabel='classification'>"
      ]
     },
     "execution_count": 12,
     "metadata": {},
     "output_type": "execute_result"
    },
    {
     "data": {
      "image/png": "[encoded data removed]",
      "text/plain": [
       "<Figure size 432x288 with 1 Axes>"
      ]
     },
     "metadata": {},
     "output_type": "display_data"
    }
   ],
   "source": [
    "tweets_df[\"classification\"].value_counts().plot(kind=\"pie\",title=\"Sentiment Analysis\")"
   ]
  },
  {
   "cell_type": "code",
   "execution_count": 13,
   "metadata": {},
   "outputs": [],
   "source": [
    "tweets_df.to_csv(\"sentiment_analysis_NVIDIA.csv\",index=False)"
   ]
  },
  {
   "cell_type": "code",
   "execution_count": null,
   "metadata": {},
   "outputs": [],
   "source": []
  }
 ],
 "metadata": {
  "kernelspec": {
   "display_name": "Python 3",
   "language": "python",
   "name": "python3"
  },
  "language_info": {
   "codemirror_mode": {
    "name": "ipython",
    "version": 3
   },
   "file_extension": ".py",
   "mimetype": "text/x-python",
   "name": "python",
   "nbconvert_exporter": "python",
   "pygments_lexer": "ipython3",
   "version": "3.7.11"
  }
 },
 "nbformat": 4,
 "nbformat_minor": 5
}
